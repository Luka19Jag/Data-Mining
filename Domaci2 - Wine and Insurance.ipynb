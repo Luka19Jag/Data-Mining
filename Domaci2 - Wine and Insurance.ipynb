{
 "cells": [
  {
   "cell_type": "code",
   "execution_count": 425,
   "id": "f207f31f",
   "metadata": {},
   "outputs": [],
   "source": [
    "import numpy as np\n",
    "import pandas as pnd\n",
    "from sklearn.linear_model import LogisticRegression\n",
    "from sklearn.metrics import precision_score, recall_score, f1_score, accuracy_score, confusion_matrix, make_scorer,mean_absolute_error,mean_squared_error,r2_score\n",
    "from sklearn.tree import DecisionTreeClassifier, plot_tree\n",
    "from sklearn.naive_bayes import GaussianNB\n",
    "from sklearn.neighbors import KNeighborsClassifier\n",
    "from sklearn.model_selection import train_test_split, KFold, cross_validate"
   ]
  },
  {
   "cell_type": "code",
   "execution_count": 452,
   "id": "7f461896",
   "metadata": {},
   "outputs": [],
   "source": [
    "from sklearn.linear_model import LinearRegression\n",
    "import seaborn as sns\n",
    "from sklearn.tree import DecisionTreeRegressor, plot_tree\n",
    "from sklearn.pipeline import Pipeline\n",
    "from sklearn.impute import SimpleImputer\n",
    "from sklearn.preprocessing import OneHotEncoder\n",
    "from sklearn.compose import ColumnTransformer\n",
    "from matplotlib import pyplot as plt\n",
    "from sklearn.linear_model import Ridge\n",
    "from sklearn.model_selection import cross_val_score\n",
    "from sklearn.decomposition import PCA\n",
    "from sklearn.model_selection import GridSearchCV\n",
    "from sklearn.tree import export_graphviz \n",
    "from sklearn import decomposition\n",
    "from sklearn.preprocessing import StandardScaler"
   ]
  },
  {
   "cell_type": "code",
   "execution_count": 3,
   "id": "210cb1d3",
   "metadata": {},
   "outputs": [],
   "source": [
    "import warnings\n",
    "warnings.filterwarnings(\"ignore\")"
   ]
  },
  {
   "cell_type": "markdown",
   "id": "66ddcb5e",
   "metadata": {},
   "source": [
    "# 1. Wine dataset"
   ]
  },
  {
   "cell_type": "code",
   "execution_count": 4,
   "id": "0841e617",
   "metadata": {},
   "outputs": [],
   "source": [
    "wines = pnd.read_csv('Desktop\\wine_quality.csv')"
   ]
  },
  {
   "cell_type": "code",
   "execution_count": 5,
   "id": "9d6be98b",
   "metadata": {},
   "outputs": [
    {
     "data": {
      "text/html": [
       "<div>\n",
       "<style scoped>\n",
       "    .dataframe tbody tr th:only-of-type {\n",
       "        vertical-align: middle;\n",
       "    }\n",
       "\n",
       "    .dataframe tbody tr th {\n",
       "        vertical-align: top;\n",
       "    }\n",
       "\n",
       "    .dataframe thead th {\n",
       "        text-align: right;\n",
       "    }\n",
       "</style>\n",
       "<table border=\"1\" class=\"dataframe\">\n",
       "  <thead>\n",
       "    <tr style=\"text-align: right;\">\n",
       "      <th></th>\n",
       "      <th>fixed acidity</th>\n",
       "      <th>volatile acidity</th>\n",
       "      <th>citric acid</th>\n",
       "      <th>residual sugar</th>\n",
       "      <th>chlorides</th>\n",
       "      <th>free sulfur dioxide</th>\n",
       "      <th>total sulfur dioxide</th>\n",
       "      <th>density</th>\n",
       "      <th>pH</th>\n",
       "      <th>sulphates</th>\n",
       "      <th>alcohol</th>\n",
       "      <th>top_quality</th>\n",
       "    </tr>\n",
       "  </thead>\n",
       "  <tbody>\n",
       "    <tr>\n",
       "      <th>0</th>\n",
       "      <td>7.0</td>\n",
       "      <td>0.27</td>\n",
       "      <td>0.36</td>\n",
       "      <td>20.7</td>\n",
       "      <td>0.045</td>\n",
       "      <td>45.0</td>\n",
       "      <td>170.0</td>\n",
       "      <td>1.0010</td>\n",
       "      <td>3.00</td>\n",
       "      <td>0.45</td>\n",
       "      <td>8.8</td>\n",
       "      <td>0</td>\n",
       "    </tr>\n",
       "    <tr>\n",
       "      <th>1</th>\n",
       "      <td>6.3</td>\n",
       "      <td>0.30</td>\n",
       "      <td>0.34</td>\n",
       "      <td>1.6</td>\n",
       "      <td>0.049</td>\n",
       "      <td>14.0</td>\n",
       "      <td>132.0</td>\n",
       "      <td>0.9940</td>\n",
       "      <td>3.30</td>\n",
       "      <td>0.49</td>\n",
       "      <td>9.5</td>\n",
       "      <td>0</td>\n",
       "    </tr>\n",
       "    <tr>\n",
       "      <th>2</th>\n",
       "      <td>8.1</td>\n",
       "      <td>0.28</td>\n",
       "      <td>0.40</td>\n",
       "      <td>6.9</td>\n",
       "      <td>0.050</td>\n",
       "      <td>30.0</td>\n",
       "      <td>97.0</td>\n",
       "      <td>0.9951</td>\n",
       "      <td>3.26</td>\n",
       "      <td>0.44</td>\n",
       "      <td>10.1</td>\n",
       "      <td>0</td>\n",
       "    </tr>\n",
       "    <tr>\n",
       "      <th>3</th>\n",
       "      <td>7.2</td>\n",
       "      <td>0.23</td>\n",
       "      <td>0.32</td>\n",
       "      <td>8.5</td>\n",
       "      <td>0.058</td>\n",
       "      <td>47.0</td>\n",
       "      <td>186.0</td>\n",
       "      <td>0.9956</td>\n",
       "      <td>3.19</td>\n",
       "      <td>0.40</td>\n",
       "      <td>9.9</td>\n",
       "      <td>0</td>\n",
       "    </tr>\n",
       "    <tr>\n",
       "      <th>4</th>\n",
       "      <td>7.2</td>\n",
       "      <td>0.23</td>\n",
       "      <td>0.32</td>\n",
       "      <td>8.5</td>\n",
       "      <td>0.058</td>\n",
       "      <td>47.0</td>\n",
       "      <td>186.0</td>\n",
       "      <td>0.9956</td>\n",
       "      <td>3.19</td>\n",
       "      <td>0.40</td>\n",
       "      <td>9.9</td>\n",
       "      <td>0</td>\n",
       "    </tr>\n",
       "  </tbody>\n",
       "</table>\n",
       "</div>"
      ],
      "text/plain": [
       "   fixed acidity  volatile acidity  citric acid  residual sugar  chlorides  \\\n",
       "0            7.0              0.27         0.36            20.7      0.045   \n",
       "1            6.3              0.30         0.34             1.6      0.049   \n",
       "2            8.1              0.28         0.40             6.9      0.050   \n",
       "3            7.2              0.23         0.32             8.5      0.058   \n",
       "4            7.2              0.23         0.32             8.5      0.058   \n",
       "\n",
       "   free sulfur dioxide  total sulfur dioxide  density    pH  sulphates  \\\n",
       "0                 45.0                 170.0   1.0010  3.00       0.45   \n",
       "1                 14.0                 132.0   0.9940  3.30       0.49   \n",
       "2                 30.0                  97.0   0.9951  3.26       0.44   \n",
       "3                 47.0                 186.0   0.9956  3.19       0.40   \n",
       "4                 47.0                 186.0   0.9956  3.19       0.40   \n",
       "\n",
       "   alcohol  top_quality  \n",
       "0      8.8            0  \n",
       "1      9.5            0  \n",
       "2     10.1            0  \n",
       "3      9.9            0  \n",
       "4      9.9            0  "
      ]
     },
     "execution_count": 5,
     "metadata": {},
     "output_type": "execute_result"
    }
   ],
   "source": [
    "wines.head()"
   ]
  },
  {
   "cell_type": "code",
   "execution_count": 6,
   "id": "e4e71ea4",
   "metadata": {},
   "outputs": [
    {
     "data": {
      "text/plain": [
       "fixed acidity           0\n",
       "volatile acidity        0\n",
       "citric acid             0\n",
       "residual sugar          0\n",
       "chlorides               0\n",
       "free sulfur dioxide     0\n",
       "total sulfur dioxide    0\n",
       "density                 0\n",
       "pH                      0\n",
       "sulphates               0\n",
       "alcohol                 0\n",
       "top_quality             0\n",
       "dtype: int64"
      ]
     },
     "execution_count": 6,
     "metadata": {},
     "output_type": "execute_result"
    }
   ],
   "source": [
    "wines.isna().sum()"
   ]
  },
  {
   "cell_type": "code",
   "execution_count": 7,
   "id": "6b916925",
   "metadata": {},
   "outputs": [
    {
     "data": {
      "text/plain": [
       "fixed acidity           float64\n",
       "volatile acidity        float64\n",
       "citric acid             float64\n",
       "residual sugar          float64\n",
       "chlorides               float64\n",
       "free sulfur dioxide     float64\n",
       "total sulfur dioxide    float64\n",
       "density                 float64\n",
       "pH                      float64\n",
       "sulphates               float64\n",
       "alcohol                 float64\n",
       "top_quality               int64\n",
       "dtype: object"
      ]
     },
     "execution_count": 7,
     "metadata": {},
     "output_type": "execute_result"
    }
   ],
   "source": [
    "wines.dtypes"
   ]
  },
  {
   "cell_type": "code",
   "execution_count": 8,
   "id": "7a7f917a",
   "metadata": {},
   "outputs": [],
   "source": [
    "X = wines.iloc[:, :-1]\n",
    "y = wines.iloc[:, -1]"
   ]
  },
  {
   "cell_type": "code",
   "execution_count": 9,
   "id": "1cd8e286",
   "metadata": {},
   "outputs": [],
   "source": [
    "X_train, X_test, y_train, y_test = train_test_split(X, y, test_size=0.3, random_state=2019)"
   ]
  },
  {
   "cell_type": "code",
   "execution_count": 10,
   "id": "0a954045",
   "metadata": {},
   "outputs": [],
   "source": [
    "algLR = LogisticRegression()\n",
    "algNB = GaussianNB()\n",
    "algKNN = KNeighborsClassifier()\n",
    "algDT = DecisionTreeClassifier()"
   ]
  },
  {
   "cell_type": "code",
   "execution_count": 11,
   "id": "47e7b019",
   "metadata": {},
   "outputs": [],
   "source": [
    "modelLR = algLR.fit(X_train, y_train)\n",
    "modelNB = algNB.fit(X_train, y_train)\n",
    "modelKNN = algKNN.fit(X_train, y_train)\n",
    "modelDT = algDT.fit(X_train, y_train)\n",
    "models = [modelLR, modelNB, modelKNN, modelDT]"
   ]
  },
  {
   "cell_type": "code",
   "execution_count": 12,
   "id": "ae86b3e3",
   "metadata": {},
   "outputs": [
    {
     "data": {
      "text/plain": [
       "array([0, 0, 1, ..., 0, 0, 0], dtype=int64)"
      ]
     },
     "execution_count": 12,
     "metadata": {},
     "output_type": "execute_result"
    }
   ],
   "source": [
    "modelLR.predict(X_test)"
   ]
  },
  {
   "cell_type": "code",
   "execution_count": 13,
   "id": "95a3d085",
   "metadata": {},
   "outputs": [],
   "source": [
    "def print_performance(y, y_hat):\n",
    "    print(f'Accuracy: {accuracy_score(y, y_hat)}')\n",
    "    print(f'Precision: {precision_score(y, y_hat)}')\n",
    "    print(f'Recall: {recall_score(y, y_hat)}')\n",
    "    print(f'F1: {f1_score(y, y_hat)}')"
   ]
  },
  {
   "cell_type": "code",
   "execution_count": 14,
   "id": "135d50e5",
   "metadata": {},
   "outputs": [
    {
     "name": "stdout",
     "output_type": "stream",
     "text": [
      "MODEL: LogisticRegression()\n",
      "\n",
      "Confusion matrix:\n",
      "[[1110   39]\n",
      " [ 249   72]]\n",
      "\n",
      "Metrics:\n",
      "Accuracy: 0.8040816326530612\n",
      "Precision: 0.6486486486486487\n",
      "Recall: 0.22429906542056074\n",
      "F1: 0.3333333333333333\n",
      "\n",
      "\n",
      "MODEL: GaussianNB()\n",
      "\n",
      "Confusion matrix:\n",
      "[[843 306]\n",
      " [ 98 223]]\n",
      "\n",
      "Metrics:\n",
      "Accuracy: 0.7251700680272108\n",
      "Precision: 0.4215500945179584\n",
      "Recall: 0.6947040498442367\n",
      "F1: 0.5247058823529411\n",
      "\n",
      "\n",
      "MODEL: KNeighborsClassifier()\n",
      "\n",
      "Confusion matrix:\n",
      "[[1036  113]\n",
      " [ 202  119]]\n",
      "\n",
      "Metrics:\n",
      "Accuracy: 0.7857142857142857\n",
      "Precision: 0.5129310344827587\n",
      "Recall: 0.3707165109034268\n",
      "F1: 0.43037974683544306\n",
      "\n",
      "\n",
      "MODEL: DecisionTreeClassifier()\n",
      "\n",
      "Confusion matrix:\n",
      "[[1015  134]\n",
      " [ 123  198]]\n",
      "\n",
      "Metrics:\n",
      "Accuracy: 0.8251700680272109\n",
      "Precision: 0.5963855421686747\n",
      "Recall: 0.616822429906542\n",
      "F1: 0.6064318529862175\n",
      "\n",
      "\n"
     ]
    }
   ],
   "source": [
    "for model in models:\n",
    "    print(f\"MODEL: {model}\")\n",
    "    print()\n",
    "    print(\"Confusion matrix:\")\n",
    "    y_pred = model.predict(X_test)\n",
    "    print(confusion_matrix(y_true=y_test,  y_pred = y_pred))\n",
    "    print()\n",
    "    print(\"Metrics:\")\n",
    "    print_performance(y_test, y_pred)\n",
    "    print()\n",
    "    print()"
   ]
  },
  {
   "cell_type": "code",
   "execution_count": 15,
   "id": "015659d5",
   "metadata": {},
   "outputs": [],
   "source": [
    "def eval_cross_val(models, X, y):\n",
    "    folds = KFold(n_splits=10)\n",
    "    for model in models:\n",
    "        i = 1\n",
    "        results = []\n",
    "        print(f\"MODEL: {model}\")\n",
    "        for train_index, test_index in folds.split(X):\n",
    "            X_train, y_train  = X.loc[train_index, :], y[train_index]\n",
    "            X_test, y_test = X.loc[test_index], y[test_index]\n",
    "\n",
    "            model.fit(X_train, y_train)\n",
    "\n",
    "            y_pred = model.predict(X_test)\n",
    "            results.append(accuracy_score(y_test, y_pred))\n",
    "            print(f\"{i} Iteration - Accuracy: {accuracy_score(y_test, y_pred)}\")\n",
    "            i = i +1\n",
    "        print(f\"Average accuracy for model {model}: {round(np.mean(results), 2)}, \"\n",
    "              f\"and standard deviation of prediction error {round(np.std(results)*100, 2)}%\")\n",
    "        print()"
   ]
  },
  {
   "cell_type": "code",
   "execution_count": 16,
   "id": "abe64407",
   "metadata": {},
   "outputs": [
    {
     "name": "stdout",
     "output_type": "stream",
     "text": [
      "MODEL: LogisticRegression()\n",
      "1 Iteration - Accuracy: 0.8306122448979592\n",
      "2 Iteration - Accuracy: 0.7408163265306122\n",
      "3 Iteration - Accuracy: 0.7489795918367347\n",
      "4 Iteration - Accuracy: 0.8326530612244898\n",
      "5 Iteration - Accuracy: 0.8693877551020408\n",
      "6 Iteration - Accuracy: 0.7877551020408163\n",
      "7 Iteration - Accuracy: 0.7408163265306122\n",
      "8 Iteration - Accuracy: 0.8\n",
      "9 Iteration - Accuracy: 0.8159509202453987\n",
      "10 Iteration - Accuracy: 0.7566462167689162\n",
      "Average accuracy for model LogisticRegression(): 0.79, and standard deviation of prediction error 4.26%\n",
      "\n",
      "MODEL: GaussianNB()\n",
      "1 Iteration - Accuracy: 0.8142857142857143\n",
      "2 Iteration - Accuracy: 0.7714285714285715\n",
      "3 Iteration - Accuracy: 0.7428571428571429\n",
      "4 Iteration - Accuracy: 0.8040816326530612\n",
      "5 Iteration - Accuracy: 0.763265306122449\n",
      "6 Iteration - Accuracy: 0.726530612244898\n",
      "7 Iteration - Accuracy: 0.6693877551020408\n",
      "8 Iteration - Accuracy: 0.6918367346938775\n",
      "9 Iteration - Accuracy: 0.6441717791411042\n",
      "10 Iteration - Accuracy: 0.6339468302658486\n",
      "Average accuracy for model GaussianNB(): 0.73, and standard deviation of prediction error 6.1%\n",
      "\n",
      "MODEL: KNeighborsClassifier()\n",
      "1 Iteration - Accuracy: 0.7795918367346939\n",
      "2 Iteration - Accuracy: 0.7591836734693878\n",
      "3 Iteration - Accuracy: 0.7387755102040816\n",
      "4 Iteration - Accuracy: 0.7877551020408163\n",
      "5 Iteration - Accuracy: 0.8367346938775511\n",
      "6 Iteration - Accuracy: 0.7551020408163265\n",
      "7 Iteration - Accuracy: 0.6918367346938775\n",
      "8 Iteration - Accuracy: 0.7122448979591837\n",
      "9 Iteration - Accuracy: 0.7402862985685071\n",
      "10 Iteration - Accuracy: 0.7177914110429447\n",
      "Average accuracy for model KNeighborsClassifier(): 0.75, and standard deviation of prediction error 4.0%\n",
      "\n",
      "MODEL: DecisionTreeClassifier()\n",
      "1 Iteration - Accuracy: 0.7979591836734694\n",
      "2 Iteration - Accuracy: 0.7387755102040816\n",
      "3 Iteration - Accuracy: 0.710204081632653\n",
      "4 Iteration - Accuracy: 0.7938775510204081\n",
      "5 Iteration - Accuracy: 0.8122448979591836\n",
      "6 Iteration - Accuracy: 0.763265306122449\n",
      "7 Iteration - Accuracy: 0.6959183673469388\n",
      "8 Iteration - Accuracy: 0.6693877551020408\n",
      "9 Iteration - Accuracy: 0.7689161554192229\n",
      "10 Iteration - Accuracy: 0.7157464212678937\n",
      "Average accuracy for model DecisionTreeClassifier(): 0.75, and standard deviation of prediction error 4.56%\n",
      "\n"
     ]
    }
   ],
   "source": [
    "eval_cross_val(models, X, y)"
   ]
  },
  {
   "cell_type": "code",
   "execution_count": 17,
   "id": "f8dea0b6",
   "metadata": {},
   "outputs": [
    {
     "name": "stdout",
     "output_type": "stream",
     "text": [
      "MODEL: LogisticRegression()\n",
      "\n",
      "           TEST   TRAIN\n",
      "Accuracy:  0.8,   0.8\n",
      "Precision: 0.66,   0.59\n",
      "Recall:    0.23,   0.22\n",
      "\n",
      "MODEL: GaussianNB()\n",
      "\n",
      "           TEST   TRAIN\n",
      "Accuracy:  0.73,   0.73\n",
      "Precision: 0.44,   0.42\n",
      "Recall:    0.71,   0.71\n",
      "\n",
      "MODEL: KNeighborsClassifier()\n",
      "\n",
      "           TEST   TRAIN\n",
      "Accuracy:  0.75,   0.86\n",
      "Precision: 0.41,   0.73\n",
      "Recall:    0.28,   0.55\n",
      "\n",
      "MODEL: DecisionTreeClassifier()\n",
      "\n",
      "           TEST   TRAIN\n",
      "Accuracy:  0.74,   1.0\n",
      "Precision: 0.41,   1.0\n",
      "Recall:    0.42,   1.0\n",
      "\n"
     ]
    }
   ],
   "source": [
    "\n",
    "for model in models:\n",
    "    print(f\"MODEL: {model}\")\n",
    "    print()\n",
    "    results = cross_validate(model, X, y, cv=10, scoring=['accuracy', 'precision', 'recall', 'f1'], return_train_score = True)\n",
    "    print(\"           TEST   TRAIN\")\n",
    "    print(f\"Accuracy:  {round(np.mean(results['test_accuracy']), 2)},   {round(np.mean(results['train_accuracy']), 2)}\")\n",
    "    print(f\"Precision: {round(np.mean(results['test_precision']), 2)},   {round(np.mean(results['train_precision']), 2)}\")\n",
    "    print(f\"Recall:    {round(np.mean(results['test_recall']), 2)},   {round(np.mean(results['train_recall']), 2)}\")\n",
    "    print()"
   ]
  },
  {
   "cell_type": "markdown",
   "id": "00584615",
   "metadata": {},
   "source": [
    "'''Na osnovu dobijenih metrika moze se zakljuciti da modele dobijene logistickom regresijom, kao i Naivnim Bajesom,\n",
    "ne karakterisu visoka pristrasnost i varijansa, dok se kod modela dobijenih KNN metodom i stablom odlucivanja primecuje\n",
    "razlika u metrikama za train i test deo, tako da se moze reci da postoji prenaucenost modela.\n",
    "'''"
   ]
  },
  {
   "cell_type": "markdown",
   "id": "c903f588",
   "metadata": {},
   "source": [
    "'''S obzirom da se navedeni modeli bave otkrivanjem visokokvalitetnih vina, tj pozitivna klasa su top_vina,\n",
    "moze se smatrati da daleko veci trosak nastaje ukoliko model propusti da vino vrhunskog kvaliteta svrsta u grupu\n",
    "top_wines, nego ukoliko vino loseg kvaliteta svrsta u ovu grupu. Iz tog razloga moze se smatrati da je najbitnija\n",
    "metrika ODZIV (RECALL) jer stavlja u odnost broj visokokvalitetnih vina koji su svrstani u klasu top_wines\n",
    "i ukupan broj visokokvalitetnih vina. Cilj nam je da nam sto manje vina visokog kvaliteta \"promakne\".\n",
    "Skuplje greske su FN, nego FP.\n",
    "'''"
   ]
  },
  {
   "cell_type": "code",
   "execution_count": 20,
   "id": "510badbd",
   "metadata": {},
   "outputs": [
    {
     "name": "stdout",
     "output_type": "stream",
     "text": [
      "MODEL: LogisticRegression()\n",
      "\n",
      "Confusion matrix - treshold 0.5:\n",
      "[[1085   64]\n",
      " [ 236   85]]\n",
      "\n",
      "Confusion matrix - treshold 0.3:\n",
      "[[905 244]\n",
      " [135 186]]\n",
      "\n",
      "MODEL: GaussianNB()\n",
      "\n",
      "Confusion matrix - treshold 0.5:\n",
      "[[826 323]\n",
      " [ 94 227]]\n",
      "\n",
      "Confusion matrix - treshold 0.3:\n",
      "[[717 432]\n",
      " [ 72 249]]\n",
      "\n",
      "MODEL: KNeighborsClassifier()\n",
      "\n",
      "Confusion matrix - treshold 0.5:\n",
      "[[1058   91]\n",
      " [ 140  181]]\n",
      "\n",
      "Confusion matrix - treshold 0.3:\n",
      "[[923 226]\n",
      " [ 67 254]]\n",
      "\n",
      "MODEL: DecisionTreeClassifier()\n",
      "\n",
      "Confusion matrix - treshold 0.5:\n",
      "[[1127   22]\n",
      " [  19  302]]\n",
      "\n",
      "Confusion matrix - treshold 0.3:\n",
      "[[1127   22]\n",
      " [  19  302]]\n",
      "\n"
     ]
    }
   ],
   "source": [
    "for model in models:\n",
    "    print(f\"MODEL: {model}\")\n",
    "    print()\n",
    "    print(\"Confusion matrix - treshold 0.5:\")\n",
    "    y_pred = model.predict(X_test)\n",
    "    print(confusion_matrix(y_true=y_test,  y_pred = y_pred))\n",
    "    print()\n",
    "    print(\"Confusion matrix - treshold 0.3:\")\n",
    "    y_pred = model.predict_proba(X_test)\n",
    "    print(confusion_matrix(y_true=y_test,  y_pred = y_pred[:,1]>0.3))\n",
    "    print()"
   ]
  },
  {
   "cell_type": "code",
   "execution_count": 534,
   "id": "7270dad8",
   "metadata": {},
   "outputs": [
    {
     "name": "stdout",
     "output_type": "stream",
     "text": [
      "top_quality = 1/(1+e^-(+(-0.35 * fixed acidity))+(-2.97 * volatile acidity))+(-0.31 * citric acid))+(0.03 * residual sugar))+(-0.53 * chlorides))+(0.01 * free sulfur dioxide))+(-0.0 * total sulfur dioxide))+(-1.77 * density))+(-1.25 * pH))+(1.91 * sulphates))+(0.82 * alcohol))\n"
     ]
    }
   ],
   "source": [
    "params = []\n",
    "str = f\"{wines.columns[-1]} = 1/(1+e^-(\"\n",
    "for att, coef in zip(wines.columns, modelLR.coef_[0]):\n",
    "    str1 = f\"+({round(coef, 2)} * {att})\"\n",
    "    str = str + str1\n",
    "    params.append([att, coef])\n",
    "    str = str + \")\"\n",
    "print(str)"
   ]
  },
  {
   "cell_type": "code",
   "execution_count": 535,
   "id": "4d792617",
   "metadata": {},
   "outputs": [
    {
     "data": {
      "text/plain": [
       "[['fixed acidity', -0.3537898294875517],\n",
       " ['volatile acidity', -2.967000266545313],\n",
       " ['citric acid', -0.30873701344485405],\n",
       " ['residual sugar', 0.03285325581354623],\n",
       " ['chlorides', -0.5282165254889651],\n",
       " ['free sulfur dioxide', 0.012329685489174153],\n",
       " ['total sulfur dioxide', -0.004581403911404523],\n",
       " ['density', -1.7701873386847182],\n",
       " ['pH', -1.2533589967987568],\n",
       " ['sulphates', 1.9055887826657436],\n",
       " ['alcohol', 0.8153638900215592]]"
      ]
     },
     "execution_count": 535,
     "metadata": {},
     "output_type": "execute_result"
    }
   ],
   "source": [
    "params"
   ]
  },
  {
   "cell_type": "code",
   "execution_count": 517,
   "id": "e60b48d9",
   "metadata": {
    "scrolled": true
   },
   "outputs": [],
   "source": [
    "params.sort(key=lambda x: -abs(x[1]))"
   ]
  },
  {
   "cell_type": "code",
   "execution_count": 518,
   "id": "f5922594",
   "metadata": {},
   "outputs": [
    {
     "data": {
      "text/plain": [
       "[['volatile acidity', -2.967000266545313],\n",
       " ['sulphates', 1.9055887826657436],\n",
       " ['density', -1.7701873386847182],\n",
       " ['pH', -1.2533589967987568],\n",
       " ['alcohol', 0.8153638900215592],\n",
       " ['chlorides', -0.5282165254889651],\n",
       " ['fixed acidity', -0.3537898294875517],\n",
       " ['citric acid', -0.30873701344485405],\n",
       " ['residual sugar', 0.03285325581354623],\n",
       " ['free sulfur dioxide', 0.012329685489174153],\n",
       " ['total sulfur dioxide', -0.004581403911404523]]"
      ]
     },
     "execution_count": 518,
     "metadata": {},
     "output_type": "execute_result"
    }
   ],
   "source": [
    "params"
   ]
  },
  {
   "cell_type": "markdown",
   "id": "d8b15206",
   "metadata": {},
   "source": [
    "# 2. Insurance dataset"
   ]
  },
  {
   "cell_type": "code",
   "execution_count": 25,
   "id": "6f668249",
   "metadata": {},
   "outputs": [],
   "source": [
    "insurance = pnd.read_csv('Desktop\\insurance.csv')"
   ]
  },
  {
   "cell_type": "code",
   "execution_count": 26,
   "id": "fce37b0e",
   "metadata": {},
   "outputs": [
    {
     "data": {
      "text/html": [
       "<div>\n",
       "<style scoped>\n",
       "    .dataframe tbody tr th:only-of-type {\n",
       "        vertical-align: middle;\n",
       "    }\n",
       "\n",
       "    .dataframe tbody tr th {\n",
       "        vertical-align: top;\n",
       "    }\n",
       "\n",
       "    .dataframe thead th {\n",
       "        text-align: right;\n",
       "    }\n",
       "</style>\n",
       "<table border=\"1\" class=\"dataframe\">\n",
       "  <thead>\n",
       "    <tr style=\"text-align: right;\">\n",
       "      <th></th>\n",
       "      <th>age</th>\n",
       "      <th>sex</th>\n",
       "      <th>bmi</th>\n",
       "      <th>children</th>\n",
       "      <th>smoker</th>\n",
       "      <th>region</th>\n",
       "      <th>charges</th>\n",
       "    </tr>\n",
       "  </thead>\n",
       "  <tbody>\n",
       "    <tr>\n",
       "      <th>0</th>\n",
       "      <td>19</td>\n",
       "      <td>female</td>\n",
       "      <td>27.900</td>\n",
       "      <td>0</td>\n",
       "      <td>yes</td>\n",
       "      <td>southwest</td>\n",
       "      <td>16884.92400</td>\n",
       "    </tr>\n",
       "    <tr>\n",
       "      <th>1</th>\n",
       "      <td>18</td>\n",
       "      <td>male</td>\n",
       "      <td>33.770</td>\n",
       "      <td>1</td>\n",
       "      <td>no</td>\n",
       "      <td>southeast</td>\n",
       "      <td>1725.55230</td>\n",
       "    </tr>\n",
       "    <tr>\n",
       "      <th>2</th>\n",
       "      <td>28</td>\n",
       "      <td>male</td>\n",
       "      <td>33.000</td>\n",
       "      <td>3</td>\n",
       "      <td>no</td>\n",
       "      <td>southeast</td>\n",
       "      <td>4449.46200</td>\n",
       "    </tr>\n",
       "    <tr>\n",
       "      <th>3</th>\n",
       "      <td>33</td>\n",
       "      <td>male</td>\n",
       "      <td>22.705</td>\n",
       "      <td>0</td>\n",
       "      <td>no</td>\n",
       "      <td>northwest</td>\n",
       "      <td>21984.47061</td>\n",
       "    </tr>\n",
       "    <tr>\n",
       "      <th>4</th>\n",
       "      <td>32</td>\n",
       "      <td>male</td>\n",
       "      <td>28.880</td>\n",
       "      <td>0</td>\n",
       "      <td>no</td>\n",
       "      <td>northwest</td>\n",
       "      <td>3866.85520</td>\n",
       "    </tr>\n",
       "    <tr>\n",
       "      <th>5</th>\n",
       "      <td>31</td>\n",
       "      <td>female</td>\n",
       "      <td>25.740</td>\n",
       "      <td>0</td>\n",
       "      <td>no</td>\n",
       "      <td>southeast</td>\n",
       "      <td>3756.62160</td>\n",
       "    </tr>\n",
       "    <tr>\n",
       "      <th>6</th>\n",
       "      <td>46</td>\n",
       "      <td>female</td>\n",
       "      <td>33.440</td>\n",
       "      <td>1</td>\n",
       "      <td>no</td>\n",
       "      <td>southeast</td>\n",
       "      <td>8240.58960</td>\n",
       "    </tr>\n",
       "    <tr>\n",
       "      <th>7</th>\n",
       "      <td>37</td>\n",
       "      <td>female</td>\n",
       "      <td>27.740</td>\n",
       "      <td>3</td>\n",
       "      <td>no</td>\n",
       "      <td>northwest</td>\n",
       "      <td>7281.50560</td>\n",
       "    </tr>\n",
       "    <tr>\n",
       "      <th>8</th>\n",
       "      <td>37</td>\n",
       "      <td>male</td>\n",
       "      <td>29.830</td>\n",
       "      <td>2</td>\n",
       "      <td>no</td>\n",
       "      <td>northeast</td>\n",
       "      <td>6406.41070</td>\n",
       "    </tr>\n",
       "    <tr>\n",
       "      <th>9</th>\n",
       "      <td>60</td>\n",
       "      <td>female</td>\n",
       "      <td>25.840</td>\n",
       "      <td>0</td>\n",
       "      <td>no</td>\n",
       "      <td>northwest</td>\n",
       "      <td>28923.13692</td>\n",
       "    </tr>\n",
       "  </tbody>\n",
       "</table>\n",
       "</div>"
      ],
      "text/plain": [
       "   age     sex     bmi  children smoker     region      charges\n",
       "0   19  female  27.900         0    yes  southwest  16884.92400\n",
       "1   18    male  33.770         1     no  southeast   1725.55230\n",
       "2   28    male  33.000         3     no  southeast   4449.46200\n",
       "3   33    male  22.705         0     no  northwest  21984.47061\n",
       "4   32    male  28.880         0     no  northwest   3866.85520\n",
       "5   31  female  25.740         0     no  southeast   3756.62160\n",
       "6   46  female  33.440         1     no  southeast   8240.58960\n",
       "7   37  female  27.740         3     no  northwest   7281.50560\n",
       "8   37    male  29.830         2     no  northeast   6406.41070\n",
       "9   60  female  25.840         0     no  northwest  28923.13692"
      ]
     },
     "execution_count": 26,
     "metadata": {},
     "output_type": "execute_result"
    }
   ],
   "source": [
    "insurance.head(10)"
   ]
  },
  {
   "cell_type": "code",
   "execution_count": 27,
   "id": "ecf694c1",
   "metadata": {},
   "outputs": [
    {
     "data": {
      "text/plain": [
       "(1338, 7)"
      ]
     },
     "execution_count": 27,
     "metadata": {},
     "output_type": "execute_result"
    }
   ],
   "source": [
    "insurance.shape"
   ]
  },
  {
   "cell_type": "code",
   "execution_count": 28,
   "id": "d25a8c10",
   "metadata": {},
   "outputs": [
    {
     "data": {
      "text/plain": [
       "age         0\n",
       "sex         0\n",
       "bmi         0\n",
       "children    0\n",
       "smoker      0\n",
       "region      0\n",
       "charges     0\n",
       "dtype: int64"
      ]
     },
     "execution_count": 28,
     "metadata": {},
     "output_type": "execute_result"
    }
   ],
   "source": [
    "insurance.isna().sum()"
   ]
  },
  {
   "cell_type": "code",
   "execution_count": 29,
   "id": "39c993a2",
   "metadata": {},
   "outputs": [
    {
     "data": {
      "text/plain": [
       "age           int64\n",
       "sex          object\n",
       "bmi         float64\n",
       "children      int64\n",
       "smoker       object\n",
       "region       object\n",
       "charges     float64\n",
       "dtype: object"
      ]
     },
     "execution_count": 29,
     "metadata": {},
     "output_type": "execute_result"
    }
   ],
   "source": [
    "insurance.dtypes"
   ]
  },
  {
   "cell_type": "code",
   "execution_count": 30,
   "id": "5a08132f",
   "metadata": {},
   "outputs": [
    {
     "data": {
      "image/png": "[encoded data removed]",
      "text/plain": [
       "<Figure size 1440x720 with 3 Axes>"
      ]
     },
     "metadata": {
      "needs_background": "light"
     },
     "output_type": "display_data"
    }
   ],
   "source": [
    "%matplotlib inline\n",
    "fig,axes = plt.subplots(1,3,figsize = (20,10))\n",
    "\n",
    "sns.histplot(insurance['age'], ax=axes[0])\n",
    "sns.histplot(insurance['bmi'], ax=axes[1])\n",
    "sns.histplot(insurance['charges'], ax=axes[2])\n",
    "\n",
    "plt.show()\n",
    "\n",
    "#insurance['age'].hist(bins = 25)\n",
    "#insurance['bmi'].hist(bins = 25)\n",
    "#insurance['children'].hist(bins = 25)\n",
    "#insurance['charges'].hist(bins = 25)"
   ]
  },
  {
   "cell_type": "code",
   "execution_count": 31,
   "id": "a91f6cfa",
   "metadata": {},
   "outputs": [
    {
     "data": {
      "image/png": "[encoded data removed]",
      "text/plain": [
       "<Figure size 1440x720 with 4 Axes>"
      ]
     },
     "metadata": {
      "needs_background": "light"
     },
     "output_type": "display_data"
    }
   ],
   "source": [
    "fig,axes = plt.subplots(1,4,figsize = (20,10))\n",
    "\n",
    "sns.countplot(x = 'sex', data = insurance, ax=axes[0])\n",
    "sns.countplot(x = 'children', data = insurance, ax=axes[1])\n",
    "sns.countplot(x = 'smoker', data = insurance, ax=axes[2])\n",
    "sns.countplot(x = 'region', data = insurance, ax=axes[3])\n",
    "\n",
    "plt.show()"
   ]
  },
  {
   "cell_type": "code",
   "execution_count": null,
   "id": "85b1cd80",
   "metadata": {},
   "outputs": [],
   "source": []
  },
  {
   "cell_type": "markdown",
   "id": "8c532497",
   "metadata": {},
   "source": [
    "## Pipeline"
   ]
  },
  {
   "cell_type": "code",
   "execution_count": 73,
   "id": "267e1374",
   "metadata": {},
   "outputs": [],
   "source": [
    "def rmse_score(y_true, y_predict):\n",
    "    diff = y_true-y_predict\n",
    "    diff_squared = np.power(diff,2)\n",
    "    mse = diff_squared.mean()\n",
    "    rmse = np.sqrt(mse)\n",
    "    return(rmse)\n",
    "\n",
    "def error_stats(cv_dict):\n",
    "    stats = {}\n",
    "    for k,v in cv_dict.items(): \n",
    "        stats.update({k:(v.mean(), v.std())})\n",
    "    return(stats)\n",
    "\n",
    "rmse = make_scorer(rmse_score, greater_is_better=False)"
   ]
  },
  {
   "cell_type": "code",
   "execution_count": 418,
   "id": "b6c8243a",
   "metadata": {},
   "outputs": [],
   "source": [
    "def stats(y_true, y_predict):\n",
    "    MAE = mean_absolute_error(y_true,y_predict)\n",
    "    MSE = mean_squared_error(y_true, y_predict)\n",
    "    RMSE = np.sqrt(mean_squared_error(y_true, y_predict))\n",
    "    R2 = r2_score(y_true, y_predict)\n",
    "    \n",
    "    print('MAE:', MAE)\n",
    "    print('MSE:', MSE)\n",
    "    print('RMSE:', RMSE)\n",
    "    print('R2:', R2)\n",
    "    \n",
    "    return {'MAE' : MAE, 'MSE' : MSE, 'RMSE' : RMSE, 'R2':R2}"
   ]
  },
  {
   "cell_type": "code",
   "execution_count": 382,
   "id": "35ab6543",
   "metadata": {},
   "outputs": [],
   "source": [
    "X = insurance.iloc[:,:-1]\n",
    "y = insurance.iloc[:,-1]\n",
    "\n",
    "X_train, X_test, y_train, y_test = train_test_split(X, y)"
   ]
  },
  {
   "cell_type": "code",
   "execution_count": 383,
   "id": "b83743a0",
   "metadata": {},
   "outputs": [
    {
     "data": {
      "text/html": [
       "<div>\n",
       "<style scoped>\n",
       "    .dataframe tbody tr th:only-of-type {\n",
       "        vertical-align: middle;\n",
       "    }\n",
       "\n",
       "    .dataframe tbody tr th {\n",
       "        vertical-align: top;\n",
       "    }\n",
       "\n",
       "    .dataframe thead th {\n",
       "        text-align: right;\n",
       "    }\n",
       "</style>\n",
       "<table border=\"1\" class=\"dataframe\">\n",
       "  <thead>\n",
       "    <tr style=\"text-align: right;\">\n",
       "      <th></th>\n",
       "      <th>age</th>\n",
       "      <th>sex</th>\n",
       "      <th>bmi</th>\n",
       "      <th>children</th>\n",
       "      <th>smoker</th>\n",
       "      <th>region</th>\n",
       "    </tr>\n",
       "  </thead>\n",
       "  <tbody>\n",
       "    <tr>\n",
       "      <th>322</th>\n",
       "      <td>34</td>\n",
       "      <td>male</td>\n",
       "      <td>30.800</td>\n",
       "      <td>0</td>\n",
       "      <td>yes</td>\n",
       "      <td>southwest</td>\n",
       "    </tr>\n",
       "    <tr>\n",
       "      <th>1072</th>\n",
       "      <td>21</td>\n",
       "      <td>male</td>\n",
       "      <td>31.255</td>\n",
       "      <td>0</td>\n",
       "      <td>no</td>\n",
       "      <td>northwest</td>\n",
       "    </tr>\n",
       "    <tr>\n",
       "      <th>690</th>\n",
       "      <td>21</td>\n",
       "      <td>male</td>\n",
       "      <td>27.360</td>\n",
       "      <td>0</td>\n",
       "      <td>no</td>\n",
       "      <td>northeast</td>\n",
       "    </tr>\n",
       "    <tr>\n",
       "      <th>461</th>\n",
       "      <td>42</td>\n",
       "      <td>male</td>\n",
       "      <td>30.000</td>\n",
       "      <td>0</td>\n",
       "      <td>yes</td>\n",
       "      <td>southwest</td>\n",
       "    </tr>\n",
       "    <tr>\n",
       "      <th>32</th>\n",
       "      <td>19</td>\n",
       "      <td>female</td>\n",
       "      <td>28.600</td>\n",
       "      <td>5</td>\n",
       "      <td>no</td>\n",
       "      <td>southwest</td>\n",
       "    </tr>\n",
       "    <tr>\n",
       "      <th>...</th>\n",
       "      <td>...</td>\n",
       "      <td>...</td>\n",
       "      <td>...</td>\n",
       "      <td>...</td>\n",
       "      <td>...</td>\n",
       "      <td>...</td>\n",
       "    </tr>\n",
       "    <tr>\n",
       "      <th>355</th>\n",
       "      <td>46</td>\n",
       "      <td>male</td>\n",
       "      <td>27.600</td>\n",
       "      <td>0</td>\n",
       "      <td>no</td>\n",
       "      <td>southwest</td>\n",
       "    </tr>\n",
       "    <tr>\n",
       "      <th>292</th>\n",
       "      <td>25</td>\n",
       "      <td>male</td>\n",
       "      <td>45.540</td>\n",
       "      <td>2</td>\n",
       "      <td>yes</td>\n",
       "      <td>southeast</td>\n",
       "    </tr>\n",
       "    <tr>\n",
       "      <th>135</th>\n",
       "      <td>22</td>\n",
       "      <td>female</td>\n",
       "      <td>28.050</td>\n",
       "      <td>0</td>\n",
       "      <td>no</td>\n",
       "      <td>southeast</td>\n",
       "    </tr>\n",
       "    <tr>\n",
       "      <th>554</th>\n",
       "      <td>25</td>\n",
       "      <td>female</td>\n",
       "      <td>41.325</td>\n",
       "      <td>0</td>\n",
       "      <td>no</td>\n",
       "      <td>northeast</td>\n",
       "    </tr>\n",
       "    <tr>\n",
       "      <th>721</th>\n",
       "      <td>53</td>\n",
       "      <td>male</td>\n",
       "      <td>36.600</td>\n",
       "      <td>3</td>\n",
       "      <td>no</td>\n",
       "      <td>southwest</td>\n",
       "    </tr>\n",
       "  </tbody>\n",
       "</table>\n",
       "<p>1003 rows × 6 columns</p>\n",
       "</div>"
      ],
      "text/plain": [
       "      age     sex     bmi  children smoker     region\n",
       "322    34    male  30.800         0    yes  southwest\n",
       "1072   21    male  31.255         0     no  northwest\n",
       "690    21    male  27.360         0     no  northeast\n",
       "461    42    male  30.000         0    yes  southwest\n",
       "32     19  female  28.600         5     no  southwest\n",
       "...   ...     ...     ...       ...    ...        ...\n",
       "355    46    male  27.600         0     no  southwest\n",
       "292    25    male  45.540         2    yes  southeast\n",
       "135    22  female  28.050         0     no  southeast\n",
       "554    25  female  41.325         0     no  northeast\n",
       "721    53    male  36.600         3     no  southwest\n",
       "\n",
       "[1003 rows x 6 columns]"
      ]
     },
     "execution_count": 383,
     "metadata": {},
     "output_type": "execute_result"
    }
   ],
   "source": [
    "X_train"
   ]
  },
  {
   "cell_type": "code",
   "execution_count": 384,
   "id": "41e18173",
   "metadata": {},
   "outputs": [
    {
     "data": {
      "text/plain": [
       "((1003, 6), (335, 6))"
      ]
     },
     "execution_count": 384,
     "metadata": {},
     "output_type": "execute_result"
    }
   ],
   "source": [
    "X_train.shape, X_test.shape"
   ]
  },
  {
   "cell_type": "code",
   "execution_count": 385,
   "id": "e14cebfc",
   "metadata": {},
   "outputs": [
    {
     "data": {
      "text/plain": [
       "(['sex', 'smoker', 'region'], ['age', 'bmi', 'children'])"
      ]
     },
     "execution_count": 385,
     "metadata": {},
     "output_type": "execute_result"
    }
   ],
   "source": [
    "categorical_cols = list(X_train.select_dtypes(include = 'object').columns)\n",
    "numerical_cols = list(X_train.select_dtypes(exclude = 'object').columns)\n",
    "categorical_cols, numerical_cols"
   ]
  },
  {
   "cell_type": "code",
   "execution_count": 386,
   "id": "886a9a85",
   "metadata": {},
   "outputs": [],
   "source": [
    "numerical_preparation = SimpleImputer(strategy='median')\n",
    " \n",
    "catagorical_preparation = Pipeline(steps=[\n",
    "                                    ('imputer',SimpleImputer(strategy='most_frequent')),\n",
    "                                    ('onehot',OneHotEncoder(handle_unknown='ignore', sparse = False))\n",
    "                                    ]\n",
    "                                  )"
   ]
  },
  {
   "cell_type": "code",
   "execution_count": 519,
   "id": "3f75d339",
   "metadata": {},
   "outputs": [],
   "source": [
    "#catagorical_preparation.fit(X_train, y_train).transform(X_train)"
   ]
  },
  {
   "cell_type": "code",
   "execution_count": 521,
   "id": "d15e9bbf",
   "metadata": {},
   "outputs": [],
   "source": [
    "preprocessor = ColumnTransformer(transformers=[\n",
    "                                     ('num',numerical_preparation,numerical_cols),\n",
    "                                     ('cat',catagorical_preparation,categorical_cols)\n",
    "                                 ]\n",
    "                                )"
   ]
  },
  {
   "cell_type": "code",
   "execution_count": 389,
   "id": "eda25532",
   "metadata": {},
   "outputs": [],
   "source": [
    "DT = DecisionTreeRegressor()#(max_depth = 5, min_samples_split = 10)\n",
    "\n",
    "my_pipeline =Pipeline(steps = [\n",
    "                         ('preprocessor',preprocessor),\n",
    "                         ('dt',DT)\n",
    "                         ]\n",
    "                     )"
   ]
  },
  {
   "cell_type": "code",
   "execution_count": 390,
   "id": "7974b5a6",
   "metadata": {
    "scrolled": true
   },
   "outputs": [],
   "source": [
    "y_fit = my_pipeline.fit(X_train, y_train)"
   ]
  },
  {
   "cell_type": "code",
   "execution_count": 391,
   "id": "1061c32c",
   "metadata": {},
   "outputs": [
    {
     "data": {
      "text/plain": [
       "0.9987637959215749"
      ]
     },
     "execution_count": 391,
     "metadata": {},
     "output_type": "execute_result"
    }
   ],
   "source": [
    "y_fit.score(X_train, y_train)"
   ]
  },
  {
   "cell_type": "code",
   "execution_count": 525,
   "id": "745c79ab",
   "metadata": {},
   "outputs": [
    {
     "data": {
      "text/plain": [
       "{'fit_time': (0.012372612953186035, 0.0014916270921013085),\n",
       " 'score_time': (0.005189061164855957, 0.0007499745337166023),\n",
       " 'test_MAE': (-3124.380801724198, 527.7303020164147),\n",
       " 'test_RMSE': (-6566.673739929494, 784.026608027256),\n",
       " 'test_R2': (0.6907271286804522, 0.08173665658349503)}"
      ]
     },
     "execution_count": 525,
     "metadata": {},
     "output_type": "execute_result"
    }
   ],
   "source": [
    "cv_dict = cross_validate(y_fit, X_train, y_train, cv = 10, scoring={'MAE':'neg_mean_absolute_error', 'RMSE':rmse, 'R2':'r2'})\n",
    "error_stats(cv_dict)"
   ]
  },
  {
   "cell_type": "code",
   "execution_count": 392,
   "id": "83e69a20",
   "metadata": {},
   "outputs": [],
   "source": [
    "y_hat = y_fit.predict(X_test)"
   ]
  },
  {
   "cell_type": "code",
   "execution_count": 315,
   "id": "8eba7848",
   "metadata": {},
   "outputs": [],
   "source": [
    "#y_hat"
   ]
  },
  {
   "cell_type": "code",
   "execution_count": 393,
   "id": "e5e78fb2",
   "metadata": {},
   "outputs": [
    {
     "data": {
      "text/plain": [
       "(0.0, 55000.0)"
      ]
     },
     "execution_count": 393,
     "metadata": {},
     "output_type": "execute_result"
    },
    {
     "data": {
      "image/png": "[encoded data removed]",
      "text/plain": [
       "<Figure size 432x288 with 1 Axes>"
      ]
     },
     "metadata": {
      "needs_background": "light"
     },
     "output_type": "display_data"
    }
   ],
   "source": [
    "plt.scatter(y_test, y_hat)\n",
    "ax = plt.gca()\n",
    "ax.set_ylim([0, 55000])"
   ]
  },
  {
   "cell_type": "code",
   "execution_count": 395,
   "id": "a58e66f7",
   "metadata": {},
   "outputs": [
    {
     "data": {
      "text/html": [
       "<div>\n",
       "<style scoped>\n",
       "    .dataframe tbody tr th:only-of-type {\n",
       "        vertical-align: middle;\n",
       "    }\n",
       "\n",
       "    .dataframe tbody tr th {\n",
       "        vertical-align: top;\n",
       "    }\n",
       "\n",
       "    .dataframe thead th {\n",
       "        text-align: right;\n",
       "    }\n",
       "</style>\n",
       "<table border=\"1\" class=\"dataframe\">\n",
       "  <thead>\n",
       "    <tr style=\"text-align: right;\">\n",
       "      <th></th>\n",
       "      <th>y_test</th>\n",
       "      <th>y_hat</th>\n",
       "    </tr>\n",
       "  </thead>\n",
       "  <tbody>\n",
       "    <tr>\n",
       "      <th>397</th>\n",
       "      <td>16586.49771</td>\n",
       "      <td>1515.34490</td>\n",
       "    </tr>\n",
       "    <tr>\n",
       "      <th>338</th>\n",
       "      <td>41919.09700</td>\n",
       "      <td>39727.61400</td>\n",
       "    </tr>\n",
       "    <tr>\n",
       "      <th>918</th>\n",
       "      <td>13041.92100</td>\n",
       "      <td>13451.12200</td>\n",
       "    </tr>\n",
       "    <tr>\n",
       "      <th>1271</th>\n",
       "      <td>3021.80915</td>\n",
       "      <td>2534.39375</td>\n",
       "    </tr>\n",
       "    <tr>\n",
       "      <th>933</th>\n",
       "      <td>7348.14200</td>\n",
       "      <td>7345.08400</td>\n",
       "    </tr>\n",
       "    <tr>\n",
       "      <th>...</th>\n",
       "      <td>...</td>\n",
       "      <td>...</td>\n",
       "    </tr>\n",
       "    <tr>\n",
       "      <th>374</th>\n",
       "      <td>1391.52870</td>\n",
       "      <td>1136.39940</td>\n",
       "    </tr>\n",
       "    <tr>\n",
       "      <th>717</th>\n",
       "      <td>13112.60480</td>\n",
       "      <td>30166.61817</td>\n",
       "    </tr>\n",
       "    <tr>\n",
       "      <th>464</th>\n",
       "      <td>1632.03625</td>\n",
       "      <td>1632.56445</td>\n",
       "    </tr>\n",
       "    <tr>\n",
       "      <th>863</th>\n",
       "      <td>5458.04645</td>\n",
       "      <td>4500.33925</td>\n",
       "    </tr>\n",
       "    <tr>\n",
       "      <th>600</th>\n",
       "      <td>1633.04440</td>\n",
       "      <td>1633.96180</td>\n",
       "    </tr>\n",
       "  </tbody>\n",
       "</table>\n",
       "<p>335 rows × 2 columns</p>\n",
       "</div>"
      ],
      "text/plain": [
       "           y_test        y_hat\n",
       "397   16586.49771   1515.34490\n",
       "338   41919.09700  39727.61400\n",
       "918   13041.92100  13451.12200\n",
       "1271   3021.80915   2534.39375\n",
       "933    7348.14200   7345.08400\n",
       "...           ...          ...\n",
       "374    1391.52870   1136.39940\n",
       "717   13112.60480  30166.61817\n",
       "464    1632.03625   1632.56445\n",
       "863    5458.04645   4500.33925\n",
       "600    1633.04440   1633.96180\n",
       "\n",
       "[335 rows x 2 columns]"
      ]
     },
     "execution_count": 395,
     "metadata": {},
     "output_type": "execute_result"
    }
   ],
   "source": [
    "data = {'y_test': y_test,\n",
    "        'y_hat':y_hat}\n",
    "  \n",
    "df = pnd.DataFrame(data)\n",
    "\n",
    "df"
   ]
  },
  {
   "cell_type": "code",
   "execution_count": 526,
   "id": "af92277f",
   "metadata": {},
   "outputs": [
    {
     "name": "stdout",
     "output_type": "stream",
     "text": [
      "MAE: 2780.8034081761193\n",
      "MSE: 37444023.97650862\n",
      "RMSE: 6119.152226943584\n",
      "R2: 0.7380106277423193\n"
     ]
    }
   ],
   "source": [
    "stats1 = stats(y_test,y_hat)"
   ]
  },
  {
   "cell_type": "code",
   "execution_count": 426,
   "id": "1ecb4c15",
   "metadata": {},
   "outputs": [
    {
     "data": {
      "text/plain": [
       "[Text(128.69935281644135, 212.004, 'X[5] <= 0.5\\nmse = 147749206.016\\nsamples = 1003\\nvalue = 13297.443'),\n",
       " Text(39.79895473393227, 201.132, 'X[1] <= 30.01\\nmse = 130303746.454\\nsamples = 211\\nvalue = 31719.521'),\n",
       " Text(18.37987214927436, 190.26, 'X[0] <= 41.0\\nmse = 24836372.605\\nsamples = 101\\nvalue = 21231.668'),\n",
       " Text(8.64765031098825, 179.388, 'X[0] <= 29.5\\nmse = 8624864.667\\nsamples = 57\\nvalue = 18119.165'),\n",
       " Text(3.9719419488597096, 168.516, 'X[1] <= 21.727\\nmse = 2884085.569\\nsamples = 35\\nvalue = 16680.392'),\n",
       " Text(1.2340013821700069, 157.644, 'X[0] <= 25.5\\nmse = 1098944.406\\nsamples = 7\\nvalue = 14386.323'),\n",
       " Text(0.6170006910850034, 146.772, 'X[1] <= 18.905\\nmse = 352167.544\\nsamples = 5\\nvalue = 13855.437'),\n",
       " Text(0.3085003455425017, 135.9, 'mse = 0.0\\nsamples = 1\\nvalue = 12829.455'),\n",
       " Text(0.9255010366275052, 135.9, 'X[0] <= 21.5\\nmse = 111259.96\\nsamples = 4\\nvalue = 14111.932'),\n",
       " Text(0.6170006910850034, 125.02799999999999, 'X[3] <= 0.5\\nmse = 54319.071\\nsamples = 3\\nvalue = 13958.613'),\n",
       " Text(0.3085003455425017, 114.156, 'mse = 0.0\\nsamples = 1\\nvalue = 13747.872'),\n",
       " Text(0.9255010366275052, 114.156, 'X[7] <= 0.5\\nmse = 48170.022\\nsamples = 2\\nvalue = 14063.983'),\n",
       " Text(0.6170006910850034, 103.28399999999999, 'mse = 0.0\\nsamples = 1\\nvalue = 13844.506'),\n",
       " Text(1.2340013821700069, 103.28399999999999, 'mse = -0.0\\nsamples = 1\\nvalue = 14283.459'),\n",
       " Text(1.2340013821700069, 125.02799999999999, 'mse = 0.0\\nsamples = 1\\nvalue = 14571.891'),\n",
       " Text(1.8510020732550103, 146.772, 'X[8] <= 0.5\\nmse = 499788.978\\nsamples = 2\\nvalue = 15713.537'),\n",
       " Text(1.5425017277125086, 135.9, 'mse = 0.0\\nsamples = 1\\nvalue = 15006.579'),\n",
       " Text(2.159502418797512, 135.9, 'mse = -0.0\\nsamples = 1\\nvalue = 16420.495'),\n",
       " Text(6.709882515549412, 157.644, 'X[1] <= 27.92\\nmse = 1685760.559\\nsamples = 28\\nvalue = 17253.909'),\n",
       " Text(4.473255010366275, 146.772, 'X[1] <= 21.825\\nmse = 1402280.041\\nsamples = 17\\nvalue = 16632.806'),\n",
       " Text(3.393503800967519, 135.9, 'X[10] <= 0.5\\nmse = 3079355.644\\nsamples = 2\\nvalue = 18412.527'),\n",
       " Text(3.085003455425017, 125.02799999999999, 'mse = 0.0\\nsamples = 1\\nvalue = 16657.717'),\n",
       " Text(3.7020041465100206, 125.02799999999999, 'mse = -0.0\\nsamples = 1\\nvalue = 20167.336'),\n",
       " Text(5.553006219765031, 135.9, 'X[2] <= 2.0\\nmse = 700039.654\\nsamples = 15\\nvalue = 16395.51'),\n",
       " Text(4.319004837595024, 125.02799999999999, 'X[1] <= 25.602\\nmse = 453270.384\\nsamples = 13\\nvalue = 16179.03'),\n",
       " Text(2.7765031098825155, 114.156, 'X[0] <= 23.0\\nmse = 322703.166\\nsamples = 7\\nvalue = 15748.409'),\n",
       " Text(1.8510020732550103, 103.28399999999999, 'X[7] <= 0.5\\nmse = 121635.635\\nsamples = 3\\nvalue = 15196.343'),\n",
       " Text(1.5425017277125086, 92.412, 'mse = 0.0\\nsamples = 1\\nvalue = 14711.744'),\n",
       " Text(2.159502418797512, 92.412, 'X[0] <= 19.5\\nmse = 6326.274\\nsamples = 2\\nvalue = 15438.642'),\n",
       " Text(1.8510020732550103, 81.53999999999999, 'mse = 0.0\\nsamples = 1\\nvalue = 15518.18'),\n",
       " Text(2.4680027643400138, 81.53999999999999, 'mse = 0.0\\nsamples = 1\\nvalue = 15359.104'),\n",
       " Text(3.7020041465100206, 103.28399999999999, 'X[9] <= 0.5\\nmse = 73484.516\\nsamples = 4\\nvalue = 16162.458'),\n",
       " Text(3.393503800967519, 92.412, 'X[7] <= 0.5\\nmse = 21316.244\\nsamples = 3\\nvalue = 16024.017'),\n",
       " Text(3.085003455425017, 81.53999999999999, 'mse = 0.0\\nsamples = 1\\nvalue = 15817.986'),\n",
       " Text(3.7020041465100206, 81.53999999999999, 'X[4] <= 0.5\\nmse = 137.564\\nsamples = 2\\nvalue = 16127.033'),\n",
       " Text(3.393503800967519, 70.668, 'mse = 0.0\\nsamples = 1\\nvalue = 16115.304'),\n",
       " Text(4.010504492052522, 70.668, 'mse = 0.0\\nsamples = 1\\nvalue = 16138.762'),\n",
       " Text(4.010504492052522, 92.412, 'mse = -0.0\\nsamples = 1\\nvalue = 16577.78'),\n",
       " Text(5.861506565307533, 114.156, 'X[7] <= 0.5\\nmse = 136859.923\\nsamples = 6\\nvalue = 16681.423'),\n",
       " Text(5.553006219765031, 103.28399999999999, 'X[0] <= 23.0\\nmse = 104887.749\\nsamples = 5\\nvalue = 16581.971'),\n",
       " Text(5.244505874222529, 92.412, 'X[3] <= 0.5\\nmse = 64590.0\\nsamples = 4\\nvalue = 16466.628'),\n",
       " Text(4.9360055286800275, 81.53999999999999, 'X[2] <= 0.5\\nmse = 8354.842\\nsamples = 3\\nvalue = 16327.196'),\n",
       " Text(4.627505183137526, 70.668, 'X[0] <= 19.5\\nmse = 1056.218\\nsamples = 2\\nvalue = 16265.346'),\n",
       " Text(4.319004837595024, 59.79599999999999, 'mse = 0.0\\nsamples = 1\\nvalue = 16297.846'),\n",
       " Text(4.9360055286800275, 59.79599999999999, 'mse = -0.0\\nsamples = 1\\nvalue = 16232.847'),\n",
       " Text(5.244505874222529, 70.668, 'mse = 0.0\\nsamples = 1\\nvalue = 16450.895'),\n",
       " Text(5.553006219765031, 81.53999999999999, 'mse = 0.0\\nsamples = 1\\nvalue = 16884.924'),\n",
       " Text(5.861506565307533, 92.412, 'mse = -0.0\\nsamples = 1\\nvalue = 17043.341'),\n",
       " Text(6.170006910850034, 103.28399999999999, 'mse = -0.0\\nsamples = 1\\nvalue = 17178.682'),\n",
       " Text(6.787007601935038, 125.02799999999999, 'X[2] <= 3.5\\nmse = 19454.921\\nsamples = 2\\nvalue = 17802.625'),\n",
       " Text(6.478507256392536, 114.156, 'mse = 0.0\\nsamples = 1\\nvalue = 17663.144'),\n",
       " Text(7.0955079474775395, 114.156, 'mse = 0.0\\nsamples = 1\\nvalue = 17942.106'),\n",
       " Text(8.94651002073255, 146.772, 'X[0] <= 21.5\\nmse = 606296.334\\nsamples = 11\\nvalue = 18213.795'),\n",
       " Text(8.329509329647546, 135.9, 'X[10] <= 0.5\\nmse = 61510.092\\nsamples = 4\\nvalue = 17435.662'),\n",
       " Text(8.021008984105045, 125.02799999999999, 'X[1] <= 28.975\\nmse = 26134.307\\nsamples = 3\\nvalue = 17553.855'),\n",
       " Text(7.712508638562543, 114.156, 'X[4] <= 0.5\\nmse = 8847.89\\nsamples = 2\\nvalue = 17654.443'),\n",
       " Text(7.404008293020041, 103.28399999999999, 'mse = 0.0\\nsamples = 1\\nvalue = 17748.506'),\n",
       " Text(8.021008984105045, 103.28399999999999, 'mse = 0.0\\nsamples = 1\\nvalue = 17560.38'),\n",
       " Text(8.329509329647546, 114.156, 'mse = 0.0\\nsamples = 1\\nvalue = 17352.68'),\n",
       " Text(8.638009675190048, 125.02799999999999, 'mse = -0.0\\nsamples = 1\\nvalue = 17081.08'),\n",
       " Text(9.563510711817553, 135.9, 'X[10] <= 0.5\\nmse = 373895.459\\nsamples = 7\\nvalue = 18658.443'),\n",
       " Text(9.255010366275052, 125.02799999999999, 'X[1] <= 28.125\\nmse = 120110.309\\nsamples = 6\\nvalue = 18445.941'),\n",
       " Text(8.94651002073255, 114.156, 'mse = 0.0\\nsamples = 1\\nvalue = 19107.78'),\n",
       " Text(9.563510711817553, 114.156, 'X[1] <= 29.49\\nmse = 39005.027\\nsamples = 5\\nvalue = 18313.573'),\n",
       " Text(9.255010366275052, 103.28399999999999, 'X[1] <= 28.4\\nmse = 13717.651\\nsamples = 4\\nvalue = 18229.861'),\n",
       " Text(8.94651002073255, 92.412, 'mse = 0.0\\nsamples = 1\\nvalue = 18033.968'),\n",
       " Text(9.563510711817553, 92.412, 'X[1] <= 28.825\\nmse = 1235.064\\nsamples = 3\\nvalue = 18295.159'),\n",
       " Text(9.255010366275052, 81.53999999999999, 'X[3] <= 0.5\\nmse = 76.528\\nsamples = 2\\nvalue = 18319.49'),\n",
       " Text(8.94651002073255, 70.668, 'mse = 0.0\\nsamples = 1\\nvalue = 18310.742'),\n",
       " Text(9.563510711817553, 70.668, 'mse = -0.0\\nsamples = 1\\nvalue = 18328.238'),\n",
       " Text(9.872011057360055, 81.53999999999999, 'mse = 0.0\\nsamples = 1\\nvalue = 18246.496'),\n",
       " Text(9.872011057360055, 103.28399999999999, 'mse = -0.0\\nsamples = 1\\nvalue = 18648.422'),\n",
       " Text(9.872011057360055, 125.02799999999999, 'mse = 0.0\\nsamples = 1\\nvalue = 19933.458'),\n",
       " Text(13.323358673116793, 168.516, 'X[1] <= 18.032\\nmse = 9225306.2\\nsamples = 22\\nvalue = 20408.122'),\n",
       " Text(13.014858327574292, 157.644, 'mse = 0.0\\nsamples = 1\\nvalue = 32734.186'),\n",
       " Text(13.631859018659295, 157.644, 'X[1] <= 24.842\\nmse = 2085239.428\\nsamples = 21\\nvalue = 19821.167'),\n",
       " Text(11.414512785072564, 146.772, 'X[2] <= 2.0\\nmse = 428491.234\\nsamples = 6\\nvalue = 18104.784'),\n",
       " Text(10.79751209398756, 135.9, 'X[1] <= 24.698\\nmse = 88069.872\\nsamples = 3\\nvalue = 17526.785'),\n",
       " Text(10.489011748445058, 125.02799999999999, 'X[3] <= 0.5\\nmse = 25088.026\\nsamples = 2\\nvalue = 17337.914'),\n",
       " Text(10.180511402902557, 114.156, 'mse = 0.0\\nsamples = 1\\nvalue = 17179.522'),\n",
       " Text(10.79751209398756, 114.156, 'mse = 0.0\\nsamples = 1\\nvalue = 17496.306'),\n",
       " Text(11.106012439530062, 125.02799999999999, 'mse = -0.0\\nsamples = 1\\nvalue = 17904.527'),\n",
       " Text(12.031513476157567, 135.9, 'X[4] <= 0.5\\nmse = 100745.982\\nsamples = 3\\nvalue = 18682.784'),\n",
       " Text(11.723013130615065, 125.02799999999999, 'X[0] <= 34.5\\nmse = 16561.702\\nsamples = 2\\nvalue = 18894.568'),\n",
       " Text(11.414512785072564, 114.156, 'mse = 0.0\\nsamples = 1\\nvalue = 18765.875'),\n",
       " Text(12.031513476157567, 114.156, 'mse = -0.0\\nsamples = 1\\nvalue = 19023.26'),\n",
       " Text(12.340013821700069, 125.02799999999999, 'mse = 0.0\\nsamples = 1\\nvalue = 18259.216'),\n",
       " Text(15.849205252246026, 146.772, 'X[0] <= 34.5\\nmse = 1098196.568\\nsamples = 15\\nvalue = 20507.72'),\n",
       " Text(14.036765722183828, 135.9, 'X[8] <= 0.5\\nmse = 375932.143\\nsamples = 6\\nvalue = 19606.888'),\n",
       " Text(13.265514858327574, 125.02799999999999, 'X[1] <= 27.74\\nmse = 50379.208\\nsamples = 4\\nvalue = 19221.427'),\n",
       " Text(12.64851416724257, 114.156, 'X[9] <= 0.5\\nmse = 1168.99\\nsamples = 2\\nvalue = 19006.686'),\n",
       " Text(12.340013821700069, 103.28399999999999, 'mse = 0.0\\nsamples = 1\\nvalue = 19040.876'),\n",
       " Text(12.957014512785072, 103.28399999999999, 'mse = 0.0\\nsamples = 1\\nvalue = 18972.495'),\n",
       " Text(13.882515549412577, 114.156, 'X[2] <= 0.5\\nmse = 7361.58\\nsamples = 2\\nvalue = 19436.169'),\n",
       " Text(13.574015203870076, 103.28399999999999, 'mse = 0.0\\nsamples = 1\\nvalue = 19350.369'),\n",
       " Text(14.191015894955079, 103.28399999999999, 'mse = -0.0\\nsamples = 1\\nvalue = 19521.968'),\n",
       " Text(14.808016586040083, 125.02799999999999, 'X[2] <= 2.0\\nmse = 135554.837\\nsamples = 2\\nvalue = 20377.811'),\n",
       " Text(14.49951624049758, 114.156, 'mse = 0.0\\nsamples = 1\\nvalue = 20009.634'),\n",
       " Text(15.116516931582584, 114.156, 'mse = 0.0\\nsamples = 1\\nvalue = 20745.989'),\n",
       " Text(17.661644782308223, 135.9, 'X[1] <= 28.073\\nmse = 678043.174\\nsamples = 9\\nvalue = 21108.274'),\n",
       " Text(16.504768486523844, 125.02799999999999, 'X[2] <= 1.5\\nmse = 281334.989\\nsamples = 6\\nvalue = 20683.115'),\n",
       " Text(15.733517622667588, 114.156, 'X[2] <= 0.5\\nmse = 58766.63\\nsamples = 4\\nvalue = 20363.667'),\n",
       " Text(15.116516931582584, 103.28399999999999, 'X[1] <= 27.217\\nmse = 1828.924\\nsamples = 2\\nvalue = 20192.089'),\n",
       " Text(14.808016586040083, 92.412, 'mse = 0.0\\nsamples = 1\\nvalue = 20149.323'),\n",
       " Text(15.425017277125086, 92.412, 'mse = 0.0\\nsamples = 1\\nvalue = 20234.855'),\n",
       " Text(16.35051831375259, 103.28399999999999, 'X[0] <= 36.5\\nmse = 56826.049\\nsamples = 2\\nvalue = 20535.246'),\n",
       " Text(16.04201796821009, 92.412, 'mse = 0.0\\nsamples = 1\\nvalue = 20773.628'),\n",
       " Text(16.659018659295093, 92.412, 'mse = -0.0\\nsamples = 1\\nvalue = 20296.863'),\n",
       " Text(17.276019350380096, 114.156, 'X[4] <= 0.5\\nmse = 114188.744\\nsamples = 2\\nvalue = 21322.012'),\n",
       " Text(16.967519004837595, 103.28399999999999, 'mse = 0.0\\nsamples = 1\\nvalue = 21659.93'),\n",
       " Text(17.584519695922598, 103.28399999999999, 'mse = -0.0\\nsamples = 1\\nvalue = 20984.094'),\n",
       " Text(18.818521078092605, 125.02799999999999, 'X[10] <= 0.5\\nmse = 386902.306\\nsamples = 3\\nvalue = 21958.59'),\n",
       " Text(18.510020732550103, 114.156, 'X[1] <= 29.023\\nmse = 4256.059\\nsamples = 2\\nvalue = 22396.805'),\n",
       " Text(18.2015203870076, 103.28399999999999, 'mse = 0.0\\nsamples = 1\\nvalue = 22331.567'),\n",
       " Text(18.818521078092605, 103.28399999999999, 'mse = 0.0\\nsamples = 1\\nvalue = 22462.044'),\n",
       " Text(19.127021423635107, 114.156, 'mse = -0.0\\nsamples = 1\\nvalue = 21082.16'),\n",
       " Text(28.11209398756047, 179.388, 'X[0] <= 56.5\\nmse = 17029823.171\\nsamples = 44\\nvalue = 25263.774'),\n",
       " Text(24.52577747062889, 168.516, 'X[4] <= 0.5\\nmse = 17392935.407\\nsamples = 31\\nvalue = 23940.883'),\n",
       " Text(21.903524533517622, 157.644, 'X[0] <= 46.5\\nmse = 2501802.401\\nsamples = 16\\nvalue = 22667.911'),\n",
       " Text(20.361022805805113, 146.772, 'X[1] <= 23.513\\nmse = 875982.478\\nsamples = 8\\nvalue = 21311.329'),\n",
       " Text(19.74402211472011, 135.9, 'X[2] <= 0.5\\nmse = 34213.281\\nsamples = 2\\nvalue = 19779.778'),\n",
       " Text(19.43552176917761, 125.02799999999999, 'mse = 0.0\\nsamples = 1\\nvalue = 19964.746'),\n",
       " Text(20.05252246026261, 125.02799999999999, 'mse = 0.0\\nsamples = 1\\nvalue = 19594.81'),\n",
       " Text(20.978023496890117, 135.9, 'X[10] <= 0.5\\nmse = 114062.113\\nsamples = 6\\nvalue = 21821.846'),\n",
       " Text(20.669523151347615, 125.02799999999999, 'X[0] <= 42.5\\nmse = 33356.23\\nsamples = 5\\nvalue = 21690.495'),\n",
       " Text(20.361022805805113, 114.156, 'mse = 0.0\\nsamples = 1\\nvalue = 21348.706'),\n",
       " Text(20.978023496890117, 114.156, 'X[2] <= 1.5\\nmse = 5189.171\\nsamples = 4\\nvalue = 21775.942'),\n",
       " Text(20.669523151347615, 103.28399999999999, 'X[0] <= 44.5\\nmse = 2030.273\\nsamples = 3\\nvalue = 21740.983'),\n",
       " Text(20.361022805805113, 92.412, 'X[7] <= 0.5\\nmse = 2.22\\nsamples = 2\\nvalue = 21772.832'),\n",
       " Text(20.05252246026261, 81.53999999999999, 'mse = 0.0\\nsamples = 1\\nvalue = 21774.322'),\n",
       " Text(20.669523151347615, 81.53999999999999, 'mse = 0.0\\nsamples = 1\\nvalue = 21771.342'),\n",
       " Text(20.978023496890117, 92.412, 'mse = 0.0\\nsamples = 1\\nvalue = 21677.283'),\n",
       " Text(21.28652384243262, 103.28399999999999, 'mse = 0.0\\nsamples = 1\\nvalue = 21880.82'),\n",
       " Text(21.28652384243262, 125.02799999999999, 'mse = -0.0\\nsamples = 1\\nvalue = 22478.6'),\n",
       " Text(23.44602626123013, 146.772, 'X[2] <= 1.5\\nmse = 446991.539\\nsamples = 8\\nvalue = 24024.493'),\n",
       " Text(22.829025570145127, 135.9, 'X[10] <= 0.5\\nmse = 275642.15\\nsamples = 5\\nvalue = 23623.889'),\n",
       " Text(22.520525224602626, 125.02799999999999, 'X[8] <= 0.5\\nmse = 93462.459\\nsamples = 4\\nvalue = 23399.795'),\n",
       " Text(22.212024879060124, 114.156, 'X[1] <= 26.977\\nmse = 18832.145\\nsamples = 3\\nvalue = 23237.172'),\n",
       " Text(21.903524533517622, 103.28399999999999, 'X[9] <= 0.5\\nmse = 6124.279\\nsamples = 2\\nvalue = 23323.048'),\n",
       " Text(21.59502418797512, 92.412, 'mse = 0.0\\nsamples = 1\\nvalue = 23401.306'),\n",
       " Text(22.212024879060124, 92.412, 'mse = -0.0\\nsamples = 1\\nvalue = 23244.79'),\n",
       " Text(22.520525224602626, 103.28399999999999, 'mse = 0.0\\nsamples = 1\\nvalue = 23065.421'),\n",
       " Text(22.829025570145127, 114.156, 'mse = -0.0\\nsamples = 1\\nvalue = 23887.663'),\n",
       " Text(23.13752591568763, 125.02799999999999, 'mse = 0.0\\nsamples = 1\\nvalue = 24520.264'),\n",
       " Text(24.063026952315134, 135.9, 'X[2] <= 2.5\\nmse = 19311.589\\nsamples = 3\\nvalue = 24692.167'),\n",
       " Text(23.754526606772632, 125.02799999999999, 'X[1] <= 26.472\\nmse = 4337.569\\nsamples = 2\\nvalue = 24601.559'),\n",
       " Text(23.44602626123013, 114.156, 'mse = 0.0\\nsamples = 1\\nvalue = 24667.419'),\n",
       " Text(24.063026952315134, 114.156, 'mse = -0.0\\nsamples = 1\\nvalue = 24535.699'),\n",
       " Text(24.371527297857636, 125.02799999999999, 'mse = 0.0\\nsamples = 1\\nvalue = 24873.385'),\n",
       " Text(27.14803040774015, 157.644, 'X[0] <= 46.0\\nmse = 29704599.382\\nsamples = 15\\nvalue = 25298.721'),\n",
       " Text(25.29702833448514, 146.772, 'X[1] <= 21.512\\nmse = 61503463.583\\nsamples = 6\\nvalue = 27754.956'),\n",
       " Text(24.98852798894264, 135.9, 'mse = 0.0\\nsamples = 1\\nvalue = 18767.738'),\n",
       " Text(25.605528680027643, 135.9, 'X[2] <= 0.5\\nmse = 54419332.826\\nsamples = 5\\nvalue = 29552.4'),\n",
       " Text(24.98852798894264, 125.02799999999999, 'X[0] <= 43.5\\nmse = 46210573.283\\nsamples = 3\\nvalue = 25576.316'),\n",
       " Text(24.680027643400138, 114.156, 'X[1] <= 27.32\\nmse = 1727240.446\\nsamples = 2\\nvalue = 20829.787'),\n",
       " Text(24.371527297857636, 103.28399999999999, 'mse = 0.0\\nsamples = 1\\nvalue = 19515.542'),\n",
       " Text(24.98852798894264, 103.28399999999999, 'mse = -0.0\\nsamples = 1\\nvalue = 22144.032'),\n",
       " Text(25.29702833448514, 114.156, 'mse = 0.0\\nsamples = 1\\nvalue = 35069.375'),\n",
       " Text(26.222529371112646, 125.02799999999999, 'X[2] <= 2.0\\nmse = 7447808.546\\nsamples = 2\\nvalue = 35516.526'),\n",
       " Text(25.914029025570144, 114.156, 'mse = 0.0\\nsamples = 1\\nvalue = 38245.593'),\n",
       " Text(26.531029716655148, 114.156, 'mse = -0.0\\nsamples = 1\\nvalue = 32787.459'),\n",
       " Text(28.99903248099516, 146.772, 'X[9] <= 0.5\\nmse = 1801919.112\\nsamples = 9\\nvalue = 23661.23'),\n",
       " Text(28.382031789910158, 135.9, 'X[0] <= 55.0\\nmse = 863092.613\\nsamples = 7\\nvalue = 24215.612'),\n",
       " Text(28.073531444367656, 125.02799999999999, 'X[2] <= 2.5\\nmse = 374865.565\\nsamples = 6\\nvalue = 24516.105'),\n",
       " Text(27.14803040774015, 114.156, 'X[2] <= 0.5\\nmse = 113574.766\\nsamples = 3\\nvalue = 23976.426'),\n",
       " Text(26.83953006219765, 103.28399999999999, 'mse = 0.0\\nsamples = 1\\nvalue = 24393.622'),\n",
       " Text(27.456530753282653, 103.28399999999999, 'X[2] <= 1.5\\nmse = 39822.408\\nsamples = 2\\nvalue = 23767.828'),\n",
       " Text(27.14803040774015, 92.412, 'mse = 0.0\\nsamples = 1\\nvalue = 23568.272'),\n",
       " Text(27.765031098825155, 92.412, 'mse = 0.0\\nsamples = 1\\nvalue = 23967.383'),\n",
       " Text(28.99903248099516, 114.156, 'X[0] <= 53.0\\nmse = 53648.366\\nsamples = 3\\nvalue = 25055.785'),\n",
       " Text(28.69053213545266, 103.28399999999999, 'X[7] <= 0.5\\nmse = 514.928\\nsamples = 2\\nvalue = 24892.529'),\n",
       " Text(28.382031789910158, 92.412, 'mse = 0.0\\nsamples = 1\\nvalue = 24915.221'),\n",
       " Text(28.99903248099516, 92.412, 'mse = 0.0\\nsamples = 1\\nvalue = 24869.837'),\n",
       " Text(29.307532826537663, 103.28399999999999, 'mse = -0.0\\nsamples = 1\\nvalue = 25382.297'),\n",
       " Text(28.69053213545266, 125.02799999999999, 'mse = -0.0\\nsamples = 1\\nvalue = 22412.648'),\n",
       " Text(29.616033172080165, 135.9, 'X[0] <= 49.5\\nmse = 247227.281\\nsamples = 2\\nvalue = 21720.895'),\n",
       " Text(29.307532826537663, 125.02799999999999, 'mse = 0.0\\nsamples = 1\\nvalue = 21223.676'),\n",
       " Text(29.924533517622667, 125.02799999999999, 'mse = 0.0\\nsamples = 1\\nvalue = 22218.115'),\n",
       " Text(31.698410504492053, 168.516, 'X[1] <= 25.227\\nmse = 2039365.267\\nsamples = 13\\nvalue = 28418.359'),\n",
       " Text(30.850034554250172, 157.644, 'X[8] <= 0.5\\nmse = 379611.623\\nsamples = 3\\nvalue = 26547.736'),\n",
       " Text(30.54153420870767, 146.772, 'X[1] <= 23.375\\nmse = 3102.473\\nsamples = 2\\nvalue = 26982.214'),\n",
       " Text(30.23303386316517, 135.9, 'mse = 0.0\\nsamples = 1\\nvalue = 27037.914'),\n",
       " Text(30.850034554250172, 135.9, 'mse = 0.0\\nsamples = 1\\nvalue = 26926.514'),\n",
       " Text(31.158534899792674, 146.772, 'mse = 0.0\\nsamples = 1\\nvalue = 25678.778'),\n",
       " Text(32.54678645473393, 157.644, 'X[0] <= 58.0\\nmse = 1172591.686\\nsamples = 10\\nvalue = 28979.545'),\n",
       " Text(31.775535590877677, 146.772, 'X[7] <= 0.5\\nmse = 24881.221\\nsamples = 2\\nvalue = 27376.175'),\n",
       " Text(31.467035245335175, 135.9, 'mse = 0.0\\nsamples = 1\\nvalue = 27533.913'),\n",
       " Text(32.08403593642018, 135.9, 'mse = 0.0\\nsamples = 1\\nvalue = 27218.437'),\n",
       " Text(33.318037318590186, 146.772, 'X[2] <= 2.0\\nmse = 656145.442\\nsamples = 8\\nvalue = 29380.388'),\n",
       " Text(32.70103662750518, 135.9, 'X[1] <= 26.79\\nmse = 204893.815\\nsamples = 6\\nvalue = 28985.996'),\n",
       " Text(32.39253628196268, 125.02799999999999, 'mse = 0.0\\nsamples = 1\\nvalue = 28101.333'),\n",
       " Text(33.00953697304769, 125.02799999999999, 'X[7] <= 0.5\\nmse = 58041.786\\nsamples = 5\\nvalue = 29162.928'),\n",
       " Text(32.70103662750518, 114.156, 'X[0] <= 63.5\\nmse = 31998.852\\nsamples = 4\\nvalue = 29072.869'),\n",
       " Text(32.39253628196268, 103.28399999999999, 'X[1] <= 28.69\\nmse = 13054.983\\nsamples = 3\\nvalue = 28986.831'),\n",
       " Text(32.08403593642018, 92.412, 'X[2] <= 0.5\\nmse = 1673.027\\nsamples = 2\\nvalue = 28909.567'),\n",
       " Text(31.775535590877677, 81.53999999999999, 'mse = 0.0\\nsamples = 1\\nvalue = 28950.469'),\n",
       " Text(32.39253628196268, 81.53999999999999, 'mse = 0.0\\nsamples = 1\\nvalue = 28868.664'),\n",
       " Text(32.70103662750518, 92.412, 'mse = 0.0\\nsamples = 1\\nvalue = 29141.36'),\n",
       " Text(33.00953697304769, 103.28399999999999, 'mse = 0.0\\nsamples = 1\\nvalue = 29330.983'),\n",
       " Text(33.318037318590186, 114.156, 'mse = -0.0\\nsamples = 1\\nvalue = 29523.166'),\n",
       " Text(33.93503800967519, 135.9, 'X[4] <= 0.5\\nmse = 143358.822\\nsamples = 2\\nvalue = 30563.564'),\n",
       " Text(33.626537664132684, 125.02799999999999, 'mse = 0.0\\nsamples = 1\\nvalue = 30942.192'),\n",
       " Text(34.243538355217694, 125.02799999999999, 'mse = 0.0\\nsamples = 1\\nvalue = 30184.937'),\n",
       " Text(61.218037318590184, 190.26, 'X[0] <= 50.5\\nmse = 33414294.421\\nsamples = 110\\nvalue = 41349.277'),\n",
       " Text(51.44243261921216, 179.388, 'X[1] <= 36.135\\nmse = 19120467.356\\nsamples = 81\\nvalue = 39087.31'),\n",
       " Text(44.30836212854181, 168.516, 'X[0] <= 28.5\\nmse = 8133801.87\\nsamples = 54\\nvalue = 37324.019'),\n",
       " Text(39.56516931582585, 157.644, 'X[1] <= 32.205\\nmse = 1482004.361\\nsamples = 26\\nvalue = 34931.136'),\n",
       " Text(37.020041465100206, 146.772, 'X[0] <= 21.0\\nmse = 569060.497\\nsamples = 13\\nvalue = 34104.524'),\n",
       " Text(35.4775397373877, 135.9, 'X[1] <= 30.467\\nmse = 283804.835\\nsamples = 6\\nvalue = 33519.642'),\n",
       " Text(34.86053904630269, 125.02799999999999, 'X[1] <= 30.135\\nmse = 144100.07\\nsamples = 2\\nvalue = 32927.946'),\n",
       " Text(34.55203870076019, 114.156, 'mse = 0.0\\nsamples = 1\\nvalue = 33307.551'),\n",
       " Text(35.169039391845196, 114.156, 'mse = 0.0\\nsamples = 1\\nvalue = 32548.34'),\n",
       " Text(36.0945404284727, 125.02799999999999, 'X[2] <= 1.0\\nmse = 91078.472\\nsamples = 4\\nvalue = 33815.491'),\n",
       " Text(35.7860400829302, 114.156, 'X[1] <= 31.207\\nmse = 15736.471\\nsamples = 3\\nvalue = 33652.932'),\n",
       " Text(35.4775397373877, 103.28399999999999, 'mse = 0.0\\nsamples = 1\\nvalue = 33475.817'),\n",
       " Text(36.0945404284727, 103.28399999999999, 'X[0] <= 18.5\\nmse = 77.485\\nsamples = 2\\nvalue = 33741.489'),\n",
       " Text(35.7860400829302, 92.412, 'mse = 0.0\\nsamples = 1\\nvalue = 33732.687'),\n",
       " Text(36.4030407740152, 92.412, 'mse = -0.0\\nsamples = 1\\nvalue = 33750.292'),\n",
       " Text(36.4030407740152, 114.156, 'mse = 0.0\\nsamples = 1\\nvalue = 34303.167'),\n",
       " Text(38.56254319281271, 135.9, 'X[2] <= 2.0\\nmse = 269020.268\\nsamples = 7\\nvalue = 34605.85'),\n",
       " Text(38.25404284727021, 125.02799999999999, 'X[0] <= 25.5\\nmse = 123382.256\\nsamples = 6\\nvalue = 34440.894'),\n",
       " Text(37.63704215618521, 114.156, 'X[8] <= 0.5\\nmse = 21634.441\\nsamples = 3\\nvalue = 34109.291'),\n",
       " Text(37.328541810642704, 103.28399999999999, 'X[1] <= 31.233\\nmse = 1926.347\\nsamples = 2\\nvalue = 34210.163'),\n",
       " Text(37.020041465100206, 92.412, 'mse = 0.0\\nsamples = 1\\nvalue = 34254.053'),\n",
       " Text(37.63704215618521, 92.412, 'mse = -0.0\\nsamples = 1\\nvalue = 34166.273'),\n",
       " Text(37.945542501727715, 103.28399999999999, 'mse = -0.0\\nsamples = 1\\nvalue = 33907.548'),\n",
       " Text(38.87104353835522, 114.156, 'X[0] <= 27.5\\nmse = 5209.955\\nsamples = 3\\nvalue = 34772.496'),\n",
       " Text(38.56254319281271, 103.28399999999999, 'X[9] <= 0.5\\nmse = 262.526\\nsamples = 2\\nvalue = 34822.67'),\n",
       " Text(38.25404284727021, 92.412, 'mse = 0.0\\nsamples = 1\\nvalue = 34838.873'),\n",
       " Text(38.87104353835522, 92.412, 'mse = 0.0\\nsamples = 1\\nvalue = 34806.468'),\n",
       " Text(39.17954388389772, 103.28399999999999, 'mse = -0.0\\nsamples = 1\\nvalue = 34672.147'),\n",
       " Text(38.87104353835522, 125.02799999999999, 'mse = -0.0\\nsamples = 1\\nvalue = 35595.59'),\n",
       " Text(42.11029716655148, 146.772, 'X[1] <= 35.612\\nmse = 1028370.975\\nsamples = 13\\nvalue = 35757.749'),\n",
       " Text(41.33904630269523, 135.9, 'X[2] <= 1.0\\nmse = 699514.419\\nsamples = 11\\nvalue = 35477.409'),\n",
       " Text(40.72204561161023, 125.02799999999999, 'X[8] <= 0.5\\nmse = 672607.396\\nsamples = 7\\nvalue = 35089.017'),\n",
       " Text(40.41354526606773, 114.156, 'X[1] <= 35.25\\nmse = 147888.677\\nsamples = 6\\nvalue = 34787.397'),\n",
       " Text(40.10504492052522, 103.28399999999999, 'X[1] <= 34.167\\nmse = 24564.916\\nsamples = 5\\nvalue = 34627.761'),\n",
       " Text(39.48804422944022, 92.412, 'X[0] <= 18.5\\nmse = 5976.832\\nsamples = 3\\nvalue = 34510.179'),\n",
       " Text(39.17954388389772, 81.53999999999999, 'mse = 0.0\\nsamples = 1\\nvalue = 34617.841'),\n",
       " Text(39.79654457498272, 81.53999999999999, 'X[4] <= 0.5\\nmse = 272.004\\nsamples = 2\\nvalue = 34456.348'),\n",
       " Text(39.48804422944022, 70.668, 'mse = 0.0\\nsamples = 1\\nvalue = 34439.856'),\n",
       " Text(40.10504492052522, 70.668, 'mse = -0.0\\nsamples = 1\\nvalue = 34472.841'),\n",
       " Text(40.72204561161023, 92.412, 'X[1] <= 34.85\\nmse = 601.206\\nsamples = 2\\nvalue = 34804.134'),\n",
       " Text(40.41354526606773, 81.53999999999999, 'mse = 0.0\\nsamples = 1\\nvalue = 34779.615'),\n",
       " Text(41.030545957152725, 81.53999999999999, 'mse = -0.0\\nsamples = 1\\nvalue = 34828.654'),\n",
       " Text(40.72204561161023, 103.28399999999999, 'mse = 0.0\\nsamples = 1\\nvalue = 35585.576'),\n",
       " Text(41.030545957152725, 114.156, 'mse = -0.0\\nsamples = 1\\nvalue = 36898.733'),\n",
       " Text(41.956046993780234, 125.02799999999999, 'X[0] <= 21.0\\nmse = 20643.427\\nsamples = 4\\nvalue = 36157.095'),\n",
       " Text(41.647546648237736, 114.156, 'mse = 0.0\\nsamples = 1\\nvalue = 36397.576'),\n",
       " Text(42.26454733932273, 114.156, 'X[3] <= 0.5\\nmse = 1821.847\\nsamples = 3\\nvalue = 36076.935'),\n",
       " Text(41.956046993780234, 103.28399999999999, 'X[10] <= 0.5\\nmse = 387.198\\nsamples = 2\\nvalue = 36104.896'),\n",
       " Text(41.647546648237736, 92.412, 'mse = 0.0\\nsamples = 1\\nvalue = 36124.574'),\n",
       " Text(42.26454733932273, 92.412, 'mse = 0.0\\nsamples = 1\\nvalue = 36085.219'),\n",
       " Text(42.57304768486524, 103.28399999999999, 'mse = -0.0\\nsamples = 1\\nvalue = 36021.011'),\n",
       " Text(42.88154803040774, 135.9, 'X[4] <= 0.5\\nmse = 27464.038\\nsamples = 2\\nvalue = 37299.621'),\n",
       " Text(42.57304768486524, 125.02799999999999, 'mse = 0.0\\nsamples = 1\\nvalue = 37133.898'),\n",
       " Text(43.19004837595024, 125.02799999999999, 'mse = 0.0\\nsamples = 1\\nvalue = 37465.344'),\n",
       " Text(49.05155494125778, 157.644, 'X[0] <= 38.0\\nmse = 4056456.293\\nsamples = 28\\nvalue = 39545.982'),\n",
       " Text(46.04367657221838, 146.772, 'X[2] <= 1.5\\nmse = 5369593.957\\nsamples = 12\\nvalue = 38322.949'),\n",
       " Text(44.5782999308915, 135.9, 'X[1] <= 35.64\\nmse = 651304.26\\nsamples = 7\\nvalue = 36872.762'),\n",
       " Text(44.269799585349, 125.02799999999999, 'X[4] <= 0.5\\nmse = 373286.933\\nsamples = 6\\nvalue = 36637.764'),\n",
       " Text(43.49854872149274, 114.156, 'X[10] <= 0.5\\nmse = 9099.176\\nsamples = 2\\nvalue = 37174.762'),\n",
       " Text(43.19004837595024, 103.28399999999999, 'mse = 0.0\\nsamples = 1\\nvalue = 37270.151'),\n",
       " Text(43.807049067035244, 103.28399999999999, 'mse = 0.0\\nsamples = 1\\nvalue = 37079.372'),\n",
       " Text(45.04105044920525, 114.156, 'X[1] <= 34.85\\nmse = 339106.25\\nsamples = 4\\nvalue = 36369.266'),\n",
       " Text(44.42404975812025, 103.28399999999999, 'X[0] <= 31.5\\nmse = 124629.828\\nsamples = 2\\nvalue = 35844.67'),\n",
       " Text(44.11554941257775, 92.412, 'mse = 0.0\\nsamples = 1\\nvalue = 36197.699'),\n",
       " Text(44.732550103662746, 92.412, 'mse = -0.0\\nsamples = 1\\nvalue = 35491.64'),\n",
       " Text(45.658051140290254, 103.28399999999999, 'X[1] <= 35.415\\nmse = 3180.379\\nsamples = 2\\nvalue = 36893.862'),\n",
       " Text(45.349550794747756, 92.412, 'mse = 0.0\\nsamples = 1\\nvalue = 36837.467'),\n",
       " Text(45.96655148583275, 92.412, 'mse = -0.0\\nsamples = 1\\nvalue = 36950.257'),\n",
       " Text(44.886800276434, 125.02799999999999, 'mse = 0.0\\nsamples = 1\\nvalue = 38282.75'),\n",
       " Text(47.509053213545265, 135.9, 'X[1] <= 35.15\\nmse = 4908981.372\\nsamples = 5\\nvalue = 40353.21'),\n",
       " Text(47.20055286800276, 125.02799999999999, 'X[0] <= 36.5\\nmse = 538756.354\\nsamples = 4\\nvalue = 39295.149'),\n",
       " Text(46.58355217691776, 114.156, 'X[1] <= 33.895\\nmse = 27370.576\\nsamples = 2\\nvalue = 38580.915'),\n",
       " Text(46.27505183137526, 103.28399999999999, 'mse = 0.0\\nsamples = 1\\nvalue = 38415.474'),\n",
       " Text(46.89205252246026, 103.28399999999999, 'mse = 0.0\\nsamples = 1\\nvalue = 38746.355'),\n",
       " Text(47.81755355908777, 114.156, 'X[1] <= 34.45\\nmse = 29881.79\\nsamples = 2\\nvalue = 40009.382'),\n",
       " Text(47.509053213545265, 103.28399999999999, 'mse = 0.0\\nsamples = 1\\nvalue = 40182.246'),\n",
       " Text(48.12605390463027, 103.28399999999999, 'mse = 0.0\\nsamples = 1\\nvalue = 39836.519'),\n",
       " Text(47.81755355908777, 125.02799999999999, 'mse = 0.0\\nsamples = 1\\nvalue = 44585.456'),\n",
       " Text(52.059433310297166, 146.772, 'X[1] <= 32.943\\nmse = 1108352.48\\nsamples = 16\\nvalue = 40463.257'),\n",
       " Text(50.43980649619903, 135.9, 'X[2] <= 2.5\\nmse = 377294.422\\nsamples = 9\\nvalue = 39821.787'),\n",
       " Text(49.66855563234277, 125.02799999999999, 'X[8] <= 0.5\\nmse = 124652.136\\nsamples = 6\\nvalue = 39522.806'),\n",
       " Text(49.05155494125778, 114.156, 'X[0] <= 46.5\\nmse = 89802.969\\nsamples = 4\\nvalue = 39351.997'),\n",
       " Text(48.74305459571527, 103.28399999999999, 'X[10] <= 0.5\\nmse = 57031.352\\nsamples = 3\\nvalue = 39226.791'),\n",
       " Text(48.434554250172766, 92.412, 'X[0] <= 42.0\\nmse = 46475.221\\nsamples = 2\\nvalue = 39340.913'),\n",
       " Text(48.12605390463027, 81.53999999999999, 'mse = 0.0\\nsamples = 1\\nvalue = 39125.332'),\n",
       " Text(48.74305459571527, 81.53999999999999, 'mse = -0.0\\nsamples = 1\\nvalue = 39556.494'),\n",
       " Text(49.05155494125778, 92.412, 'mse = 0.0\\nsamples = 1\\nvalue = 38998.546'),\n",
       " Text(49.360055286800275, 103.28399999999999, 'mse = -0.0\\nsamples = 1\\nvalue = 39727.614'),\n",
       " Text(50.285556323427784, 114.156, 'X[1] <= 31.635\\nmse = 19295.182\\nsamples = 2\\nvalue = 39864.425'),\n",
       " Text(49.97705597788528, 103.28399999999999, 'mse = 0.0\\nsamples = 1\\nvalue = 39725.518'),\n",
       " Text(50.59405666897028, 103.28399999999999, 'mse = 0.0\\nsamples = 1\\nvalue = 40003.332'),\n",
       " Text(51.211057360055285, 125.02799999999999, 'X[0] <= 42.0\\nmse = 346242.709\\nsamples = 3\\nvalue = 40419.748'),\n",
       " Text(50.90255701451278, 114.156, 'mse = 0.0\\nsamples = 1\\nvalue = 39597.407'),\n",
       " Text(51.51955770559779, 114.156, 'X[0] <= 44.5\\nmse = 12180.913\\nsamples = 2\\nvalue = 40830.918'),\n",
       " Text(51.211057360055285, 103.28399999999999, 'mse = 0.0\\nsamples = 1\\nvalue = 40941.285'),\n",
       " Text(51.82805805114029, 103.28399999999999, 'mse = 0.0\\nsamples = 1\\nvalue = 40720.551'),\n",
       " Text(53.6790601243953, 135.9, 'X[0] <= 44.5\\nmse = 839026.036\\nsamples = 7\\nvalue = 41288.004'),\n",
       " Text(53.062059433310296, 125.02799999999999, 'X[7] <= 0.5\\nmse = 163645.46\\nsamples = 3\\nvalue = 40470.586'),\n",
       " Text(52.7535590877678, 114.156, 'X[10] <= 0.5\\nmse = 7204.232\\nsamples = 2\\nvalue = 40188.768'),\n",
       " Text(52.44505874222529, 103.28399999999999, 'mse = 0.0\\nsamples = 1\\nvalue = 40273.646'),\n",
       " Text(53.062059433310296, 103.28399999999999, 'mse = -0.0\\nsamples = 1\\nvalue = 40103.89'),\n",
       " Text(53.370559778852794, 114.156, 'mse = 0.0\\nsamples = 1\\nvalue = 41034.221'),\n",
       " Text(54.2960608154803, 125.02799999999999, 'X[2] <= 1.5\\nmse = 468585.146\\nsamples = 4\\nvalue = 41901.067'),\n",
       " Text(53.987560469937804, 114.156, 'X[9] <= 0.5\\nmse = 218781.333\\nsamples = 3\\nvalue = 41582.477'),\n",
       " Text(53.6790601243953, 103.28399999999999, 'X[1] <= 35.065\\nmse = 50639.108\\nsamples = 2\\nvalue = 41886.633'),\n",
       " Text(53.370559778852794, 92.412, 'mse = 0.0\\nsamples = 1\\nvalue = 41661.602'),\n",
       " Text(53.987560469937804, 92.412, 'mse = -0.0\\nsamples = 1\\nvalue = 42111.665'),\n",
       " Text(54.2960608154803, 103.28399999999999, 'mse = -0.0\\nsamples = 1\\nvalue = 40974.165'),\n",
       " Text(54.6045611610228, 114.156, 'mse = 0.0\\nsamples = 1\\nvalue = 42856.838'),\n",
       " Text(58.576503109882516, 168.516, 'X[0] <= 27.5\\nmse = 22438631.588\\nsamples = 27\\nvalue = 42613.892'),\n",
       " Text(56.841188666205944, 157.644, 'X[1] <= 45.21\\nmse = 5853387.092\\nsamples = 10\\nvalue = 39464.304'),\n",
       " Text(55.992812715964064, 146.772, 'X[1] <= 38.785\\nmse = 2345944.583\\nsamples = 8\\nvalue = 38503.676'),\n",
       " Text(55.22156185210781, 135.9, 'X[1] <= 37.562\\nmse = 1953.324\\nsamples = 2\\nvalue = 36263.602'),\n",
       " Text(54.913061506565306, 125.02799999999999, 'mse = 0.0\\nsamples = 1\\nvalue = 36219.405'),\n",
       " Text(55.53006219765031, 125.02799999999999, 'mse = -0.0\\nsamples = 1\\nvalue = 36307.798'),\n",
       " Text(56.764063579820316, 135.9, 'X[1] <= 42.495\\nmse = 897083.65\\nsamples = 6\\nvalue = 39250.367'),\n",
       " Text(56.14706288873531, 125.02799999999999, 'X[0] <= 25.5\\nmse = 323500.818\\nsamples = 4\\nvalue = 38718.814'),\n",
       " Text(55.83856254319281, 114.156, 'X[4] <= 0.5\\nmse = 76957.295\\nsamples = 3\\nvalue = 38421.166'),\n",
       " Text(55.53006219765031, 103.28399999999999, 'mse = 0.0\\nsamples = 1\\nvalue = 38792.686'),\n",
       " Text(56.14706288873531, 103.28399999999999, 'X[0] <= 22.0\\nmse = 11915.851\\nsamples = 2\\nvalue = 38235.406'),\n",
       " Text(55.83856254319281, 92.412, 'mse = 0.0\\nsamples = 1\\nvalue = 38344.566'),\n",
       " Text(56.45556323427782, 92.412, 'mse = 0.0\\nsamples = 1\\nvalue = 38126.246'),\n",
       " Text(56.45556323427782, 114.156, 'mse = 0.0\\nsamples = 1\\nvalue = 39611.758'),\n",
       " Text(57.38106427090532, 125.02799999999999, 'X[2] <= 0.5\\nmse = 348957.975\\nsamples = 2\\nvalue = 40313.473'),\n",
       " Text(57.072563925362815, 114.156, 'mse = 0.0\\nsamples = 1\\nvalue = 39722.746'),\n",
       " Text(57.689564616447825, 114.156, 'mse = -0.0\\nsamples = 1\\nvalue = 40904.2'),\n",
       " Text(57.689564616447825, 146.772, 'X[2] <= 1.5\\nmse = 1427024.482\\nsamples = 2\\nvalue = 43306.817'),\n",
       " Text(57.38106427090532, 135.9, 'mse = 0.0\\nsamples = 1\\nvalue = 44501.398'),\n",
       " Text(57.99806496199032, 135.9, 'mse = -0.0\\nsamples = 1\\nvalue = 42112.236'),\n",
       " Text(60.31181755355909, 157.644, 'X[7] <= 0.5\\nmse = 22926928.648\\nsamples = 17\\nvalue = 44466.59'),\n",
       " Text(59.694816862474084, 146.772, 'X[0] <= 29.0\\nmse = 11890505.114\\nsamples = 15\\nvalue = 43573.842'),\n",
       " Text(59.38631651693158, 135.9, 'mse = 0.0\\nsamples = 1\\nvalue = 51194.559'),\n",
       " Text(60.00331720801658, 135.9, 'X[1] <= 37.93\\nmse = 8295285.793\\nsamples = 14\\nvalue = 43029.505'),\n",
       " Text(58.61506565307533, 125.02799999999999, 'X[0] <= 42.0\\nmse = 1250048.929\\nsamples = 4\\nvalue = 39875.057'),\n",
       " Text(58.30656530753282, 114.156, 'X[2] <= 1.5\\nmse = 225092.639\\nsamples = 3\\nvalue = 39274.715'),\n",
       " Text(57.99806496199032, 103.28399999999999, 'mse = 0.0\\nsamples = 1\\nvalue = 39871.704'),\n",
       " Text(58.61506565307533, 103.28399999999999, 'X[0] <= 30.5\\nmse = 70342.179\\nsamples = 2\\nvalue = 38976.221'),\n",
       " Text(58.30656530753282, 92.412, 'mse = 0.0\\nsamples = 1\\nvalue = 39241.442'),\n",
       " Text(58.92356599861783, 92.412, 'mse = -0.0\\nsamples = 1\\nvalue = 38711.0'),\n",
       " Text(58.92356599861783, 114.156, 'mse = -0.0\\nsamples = 1\\nvalue = 41676.081'),\n",
       " Text(61.391568762957846, 125.02799999999999, 'X[0] <= 43.5\\nmse = 5541078.035\\nsamples = 10\\nvalue = 44291.284'),\n",
       " Text(60.46606772633034, 114.156, 'X[1] <= 39.38\\nmse = 3691091.712\\nsamples = 5\\nvalue = 42987.716'),\n",
       " Text(59.849067035245334, 103.28399999999999, 'X[3] <= 0.5\\nmse = 811197.733\\nsamples = 3\\nvalue = 41642.898'),\n",
       " Text(59.54056668970283, 92.412, 'X[0] <= 40.5\\nmse = 93387.173\\nsamples = 2\\nvalue = 42254.837'),\n",
       " Text(59.23206634416033, 81.53999999999999, 'mse = 0.0\\nsamples = 1\\nvalue = 41949.244'),\n",
       " Text(59.849067035245334, 81.53999999999999, 'mse = 0.0\\nsamples = 1\\nvalue = 42560.43'),\n",
       " Text(60.15756738078784, 92.412, 'mse = -0.0\\nsamples = 1\\nvalue = 40419.019'),\n",
       " Text(61.08306841741534, 103.28399999999999, 'X[10] <= 0.5\\nmse = 1228921.569\\nsamples = 2\\nvalue = 45004.944'),\n",
       " Text(60.774568071872835, 92.412, 'mse = 0.0\\nsamples = 1\\nvalue = 43896.376'),\n",
       " Text(61.391568762957846, 92.412, 'mse = 0.0\\nsamples = 1\\nvalue = 46113.511'),\n",
       " Text(62.31706979958535, 114.156, 'X[1] <= 38.5\\nmse = 3992488.29\\nsamples = 5\\nvalue = 45594.851'),\n",
       " Text(62.00856945404284, 103.28399999999999, 'mse = 0.0\\nsamples = 1\\nvalue = 48885.136'),\n",
       " Text(62.62557014512785, 103.28399999999999, 'X[1] <= 39.757\\nmse = 1607493.924\\nsamples = 4\\nvalue = 44772.28'),\n",
       " Text(62.00856945404284, 92.412, 'X[3] <= 0.5\\nmse = 371609.173\\nsamples = 2\\nvalue = 43593.056'),\n",
       " Text(61.700069108500344, 81.53999999999999, 'mse = 0.0\\nsamples = 1\\nvalue = 44202.654'),\n",
       " Text(62.31706979958535, 81.53999999999999, 'mse = -0.0\\nsamples = 1\\nvalue = 42983.458'),\n",
       " Text(63.24257083621285, 92.412, 'X[8] <= 0.5\\nmse = 62240.956\\nsamples = 2\\nvalue = 45951.504'),\n",
       " Text(62.93407049067035, 81.53999999999999, 'mse = 0.0\\nsamples = 1\\nvalue = 46200.985'),\n",
       " Text(63.551071181755354, 81.53999999999999, 'mse = -0.0\\nsamples = 1\\nvalue = 45702.022'),\n",
       " Text(60.92881824464409, 146.772, 'X[2] <= 2.0\\nmse = 54891335.636\\nsamples = 2\\nvalue = 51162.206'),\n",
       " Text(60.620317899101586, 135.9, 'mse = 0.0\\nsamples = 1\\nvalue = 58571.074'),\n",
       " Text(61.23731859018659, 135.9, 'mse = -0.0\\nsamples = 1\\nvalue = 43753.337'),\n",
       " Text(70.99364201796821, 179.388, 'X[1] <= 45.155\\nmse = 19131558.1\\nsamples = 29\\nvalue = 47667.186'),\n",
       " Text(70.6851416724257, 168.516, 'X[2] <= 2.5\\nmse = 10222841.249\\nsamples = 28\\nvalue = 47092.07'),\n",
       " Text(68.25570145127851, 157.644, 'X[0] <= 57.5\\nmse = 4733077.172\\nsamples = 23\\nvalue = 46537.942'),\n",
       " Text(66.17332411886662, 146.772, 'X[1] <= 39.93\\nmse = 3349004.246\\nsamples = 10\\nvalue = 45106.163'),\n",
       " Text(65.40207325501036, 135.9, 'X[1] <= 34.157\\nmse = 166400.323\\nsamples = 7\\nvalue = 43950.481'),\n",
       " Text(64.78507256392535, 125.02799999999999, 'X[1] <= 33.868\\nmse = 65419.484\\nsamples = 4\\nvalue = 43642.102'),\n",
       " Text(64.47657221838286, 114.156, 'X[3] <= 0.5\\nmse = 20426.531\\nsamples = 3\\nvalue = 43771.33'),\n",
       " Text(64.16807187284036, 103.28399999999999, 'X[2] <= 1.0\\nmse = 2879.267\\nsamples = 2\\nvalue = 43867.525'),\n",
       " Text(63.85957152729786, 92.412, 'mse = 0.0\\nsamples = 1\\nvalue = 43921.184'),\n",
       " Text(64.47657221838286, 92.412, 'mse = -0.0\\nsamples = 1\\nvalue = 43813.866'),\n",
       " Text(64.78507256392535, 103.28399999999999, 'mse = -0.0\\nsamples = 1\\nvalue = 43578.939'),\n",
       " Text(65.09357290946787, 114.156, 'mse = -0.0\\nsamples = 1\\nvalue = 43254.418'),\n",
       " Text(66.01907394609538, 125.02799999999999, 'X[1] <= 34.705\\nmse = 5181.961\\nsamples = 3\\nvalue = 44361.653'),\n",
       " Text(65.71057360055286, 114.156, 'mse = 0.0\\nsamples = 1\\nvalue = 44260.75'),\n",
       " Text(66.32757429163787, 114.156, 'X[1] <= 36.63\\nmse = 136.85\\nsamples = 2\\nvalue = 44412.105'),\n",
       " Text(66.01907394609538, 103.28399999999999, 'mse = 0.0\\nsamples = 1\\nvalue = 44423.803'),\n",
       " Text(66.63607463718037, 103.28399999999999, 'mse = 0.0\\nsamples = 1\\nvalue = 44400.406'),\n",
       " Text(66.94457498272287, 135.9, 'X[2] <= 1.5\\nmse = 387067.902\\nsamples = 3\\nvalue = 47802.755'),\n",
       " Text(66.63607463718037, 125.02799999999999, 'mse = 0.0\\nsamples = 1\\nvalue = 48675.518'),\n",
       " Text(67.25307532826537, 125.02799999999999, 'X[0] <= 51.5\\nmse = 9316.11\\nsamples = 2\\nvalue = 47366.374'),\n",
       " Text(66.94457498272287, 114.156, 'mse = 0.0\\nsamples = 1\\nvalue = 47462.894'),\n",
       " Text(67.56157567380788, 114.156, 'mse = 0.0\\nsamples = 1\\nvalue = 47269.854'),\n",
       " Text(70.33807878369039, 146.772, 'X[1] <= 32.625\\nmse = 3007819.712\\nsamples = 13\\nvalue = 47639.311'),\n",
       " Text(69.10407740152039, 135.9, 'X[10] <= 0.5\\nmse = 1001035.607\\nsamples = 4\\nvalue = 46328.881'),\n",
       " Text(68.48707671043539, 125.02799999999999, 'X[9] <= 0.5\\nmse = 122938.715\\nsamples = 2\\nvalue = 45359.582'),\n",
       " Text(68.17857636489288, 114.156, 'mse = 0.0\\nsamples = 1\\nvalue = 45710.208'),\n",
       " Text(68.79557705597789, 114.156, 'mse = 0.0\\nsamples = 1\\nvalue = 45008.956'),\n",
       " Text(69.72107809260538, 125.02799999999999, 'X[1] <= 31.75\\nmse = 50.766\\nsamples = 2\\nvalue = 47298.18'),\n",
       " Text(69.41257774706288, 114.156, 'mse = 0.0\\nsamples = 1\\nvalue = 47291.055'),\n",
       " Text(70.0295784381479, 114.156, 'mse = 0.0\\nsamples = 1\\nvalue = 47305.305'),\n",
       " Text(71.5720801658604, 135.9, 'X[1] <= 33.3\\nmse = 2797306.666\\nsamples = 9\\nvalue = 48221.724'),\n",
       " Text(71.2635798203179, 125.02799999999999, 'mse = 0.0\\nsamples = 1\\nvalue = 52590.829'),\n",
       " Text(71.8805805114029, 125.02799999999999, 'X[1] <= 36.342\\nmse = 462567.957\\nsamples = 8\\nvalue = 47675.586'),\n",
       " Text(70.64657912923289, 114.156, 'X[2] <= 0.5\\nmse = 257280.309\\nsamples = 4\\nvalue = 47205.07'),\n",
       " Text(70.0295784381479, 103.28399999999999, 'X[1] <= 34.87\\nmse = 21047.162\\nsamples = 2\\nvalue = 46744.185'),\n",
       " Text(69.72107809260538, 92.412, 'mse = 0.0\\nsamples = 1\\nvalue = 46889.261'),\n",
       " Text(70.33807878369039, 92.412, 'mse = -0.0\\nsamples = 1\\nvalue = 46599.108'),\n",
       " Text(71.2635798203179, 103.28399999999999, 'X[0] <= 62.5\\nmse = 68683.306\\nsamples = 2\\nvalue = 47665.955'),\n",
       " Text(70.9550794747754, 92.412, 'mse = 0.0\\nsamples = 1\\nvalue = 47403.88'),\n",
       " Text(71.5720801658604, 92.412, 'mse = -0.0\\nsamples = 1\\nvalue = 47928.03'),\n",
       " Text(73.1145818935729, 114.156, 'X[0] <= 59.5\\nmse = 225084.958\\nsamples = 4\\nvalue = 48146.102'),\n",
       " Text(72.49758120248791, 103.28399999999999, 'X[3] <= 0.5\\nmse = 40059.402\\nsamples = 2\\nvalue = 47696.643'),\n",
       " Text(72.1890808569454, 92.412, 'mse = 0.0\\nsamples = 1\\nvalue = 47496.494'),\n",
       " Text(72.8060815480304, 92.412, 'mse = 0.0\\nsamples = 1\\nvalue = 47896.791'),\n",
       " Text(73.73158258465791, 103.28399999999999, 'X[3] <= 0.5\\nmse = 6083.661\\nsamples = 2\\nvalue = 48595.561'),\n",
       " Text(73.42308223911542, 92.412, 'mse = 0.0\\nsamples = 1\\nvalue = 48673.559'),\n",
       " Text(74.04008293020041, 92.412, 'mse = 0.0\\nsamples = 1\\nvalue = 48517.563'),\n",
       " Text(73.1145818935729, 157.644, 'X[1] <= 35.673\\nmse = 27565945.919\\nsamples = 5\\nvalue = 49641.059'),\n",
       " Text(72.49758120248791, 146.772, 'X[1] <= 32.68\\nmse = 44244020.155\\nsamples = 2\\nvalue = 53369.781'),\n",
       " Text(72.1890808569454, 135.9, 'mse = 0.0\\nsamples = 1\\nvalue = 46718.163'),\n",
       " Text(72.8060815480304, 135.9, 'mse = 0.0\\nsamples = 1\\nvalue = 60021.399'),\n",
       " Text(73.73158258465791, 146.772, 'X[4] <= 0.5\\nmse = 999043.237\\nsamples = 3\\nvalue = 47155.244'),\n",
       " Text(73.42308223911542, 135.9, 'X[1] <= 36.955\\nmse = 41275.997\\nsamples = 2\\nvalue = 46458.277'),\n",
       " Text(73.1145818935729, 125.02799999999999, 'mse = 0.0\\nsamples = 1\\nvalue = 46661.442'),\n",
       " Text(73.73158258465791, 125.02799999999999, 'mse = 0.0\\nsamples = 1\\nvalue = 46255.112'),\n",
       " Text(74.04008293020041, 135.9, 'mse = 0.0\\nsamples = 1\\nvalue = 48549.178'),\n",
       " Text(71.30214236351071, 168.516, 'mse = 0.0\\nsamples = 1\\nvalue = 63770.428'),\n",
       " Text(217.59975089895042, 201.132, 'X[0] <= 42.5\\nmse = 37895665.753\\nsamples = 792\\nvalue = 8389.541'),\n",
       " Text(158.7028284543452, 190.26, 'X[2] <= 0.5\\nmse = 22509204.481\\nsamples = 456\\nvalue = 5370.749'),\n",
       " Text(116.4219748833794, 179.388, 'X[0] <= 32.5\\nmse = 17279627.288\\nsamples = 191\\nvalue = 3803.859'),\n",
       " Text(103.64014879923981, 168.516, 'X[0] <= 22.5\\nmse = 15783332.961\\nsamples = 157\\nvalue = 3222.54'),\n",
       " Text(92.90198686938493, 157.644, 'X[7] <= 0.5\\nmse = 11239487.835\\nsamples = 93\\nvalue = 2533.064'),\n",
       " Text(86.67895646164477, 146.772, 'X[1] <= 33.05\\nmse = 8030549.421\\nsamples = 68\\nvalue = 2167.69'),\n",
       " Text(83.08299930891499, 135.9, 'X[0] <= 21.5\\nmse = 111467.671\\nsamples = 40\\nvalue = 1739.114'),\n",
       " Text(79.63165169315826, 125.02799999999999, 'X[4] <= 0.5\\nmse = 80819.814\\nsamples = 33\\nvalue = 1646.014'),\n",
       " Text(76.7008984105045, 114.156, 'X[8] <= 0.5\\nmse = 42010.763\\nsamples = 15\\nvalue = 1844.932'),\n",
       " Text(75.5054595715273, 103.28399999999999, 'X[0] <= 19.5\\nmse = 7340.349\\nsamples = 11\\nvalue = 1730.915'),\n",
       " Text(74.65708362128541, 92.412, 'X[9] <= 0.5\\nmse = 3117.775\\nsamples = 9\\nvalue = 1698.294'),\n",
       " Text(73.88583275742916, 81.53999999999999, 'X[1] <= 24.75\\nmse = 68.426\\nsamples = 6\\nvalue = 1737.469'),\n",
       " Text(73.26883206634416, 70.668, 'X[1] <= 19.6\\nmse = 2.679\\nsamples = 3\\nvalue = 1729.453'),\n",
       " Text(72.96033172080166, 59.79599999999999, 'X[1] <= 18.2\\nmse = 0.309\\nsamples = 2\\nvalue = 1728.341'),\n",
       " Text(72.65183137525915, 48.92400000000001, 'mse = 0.0\\nsamples = 1\\nvalue = 1727.785'),\n",
       " Text(73.26883206634416, 48.92400000000001, 'mse = 0.0\\nsamples = 1\\nvalue = 1728.897'),\n",
       " Text(73.57733241188666, 59.79599999999999, 'mse = 0.0\\nsamples = 1\\nvalue = 1731.677'),\n",
       " Text(74.50283344851417, 70.668, 'X[1] <= 31.35\\nmse = 5.672\\nsamples = 3\\nvalue = 1745.484'),\n",
       " Text(74.19433310297167, 59.79599999999999, 'X[1] <= 29.35\\nmse = 0.391\\nsamples = 2\\nvalue = 1743.84'),\n",
       " Text(73.88583275742916, 48.92400000000001, 'mse = 0.0\\nsamples = 1\\nvalue = 1743.214'),\n",
       " Text(74.50283344851417, 48.92400000000001, 'mse = -0.0\\nsamples = 1\\nvalue = 1744.465'),\n",
       " Text(74.81133379405667, 59.79599999999999, 'mse = -0.0\\nsamples = 1\\nvalue = 1748.774'),\n",
       " Text(75.42833448514168, 81.53999999999999, 'X[1] <= 28.93\\nmse = 8.749\\nsamples = 3\\nvalue = 1619.946'),\n",
       " Text(75.11983413959916, 70.668, 'mse = 0.0\\nsamples = 1\\nvalue = 1615.767'),\n",
       " Text(75.73683483068417, 70.668, 'X[1] <= 31.24\\nmse = 0.023\\nsamples = 2\\nvalue = 1622.036'),\n",
       " Text(75.42833448514168, 59.79599999999999, 'mse = 0.0\\nsamples = 1\\nvalue = 1621.883'),\n",
       " Text(76.04533517622667, 59.79599999999999, 'mse = -0.0\\nsamples = 1\\nvalue = 1622.188'),\n",
       " Text(76.35383552176917, 92.412, 'X[10] <= 0.5\\nmse = 5.584\\nsamples = 2\\nvalue = 1877.707'),\n",
       " Text(76.04533517622667, 81.53999999999999, 'mse = 0.0\\nsamples = 1\\nvalue = 1880.07'),\n",
       " Text(76.66233586731168, 81.53999999999999, 'mse = 0.0\\nsamples = 1\\nvalue = 1875.344'),\n",
       " Text(77.89633724948169, 103.28399999999999, 'X[0] <= 19.5\\nmse = 3292.165\\nsamples = 4\\nvalue = 2158.48'),\n",
       " Text(77.58783690393918, 92.412, 'X[1] <= 26.505\\nmse = 33.995\\nsamples = 3\\nvalue = 2125.482'),\n",
       " Text(77.27933655839668, 81.53999999999999, 'mse = 0.0\\nsamples = 1\\nvalue = 2117.339'),\n",
       " Text(77.89633724948169, 81.53999999999999, 'X[1] <= 31.303\\nmse = 1.26\\nsamples = 2\\nvalue = 2129.553'),\n",
       " Text(77.58783690393918, 70.668, 'mse = 0.0\\nsamples = 1\\nvalue = 2128.431'),\n",
       " Text(78.20483759502419, 70.668, 'mse = -0.0\\nsamples = 1\\nvalue = 2130.676'),\n",
       " Text(78.20483759502419, 92.412, 'mse = 0.0\\nsamples = 1\\nvalue = 2257.475'),\n",
       " Text(82.56240497581203, 114.156, 'X[8] <= 0.5\\nmse = 52708.933\\nsamples = 18\\nvalue = 1480.249'),\n",
       " Text(80.74996544574982, 103.28399999999999, 'X[0] <= 20.0\\nmse = 18651.427\\nsamples = 9\\nvalue = 1282.528'),\n",
       " Text(79.90158949550795, 92.412, 'X[0] <= 18.5\\nmse = 3111.312\\nsamples = 7\\nvalue = 1214.443'),\n",
       " Text(79.1303386316517, 81.53999999999999, 'X[1] <= 26.675\\nmse = 23.197\\nsamples = 2\\nvalue = 1126.69'),\n",
       " Text(78.82183828610918, 70.668, 'mse = 0.0\\nsamples = 1\\nvalue = 1121.874'),\n",
       " Text(79.4388389771942, 70.668, 'mse = -0.0\\nsamples = 1\\nvalue = 1131.507'),\n",
       " Text(80.6728403593642, 81.53999999999999, 'X[1] <= 24.15\\nmse = 34.288\\nsamples = 5\\nvalue = 1249.544'),\n",
       " Text(80.05583966827919, 70.668, 'X[1] <= 20.5\\nmse = 0.077\\nsamples = 2\\nvalue = 1242.538'),\n",
       " Text(79.74733932273669, 59.79599999999999, 'mse = 0.0\\nsamples = 1\\nvalue = 1242.26'),\n",
       " Text(80.3643400138217, 59.79599999999999, 'mse = 0.0\\nsamples = 1\\nvalue = 1242.816'),\n",
       " Text(81.2898410504492, 70.668, 'X[1] <= 29.55\\nmse = 2.563\\nsamples = 3\\nvalue = 1254.214'),\n",
       " Text(80.9813407049067, 59.79599999999999, 'X[1] <= 28.15\\nmse = 0.584\\nsamples = 2\\nvalue = 1253.172'),\n",
       " Text(80.6728403593642, 48.92400000000001, 'mse = 0.0\\nsamples = 1\\nvalue = 1252.407'),\n",
       " Text(81.2898410504492, 48.92400000000001, 'mse = -0.0\\nsamples = 1\\nvalue = 1253.936'),\n",
       " Text(81.59834139599171, 59.79599999999999, 'mse = 0.0\\nsamples = 1\\nvalue = 1256.299'),\n",
       " Text(81.59834139599171, 92.412, 'X[10] <= 0.5\\nmse = 30.069\\nsamples = 2\\nvalue = 1520.828'),\n",
       " Text(81.2898410504492, 81.53999999999999, 'mse = 0.0\\nsamples = 1\\nvalue = 1515.345'),\n",
       " Text(81.90684174153421, 81.53999999999999, 'mse = 0.0\\nsamples = 1\\nvalue = 1526.312'),\n",
       " Text(84.37484450587422, 103.28399999999999, 'X[0] <= 19.5\\nmse = 8579.477\\nsamples = 9\\nvalue = 1677.97'),\n",
       " Text(83.44934346924671, 92.412, 'X[1] <= 24.083\\nmse = 42.515\\nsamples = 7\\nvalue = 1631.81'),\n",
       " Text(82.5238424326192, 81.53999999999999, 'X[1] <= 18.952\\nmse = 8.536\\nsamples = 3\\nvalue = 1625.082'),\n",
       " Text(82.2153420870767, 70.668, 'mse = 0.0\\nsamples = 1\\nvalue = 1621.34'),\n",
       " Text(82.83234277816172, 70.668, 'X[1] <= 21.517\\nmse = 2.306\\nsamples = 2\\nvalue = 1626.952'),\n",
       " Text(82.5238424326192, 59.79599999999999, 'mse = 0.0\\nsamples = 1\\nvalue = 1625.434'),\n",
       " Text(83.14084312370422, 59.79599999999999, 'mse = 0.0\\nsamples = 1\\nvalue = 1628.471'),\n",
       " Text(84.37484450587422, 81.53999999999999, 'X[1] <= 29.212\\nmse = 8.583\\nsamples = 4\\nvalue = 1636.856'),\n",
       " Text(84.06634416033172, 70.668, 'X[1] <= 26.695\\nmse = 2.511\\nsamples = 2\\nvalue = 1634.149'),\n",
       " Text(83.75784381478921, 59.79599999999999, 'mse = 0.0\\nsamples = 1\\nvalue = 1632.564'),\n",
       " Text(84.37484450587422, 59.79599999999999, 'mse = 0.0\\nsamples = 1\\nvalue = 1635.734'),\n",
       " Text(84.68334485141672, 70.668, 'mse = 0.0\\nsamples = 2\\nvalue = 1639.563'),\n",
       " Text(85.30034554250173, 92.412, 'X[0] <= 20.5\\nmse = 4899.706\\nsamples = 2\\nvalue = 1839.53'),\n",
       " Text(84.99184519695922, 81.53999999999999, 'mse = 0.0\\nsamples = 1\\nvalue = 1769.532'),\n",
       " Text(85.60884588804423, 81.53999999999999, 'mse = 0.0\\nsamples = 1\\nvalue = 1909.527'),\n",
       " Text(86.53434692467174, 125.02799999999999, 'X[1] <= 22.267\\nmse = 22456.546\\nsamples = 7\\nvalue = 2178.013'),\n",
       " Text(86.22584657912923, 114.156, 'mse = 0.0\\nsamples = 1\\nvalue = 2527.819'),\n",
       " Text(86.84284727021424, 114.156, 'X[8] <= 0.5\\nmse = 2406.326\\nsamples = 6\\nvalue = 2119.712'),\n",
       " Text(86.22584657912923, 103.28399999999999, 'X[1] <= 25.7\\nmse = 5.65\\nsamples = 4\\nvalue = 2154.316'),\n",
       " Text(85.91734623358673, 92.412, 'mse = 0.0\\nsamples = 1\\nvalue = 2150.469'),\n",
       " Text(86.53434692467174, 92.412, 'X[1] <= 27.575\\nmse = 0.956\\nsamples = 3\\nvalue = 2155.598'),\n",
       " Text(86.22584657912923, 81.53999999999999, 'mse = 0.0\\nsamples = 1\\nvalue = 2154.361'),\n",
       " Text(86.84284727021424, 81.53999999999999, 'X[1] <= 28.435\\nmse = 0.286\\nsamples = 2\\nvalue = 2156.217'),\n",
       " Text(86.53434692467174, 70.668, 'mse = 0.0\\nsamples = 1\\nvalue = 2155.682'),\n",
       " Text(87.15134761575673, 70.668, 'mse = -0.0\\nsamples = 1\\nvalue = 2156.752'),\n",
       " Text(87.45984796129923, 103.28399999999999, 'X[1] <= 28.642\\nmse = 23.231\\nsamples = 2\\nvalue = 2050.505'),\n",
       " Text(87.15134761575673, 92.412, 'mse = 0.0\\nsamples = 1\\nvalue = 2045.685'),\n",
       " Text(87.76834830684174, 92.412, 'mse = 0.0\\nsamples = 1\\nvalue = 2055.325'),\n",
       " Text(90.27491361437457, 135.9, 'X[1] <= 33.2\\nmse = 18706275.095\\nsamples = 28\\nvalue = 2779.942'),\n",
       " Text(89.96641326883207, 125.02799999999999, 'mse = 0.0\\nsamples = 1\\nvalue = 23082.955'),\n",
       " Text(90.58341395991707, 125.02799999999999, 'X[1] <= 33.99\\nmse = 3566526.333\\nsamples = 27\\nvalue = 2027.978'),\n",
       " Text(89.00234968901175, 114.156, 'X[1] <= 33.77\\nmse = 22199944.186\\nsamples = 3\\nvalue = 4833.174'),\n",
       " Text(88.69384934346924, 103.28399999999999, 'X[3] <= 0.5\\nmse = 138416.589\\nsamples = 2\\nvalue = 1508.443'),\n",
       " Text(88.38534899792674, 92.412, 'mse = 0.0\\nsamples = 1\\nvalue = 1136.399'),\n",
       " Text(89.00234968901175, 92.412, 'mse = -0.0\\nsamples = 1\\nvalue = 1880.487'),\n",
       " Text(89.31085003455425, 103.28399999999999, 'mse = 0.0\\nsamples = 1\\nvalue = 11482.635'),\n",
       " Text(92.16447823082238, 114.156, 'X[3] <= 0.5\\nmse = 130753.744\\nsamples = 24\\nvalue = 1677.329'),\n",
       " Text(90.390601243953, 103.28399999999999, 'X[0] <= 20.0\\nmse = 67253.915\\nsamples = 11\\nvalue = 1402.05'),\n",
       " Text(89.61935038009675, 92.412, 'X[8] <= 0.5\\nmse = 28718.183\\nsamples = 7\\nvalue = 1250.837'),\n",
       " Text(89.31085003455425, 81.53999999999999, 'X[9] <= 0.5\\nmse = 3075.277\\nsamples = 6\\nvalue = 1184.905'),\n",
       " Text(88.69384934346924, 70.668, 'X[1] <= 34.75\\nmse = 0.816\\nsamples = 2\\nvalue = 1262.346'),\n",
       " Text(88.38534899792674, 59.79599999999999, 'mse = 0.0\\nsamples = 1\\nvalue = 1261.442'),\n",
       " Text(89.00234968901175, 59.79599999999999, 'mse = 0.0\\nsamples = 1\\nvalue = 1263.249'),\n",
       " Text(89.92785072563925, 70.668, 'X[1] <= 47.135\\nmse = 114.753\\nsamples = 4\\nvalue = 1146.185'),\n",
       " Text(89.61935038009675, 59.79599999999999, 'X[1] <= 37.785\\nmse = 20.329\\nsamples = 3\\nvalue = 1140.426'),\n",
       " Text(89.31085003455425, 48.92400000000001, 'X[1] <= 34.265\\nmse = 0.053\\nsamples = 2\\nvalue = 1137.24'),\n",
       " Text(89.00234968901175, 38.05199999999999, 'mse = 0.0\\nsamples = 1\\nvalue = 1137.011'),\n",
       " Text(89.61935038009675, 38.05199999999999, 'mse = -0.0\\nsamples = 1\\nvalue = 1137.47'),\n",
       " Text(89.92785072563925, 48.92400000000001, 'mse = 0.0\\nsamples = 1\\nvalue = 1146.797'),\n",
       " Text(90.23635107118176, 59.79599999999999, 'mse = 0.0\\nsamples = 1\\nvalue = 1163.463'),\n",
       " Text(89.92785072563925, 81.53999999999999, 'mse = 0.0\\nsamples = 1\\nvalue = 1646.43'),\n",
       " Text(91.16185210780925, 92.412, 'X[8] <= 0.5\\nmse = 24652.159\\nsamples = 4\\nvalue = 1666.672'),\n",
       " Text(90.85335176226675, 81.53999999999999, 'X[9] <= 0.5\\nmse = 4948.026\\nsamples = 3\\nvalue = 1583.124'),\n",
       " Text(90.54485141672426, 70.668, 'mse = 0.0\\nsamples = 1\\nvalue = 1682.597'),\n",
       " Text(91.16185210780925, 70.668, 'X[1] <= 36.19\\nmse = 0.842\\nsamples = 2\\nvalue = 1533.387'),\n",
       " Text(90.85335176226675, 59.79599999999999, 'mse = 0.0\\nsamples = 1\\nvalue = 1532.47'),\n",
       " Text(91.47035245335177, 59.79599999999999, 'mse = 0.0\\nsamples = 1\\nvalue = 1534.304'),\n",
       " Text(91.47035245335177, 81.53999999999999, 'mse = -0.0\\nsamples = 1\\nvalue = 1917.318'),\n",
       " Text(93.93835521769178, 103.28399999999999, 'X[0] <= 18.5\\nmse = 66108.756\\nsamples = 13\\nvalue = 1910.257'),\n",
       " Text(92.70435383552177, 92.412, 'X[1] <= 39.05\\nmse = 2.923\\nsamples = 5\\nvalue = 1632.372'),\n",
       " Text(92.08735314443676, 81.53999999999999, 'X[1] <= 37.51\\nmse = 0.816\\nsamples = 3\\nvalue = 1631.108'),\n",
       " Text(91.77885279889426, 70.668, 'mse = 0.0\\nsamples = 1\\nvalue = 1629.834'),\n",
       " Text(92.39585348997926, 70.668, 'X[1] <= 38.225\\nmse = 0.006\\nsamples = 2\\nvalue = 1631.745'),\n",
       " Text(92.08735314443676, 59.79599999999999, 'mse = 0.0\\nsamples = 1\\nvalue = 1631.668'),\n",
       " Text(92.70435383552177, 59.79599999999999, 'mse = 0.0\\nsamples = 1\\nvalue = 1631.821'),\n",
       " Text(93.32135452660677, 81.53999999999999, 'X[1] <= 40.04\\nmse = 0.094\\nsamples = 2\\nvalue = 1634.268'),\n",
       " Text(93.01285418106427, 70.668, 'mse = 0.0\\nsamples = 1\\nvalue = 1633.962'),\n",
       " Text(93.62985487214927, 70.668, 'mse = -0.0\\nsamples = 1\\nvalue = 1634.573'),\n",
       " Text(95.17235659986179, 92.412, 'X[1] <= 39.995\\nmse = 28998.21\\nsamples = 8\\nvalue = 2083.935'),\n",
       " Text(94.86385625431927, 81.53999999999999, 'X[8] <= 0.5\\nmse = 15938.662\\nsamples = 7\\nvalue = 2130.306'),\n",
       " Text(94.24685556323428, 70.668, 'X[0] <= 21.5\\nmse = 3904.17\\nsamples = 4\\nvalue = 2058.609'),\n",
       " Text(93.93835521769178, 59.79599999999999, 'X[1] <= 37.18\\nmse = 9.731\\nsamples = 3\\nvalue = 2022.568'),\n",
       " Text(93.62985487214927, 48.92400000000001, 'X[10] <= 0.5\\nmse = 0.035\\nsamples = 2\\nvalue = 2020.365'),\n",
       " Text(93.32135452660677, 38.05199999999999, 'mse = 0.0\\nsamples = 1\\nvalue = 2020.552'),\n",
       " Text(93.93835521769178, 38.05199999999999, 'mse = -0.0\\nsamples = 1\\nvalue = 2020.177'),\n",
       " Text(94.24685556323428, 48.92400000000001, 'mse = 0.0\\nsamples = 1\\nvalue = 2026.974'),\n",
       " Text(94.55535590877678, 59.79599999999999, 'mse = 0.0\\nsamples = 1\\nvalue = 2166.732'),\n",
       " Text(95.48085694540428, 70.668, 'X[0] <= 20.0\\nmse = 15992.08\\nsamples = 3\\nvalue = 2225.902'),\n",
       " Text(95.17235659986179, 59.79599999999999, 'X[1] <= 36.29\\nmse = 2.511\\nsamples = 2\\nvalue = 2136.486'),\n",
       " Text(94.86385625431927, 48.92400000000001, 'mse = 0.0\\nsamples = 1\\nvalue = 2134.902'),\n",
       " Text(95.48085694540428, 48.92400000000001, 'mse = 0.0\\nsamples = 1\\nvalue = 2138.071'),\n",
       " Text(95.78935729094678, 59.79599999999999, 'mse = 0.0\\nsamples = 1\\nvalue = 2404.734'),\n",
       " Text(95.48085694540428, 81.53999999999999, 'mse = -0.0\\nsamples = 1\\nvalue = 1759.338'),\n",
       " Text(99.12501727712508, 146.772, 'X[1] <= 28.833\\nmse = 18617014.306\\nsamples = 25\\nvalue = 3526.88'),\n",
       " Text(97.10048375950241, 135.9, 'X[4] <= 0.5\\nmse = 121913.681\\nsamples = 12\\nvalue = 1993.57'),\n",
       " Text(96.09785763648928, 125.02799999999999, 'X[1] <= 25.698\\nmse = 50180.18\\nsamples = 3\\nvalue = 2506.198'),\n",
       " Text(95.78935729094678, 114.156, 'X[1] <= 22.658\\nmse = 5333.494\\nsamples = 2\\nvalue = 2658.881'),\n",
       " Text(95.48085694540428, 103.28399999999999, 'mse = 0.0\\nsamples = 1\\nvalue = 2585.851'),\n",
       " Text(96.09785763648928, 103.28399999999999, 'mse = 0.0\\nsamples = 1\\nvalue = 2731.912'),\n",
       " Text(96.40635798203179, 114.156, 'mse = -0.0\\nsamples = 1\\nvalue = 2200.831'),\n",
       " Text(98.10310988251555, 125.02799999999999, 'X[0] <= 19.0\\nmse = 29030.327\\nsamples = 9\\nvalue = 1822.694'),\n",
       " Text(97.02335867311679, 114.156, 'X[1] <= 19.475\\nmse = 28.717\\nsamples = 6\\nvalue = 1705.14'),\n",
       " Text(96.71485832757429, 103.28399999999999, 'mse = 0.0\\nsamples = 1\\nvalue = 1694.796'),\n",
       " Text(97.33185901865929, 103.28399999999999, 'X[1] <= 24.938\\nmse = 8.781\\nsamples = 5\\nvalue = 1707.209'),\n",
       " Text(96.71485832757429, 92.412, 'X[1] <= 23.417\\nmse = 0.221\\nsamples = 3\\nvalue = 1704.964'),\n",
       " Text(96.40635798203179, 81.53999999999999, 'X[1] <= 23.037\\nmse = 0.004\\nsamples = 2\\nvalue = 1704.634'),\n",
       " Text(96.09785763648928, 70.668, 'mse = 0.0\\nsamples = 1\\nvalue = 1704.568'),\n",
       " Text(96.71485832757429, 70.668, 'mse = -0.0\\nsamples = 1\\nvalue = 1704.7'),\n",
       " Text(97.02335867311679, 81.53999999999999, 'mse = 0.0\\nsamples = 1\\nvalue = 1705.624'),\n",
       " Text(97.9488597097443, 92.412, 'X[1] <= 27.312\\nmse = 2.725\\nsamples = 2\\nvalue = 1710.576'),\n",
       " Text(97.6403593642018, 81.53999999999999, 'mse = 0.0\\nsamples = 1\\nvalue = 1708.926'),\n",
       " Text(98.2573600552868, 81.53999999999999, 'mse = -0.0\\nsamples = 1\\nvalue = 1712.227'),\n",
       " Text(99.1828610919143, 114.156, 'X[1] <= 27.645\\nmse = 4120.853\\nsamples = 3\\nvalue = 2057.8'),\n",
       " Text(98.8743607463718, 103.28399999999999, 'X[1] <= 26.695\\nmse = 0.854\\nsamples = 2\\nvalue = 2103.189'),\n",
       " Text(98.5658604008293, 92.412, 'mse = 0.0\\nsamples = 1\\nvalue = 2102.265'),\n",
       " Text(99.1828610919143, 92.412, 'mse = 0.0\\nsamples = 1\\nvalue = 2104.113'),\n",
       " Text(99.4913614374568, 103.28399999999999, 'mse = -0.0\\nsamples = 1\\nvalue = 1967.023'),\n",
       " Text(101.14955079474775, 135.9, 'X[1] <= 30.21\\nmse = 31515967.709\\nsamples = 13\\nvalue = 4942.244'),\n",
       " Text(100.26261230131306, 125.02799999999999, 'X[1] <= 29.64\\nmse = 65466766.933\\nsamples = 3\\nvalue = 10290.684'),\n",
       " Text(99.95411195577056, 114.156, 'mse = 0.0\\nsamples = 1\\nvalue = 7323.735'),\n",
       " Text(100.57111264685557, 114.156, 'mse = 91598057.787\\nsamples = 2\\nvalue = 11774.159'),\n",
       " Text(102.03648928818244, 125.02799999999999, 'X[4] <= 0.5\\nmse = 10174461.018\\nsamples = 10\\nvalue = 3337.712'),\n",
       " Text(101.18811333794056, 114.156, 'X[0] <= 19.0\\nmse = 37002.957\\nsamples = 7\\nvalue = 2321.116'),\n",
       " Text(100.41686247408431, 103.28399999999999, 'X[1] <= 34.39\\nmse = 23.356\\nsamples = 5\\nvalue = 2209.229'),\n",
       " Text(99.7998617829993, 92.412, 'X[1] <= 31.113\\nmse = 2.631\\nsamples = 3\\nvalue = 2205.805'),\n",
       " Text(99.4913614374568, 81.53999999999999, 'mse = 0.0\\nsamples = 1\\nvalue = 2203.736'),\n",
       " Text(100.10836212854181, 81.53999999999999, 'X[1] <= 32.537\\nmse = 0.737\\nsamples = 2\\nvalue = 2206.839'),\n",
       " Text(99.7998617829993, 70.668, 'mse = 0.0\\nsamples = 1\\nvalue = 2205.981'),\n",
       " Text(100.41686247408431, 70.668, 'mse = -0.0\\nsamples = 1\\nvalue = 2207.697'),\n",
       " Text(101.03386316516931, 92.412, 'X[1] <= 37.952\\nmse = 10.467\\nsamples = 2\\nvalue = 2214.366'),\n",
       " Text(100.72536281962681, 81.53999999999999, 'mse = 0.0\\nsamples = 1\\nvalue = 2211.131'),\n",
       " Text(101.34236351071182, 81.53999999999999, 'mse = 0.0\\nsamples = 1\\nvalue = 2217.601'),\n",
       " Text(101.95936420179682, 103.28399999999999, 'X[0] <= 21.0\\nmse = 19913.147\\nsamples = 2\\nvalue = 2600.834'),\n",
       " Text(101.65086385625432, 92.412, 'mse = 0.0\\nsamples = 1\\nvalue = 2459.72'),\n",
       " Text(102.26786454733931, 92.412, 'mse = 0.0\\nsamples = 1\\nvalue = 2741.948'),\n",
       " Text(102.88486523842433, 114.156, 'X[0] <= 19.0\\nmse = 25790451.919\\nsamples = 3\\nvalue = 5709.769'),\n",
       " Text(102.57636489288183, 103.28399999999999, 'mse = 0.0\\nsamples = 1\\nvalue = 12890.058'),\n",
       " Text(103.19336558396682, 103.28399999999999, 'X[1] <= 36.1\\nmse = 18271.388\\nsamples = 2\\nvalue = 2119.625'),\n",
       " Text(102.88486523842433, 92.412, 'mse = 0.0\\nsamples = 1\\nvalue = 2254.797'),\n",
       " Text(103.50186592950932, 92.412, 'mse = -0.0\\nsamples = 1\\nvalue = 1984.453'),\n",
       " Text(114.37831072909468, 157.644, 'X[1] <= 19.557\\nmse = 20691532.493\\nsamples = 64\\nvalue = 4224.435'),\n",
       " Text(111.7711212854181, 146.772, 'X[0] <= 24.5\\nmse = 89438943.833\\nsamples = 2\\nvalue = 12138.166'),\n",
       " Text(111.4626209398756, 135.9, 'mse = 0.0\\nsamples = 1\\nvalue = 21595.382'),\n",
       " Text(112.0796216309606, 135.9, 'mse = 0.0\\nsamples = 1\\nvalue = 2680.949'),\n",
       " Text(116.98550017277125, 146.772, 'X[1] <= 41.212\\nmse = 16388474.939\\nsamples = 62\\nvalue = 3969.153'),\n",
       " Text(112.69662232204561, 135.9, 'X[1] <= 23.305\\nmse = 13595791.926\\nsamples = 60\\nvalue = 3772.855'),\n",
       " Text(105.04436765722184, 125.02799999999999, 'X[1] <= 22.91\\nmse = 58272512.35\\nsamples = 7\\nvalue = 6435.754'),\n",
       " Text(104.73586731167933, 114.156, 'X[0] <= 31.5\\nmse = 381352.13\\nsamples = 6\\nvalue = 3328.085'),\n",
       " Text(104.42736696613683, 103.28399999999999, 'X[0] <= 25.0\\nmse = 102657.646\\nsamples = 5\\nvalue = 3084.855'),\n",
       " Text(104.11886662059433, 92.412, 'mse = 0.0\\nsamples = 1\\nvalue = 2457.502'),\n",
       " Text(104.73586731167933, 92.412, 'X[1] <= 21.85\\nmse = 5330.882\\nsamples = 4\\nvalue = 3241.693'),\n",
       " Text(104.11886662059433, 81.53999999999999, 'X[4] <= 0.5\\nmse = 2174.884\\nsamples = 2\\nvalue = 3306.835'),\n",
       " Text(103.81036627505183, 70.668, 'mse = 0.0\\nsamples = 1\\nvalue = 3353.47'),\n",
       " Text(104.42736696613683, 70.668, 'mse = 0.0\\nsamples = 1\\nvalue = 3260.199'),\n",
       " Text(105.35286800276434, 81.53999999999999, 'X[1] <= 22.42\\nmse = 0.07\\nsamples = 2\\nvalue = 3176.552'),\n",
       " Text(105.04436765722184, 70.668, 'mse = 0.0\\nsamples = 1\\nvalue = 3176.288'),\n",
       " Text(105.66136834830684, 70.668, 'mse = -0.0\\nsamples = 1\\nvalue = 3176.816'),\n",
       " Text(105.04436765722184, 103.28399999999999, 'mse = 0.0\\nsamples = 1\\nvalue = 4544.235'),\n",
       " Text(105.35286800276434, 114.156, 'mse = 0.0\\nsamples = 1\\nvalue = 25081.768'),\n",
       " Text(120.34887698686939, 125.02799999999999, 'X[1] <= 33.373\\nmse = 6634846.277\\nsamples = 53\\nvalue = 3421.151'),\n",
       " Text(116.06361437456808, 114.156, 'X[0] <= 28.5\\nmse = 417105.721\\nsamples = 43\\nvalue = 2997.825'),\n",
       " Text(111.19509329647546, 103.28399999999999, 'X[4] <= 0.5\\nmse = 227171.9\\nsamples = 30\\nvalue = 2699.824'),\n",
       " Text(107.74374568071873, 92.412, 'X[0] <= 24.5\\nmse = 74589.172\\nsamples = 14\\nvalue = 3033.23'),\n",
       " Text(106.58686938493435, 81.53999999999999, 'X[9] <= 0.5\\nmse = 35263.192\\nsamples = 7\\nvalue = 2827.699'),\n",
       " Text(106.27836903939185, 70.668, 'X[8] <= 0.5\\nmse = 15507.379\\nsamples = 6\\nvalue = 2888.212'),\n",
       " Text(105.66136834830684, 59.79599999999999, 'X[1] <= 25.935\\nmse = 0.854\\nsamples = 2\\nvalue = 3045.138'),\n",
       " Text(105.35286800276434, 48.92400000000001, 'mse = 0.0\\nsamples = 1\\nvalue = 3044.213'),\n",
       " Text(105.96986869384934, 48.92400000000001, 'mse = 0.0\\nsamples = 1\\nvalue = 3046.062'),\n",
       " Text(106.89536973047684, 59.79599999999999, 'X[0] <= 23.5\\nmse = 4791.364\\nsamples = 4\\nvalue = 2809.749'),\n",
       " Text(106.58686938493435, 48.92400000000001, 'mse = 0.0\\nsamples = 1\\nvalue = 2690.114'),\n",
       " Text(107.20387007601934, 48.92400000000001, 'X[1] <= 27.075\\nmse = 27.342\\nsamples = 3\\nvalue = 2849.627'),\n",
       " Text(106.89536973047684, 38.05199999999999, 'mse = 0.0\\nsamples = 1\\nvalue = 2842.761'),\n",
       " Text(107.51237042156185, 38.05199999999999, 'X[1] <= 31.635\\nmse = 5.65\\nsamples = 2\\nvalue = 2853.061'),\n",
       " Text(107.20387007601934, 27.180000000000007, 'mse = 0.0\\nsamples = 1\\nvalue = 2850.684'),\n",
       " Text(107.82087076710435, 27.180000000000007, 'mse = -0.0\\nsamples = 1\\nvalue = 2855.438'),\n",
       " Text(106.89536973047684, 70.668, 'mse = 0.0\\nsamples = 1\\nvalue = 2464.619'),\n",
       " Text(108.9006219765031, 81.53999999999999, 'X[7] <= 0.5\\nmse = 29428.948\\nsamples = 7\\nvalue = 3238.761'),\n",
       " Text(107.82087076710435, 70.668, 'X[0] <= 27.5\\nmse = 8244.099\\nsamples = 3\\nvalue = 3102.398'),\n",
       " Text(107.51237042156185, 59.79599999999999, 'mse = 0.0\\nsamples = 1\\nvalue = 2974.126'),\n",
       " Text(108.12937111264685, 59.79599999999999, 'X[9] <= 0.5\\nmse = 25.811\\nsamples = 2\\nvalue = 3166.534'),\n",
       " Text(107.82087076710435, 48.92400000000001, 'mse = 0.0\\nsamples = 1\\nvalue = 3161.454'),\n",
       " Text(108.43787145818935, 48.92400000000001, 'mse = -0.0\\nsamples = 1\\nvalue = 3171.615'),\n",
       " Text(109.98037318590187, 70.668, 'X[0] <= 25.5\\nmse = 20911.893\\nsamples = 4\\nvalue = 3341.033'),\n",
       " Text(109.36337249481686, 59.79599999999999, 'X[1] <= 26.03\\nmse = 12.712\\nsamples = 2\\nvalue = 3210.057'),\n",
       " Text(109.05487214927436, 48.92400000000001, 'mse = 0.0\\nsamples = 1\\nvalue = 3206.491'),\n",
       " Text(109.67187284035936, 48.92400000000001, 'mse = -0.0\\nsamples = 1\\nvalue = 3213.622'),\n",
       " Text(110.59737387698686, 59.79599999999999, 'X[1] <= 26.98\\nmse = 7501.387\\nsamples = 2\\nvalue = 3472.01'),\n",
       " Text(110.28887353144437, 48.92400000000001, 'mse = 0.0\\nsamples = 1\\nvalue = 3558.62'),\n",
       " Text(110.90587422252936, 48.92400000000001, 'mse = 0.0\\nsamples = 1\\nvalue = 3385.399'),\n",
       " Text(114.64644091223221, 92.412, 'X[0] <= 24.5\\nmse = 178310.944\\nsamples = 16\\nvalue = 2408.094'),\n",
       " Text(113.45100207325501, 81.53999999999999, 'X[7] <= 0.5\\nmse = 45802.831\\nsamples = 8\\nvalue = 2041.674'),\n",
       " Text(112.60262612301312, 70.668, 'X[0] <= 23.5\\nmse = 5386.951\\nsamples = 6\\nvalue = 1923.687'),\n",
       " Text(111.83137525915687, 59.79599999999999, 'X[1] <= 29.535\\nmse = 17.68\\nsamples = 2\\nvalue = 1820.081'),\n",
       " Text(111.52287491361437, 48.92400000000001, 'mse = 0.0\\nsamples = 1\\nvalue = 1815.876'),\n",
       " Text(112.13987560469937, 48.92400000000001, 'mse = 0.0\\nsamples = 1\\nvalue = 1824.285'),\n",
       " Text(113.37387698686938, 59.79599999999999, 'X[1] <= 27.55\\nmse = 20.874\\nsamples = 4\\nvalue = 1975.49'),\n",
       " Text(112.75687629578438, 48.92400000000001, 'X[1] <= 24.6\\nmse = 2.782\\nsamples = 2\\nvalue = 1971.282'),\n",
       " Text(112.44837595024188, 38.05199999999999, 'mse = 0.0\\nsamples = 1\\nvalue = 1969.614'),\n",
       " Text(113.06537664132688, 38.05199999999999, 'mse = -0.0\\nsamples = 1\\nvalue = 1972.95'),\n",
       " Text(113.99087767795439, 48.92400000000001, 'X[1] <= 30.655\\nmse = 3.547\\nsamples = 2\\nvalue = 1979.698'),\n",
       " Text(113.68237733241189, 38.05199999999999, 'mse = 0.0\\nsamples = 1\\nvalue = 1977.815'),\n",
       " Text(114.29937802349689, 38.05199999999999, 'mse = 0.0\\nsamples = 1\\nvalue = 1981.582'),\n",
       " Text(114.29937802349689, 70.668, 'X[1] <= 24.177\\nmse = 0.214\\nsamples = 2\\nvalue = 2395.634'),\n",
       " Text(113.99087767795439, 59.79599999999999, 'mse = 0.0\\nsamples = 1\\nvalue = 2395.172'),\n",
       " Text(114.60787836903938, 59.79599999999999, 'mse = 0.0\\nsamples = 1\\nvalue = 2396.096'),\n",
       " Text(115.84187975120939, 81.53999999999999, 'X[1] <= 26.125\\nmse = 42291.224\\nsamples = 8\\nvalue = 2774.515'),\n",
       " Text(115.53337940566689, 70.668, 'mse = 0.0\\nsamples = 1\\nvalue = 3070.809'),\n",
       " Text(116.1503800967519, 70.668, 'X[0] <= 27.5\\nmse = 33999.727\\nsamples = 7\\nvalue = 2732.187'),\n",
       " Text(115.84187975120939, 59.79599999999999, 'X[7] <= 0.5\\nmse = 18450.073\\nsamples = 6\\nvalue = 2677.133'),\n",
       " Text(115.2248790601244, 48.92400000000001, 'X[1] <= 30.783\\nmse = 8246.159\\nsamples = 3\\nvalue = 2572.253'),\n",
       " Text(114.9163787145819, 38.05199999999999, 'X[1] <= 29.025\\nmse = 212.394\\nsamples = 2\\nvalue = 2508.596'),\n",
       " Text(114.60787836903938, 27.180000000000007, 'mse = 0.0\\nsamples = 1\\nvalue = 2523.17'),\n",
       " Text(115.2248790601244, 27.180000000000007, 'mse = 0.0\\nsamples = 1\\nvalue = 2494.022'),\n",
       " Text(115.53337940566689, 38.05199999999999, 'mse = 0.0\\nsamples = 1\\nvalue = 2699.568'),\n",
       " Text(116.4588804422944, 48.92400000000001, 'X[0] <= 25.5\\nmse = 6654.39\\nsamples = 3\\nvalue = 2782.013'),\n",
       " Text(116.1503800967519, 38.05199999999999, 'X[1] <= 28.405\\nmse = 9.224\\nsamples = 2\\nvalue = 2724.358'),\n",
       " Text(115.84187975120939, 27.180000000000007, 'mse = 0.0\\nsamples = 1\\nvalue = 2721.321'),\n",
       " Text(116.4588804422944, 27.180000000000007, 'mse = 0.0\\nsamples = 1\\nvalue = 2727.395'),\n",
       " Text(116.7673807878369, 38.05199999999999, 'mse = -0.0\\nsamples = 1\\nvalue = 2897.324'),\n",
       " Text(116.4588804422944, 59.79599999999999, 'mse = 0.0\\nsamples = 1\\nvalue = 3062.508'),\n",
       " Text(120.93213545266067, 103.28399999999999, 'X[4] <= 0.5\\nmse = 177558.073\\nsamples = 13\\nvalue = 3685.519'),\n",
       " Text(119.54388389771941, 92.412, 'X[7] <= 0.5\\nmse = 72255.411\\nsamples = 10\\nvalue = 3832.078'),\n",
       " Text(118.3098825155494, 81.53999999999999, 'X[0] <= 30.5\\nmse = 32512.472\\nsamples = 7\\nvalue = 3698.948'),\n",
       " Text(117.38438147892191, 70.668, 'X[1] <= 25.965\\nmse = 24490.58\\nsamples = 3\\nvalue = 3547.984'),\n",
       " Text(117.0758811333794, 59.79599999999999, 'mse = 0.0\\nsamples = 1\\nvalue = 3353.284'),\n",
       " Text(117.69288182446441, 59.79599999999999, 'X[1] <= 26.865\\nmse = 8304.832\\nsamples = 2\\nvalue = 3645.334'),\n",
       " Text(117.38438147892191, 48.92400000000001, 'mse = 0.0\\nsamples = 1\\nvalue = 3736.465'),\n",
       " Text(118.0013821700069, 48.92400000000001, 'mse = 0.0\\nsamples = 1\\nvalue = 3554.203'),\n",
       " Text(119.23538355217691, 70.668, 'X[0] <= 31.5\\nmse = 8616.874\\nsamples = 4\\nvalue = 3812.171'),\n",
       " Text(118.92688320663441, 59.79599999999999, 'X[10] <= 0.5\\nmse = 3.91\\nsamples = 3\\nvalue = 3758.586'),\n",
       " Text(118.61838286109192, 48.92400000000001, 'X[1] <= 26.18\\nmse = 0.374\\nsamples = 2\\nvalue = 3757.233'),\n",
       " Text(118.3098825155494, 38.05199999999999, 'mse = 0.0\\nsamples = 1\\nvalue = 3756.622'),\n",
       " Text(118.92688320663441, 38.05199999999999, 'mse = 0.0\\nsamples = 1\\nvalue = 3757.845'),\n",
       " Text(119.23538355217691, 48.92400000000001, 'mse = 0.0\\nsamples = 1\\nvalue = 3761.292'),\n",
       " Text(119.54388389771941, 59.79599999999999, 'mse = 0.0\\nsamples = 1\\nvalue = 3972.925'),\n",
       " Text(120.77788527988942, 81.53999999999999, 'X[0] <= 30.5\\nmse = 27139.159\\nsamples = 3\\nvalue = 4142.714'),\n",
       " Text(120.46938493434692, 70.668, 'X[1] <= 29.545\\nmse = 9401.949\\nsamples = 2\\nvalue = 4040.559'),\n",
       " Text(120.16088458880442, 59.79599999999999, 'mse = 0.0\\nsamples = 1\\nvalue = 4137.523'),\n",
       " Text(120.77788527988942, 59.79599999999999, 'mse = 0.0\\nsamples = 1\\nvalue = 3943.595'),\n",
       " Text(121.08638562543193, 70.668, 'mse = 0.0\\nsamples = 1\\nvalue = 4347.023'),\n",
       " Text(122.32038700760194, 92.412, 'X[1] <= 29.408\\nmse = 218308.21\\nsamples = 3\\nvalue = 3196.99'),\n",
       " Text(122.01188666205942, 81.53999999999999, 'X[1] <= 27.57\\nmse = 0.265\\nsamples = 2\\nvalue = 2866.605'),\n",
       " Text(121.70338631651693, 70.668, 'mse = 0.0\\nsamples = 1\\nvalue = 2866.091'),\n",
       " Text(122.32038700760194, 70.668, 'mse = -0.0\\nsamples = 1\\nvalue = 2867.12'),\n",
       " Text(122.62888735314444, 81.53999999999999, 'mse = 0.0\\nsamples = 1\\nvalue = 3857.759'),\n",
       " Text(124.6341395991707, 114.156, 'X[1] <= 33.905\\nmse = 29287042.82\\nsamples = 10\\nvalue = 5241.455'),\n",
       " Text(123.86288873531444, 103.28399999999999, 'X[8] <= 0.5\\nmse = 49181667.98\\nsamples = 3\\nvalue = 10989.229'),\n",
       " Text(123.55438838977194, 92.412, 'X[3] <= 0.5\\nmse = 17212221.693\\nsamples = 2\\nvalue = 6647.176'),\n",
       " Text(123.24588804422943, 81.53999999999999, 'mse = 0.0\\nsamples = 1\\nvalue = 2498.414'),\n",
       " Text(123.86288873531444, 81.53999999999999, 'mse = 0.0\\nsamples = 1\\nvalue = 10795.937'),\n",
       " Text(124.17138908085694, 92.412, 'mse = 0.0\\nsamples = 1\\nvalue = 19673.336'),\n",
       " Text(125.40539046302695, 103.28399999999999, 'X[0] <= 26.5\\nmse = 534096.039\\nsamples = 7\\nvalue = 2778.123'),\n",
       " Text(124.78838977194195, 92.412, 'X[10] <= 0.5\\nmse = 92764.656\\nsamples = 4\\nvalue = 2205.376'),\n",
       " Text(124.47988942639944, 81.53999999999999, 'X[1] <= 35.743\\nmse = 60002.973\\nsamples = 3\\nvalue = 2331.554'),\n",
       " Text(124.17138908085694, 70.668, 'X[8] <= 0.5\\nmse = 932.07\\nsamples = 2\\nvalue = 2503.864'),\n",
       " Text(123.86288873531444, 59.79599999999999, 'mse = 0.0\\nsamples = 1\\nvalue = 2473.334'),\n",
       " Text(124.47988942639944, 59.79599999999999, 'mse = 0.0\\nsamples = 1\\nvalue = 2534.394'),\n",
       " Text(124.78838977194195, 70.668, 'mse = -0.0\\nsamples = 1\\nvalue = 1986.933'),\n",
       " Text(125.09689011748445, 81.53999999999999, 'mse = 0.0\\nsamples = 1\\nvalue = 1826.843'),\n",
       " Text(126.02239115411196, 92.412, 'X[1] <= 38.315\\nmse = 101971.63\\nsamples = 3\\nvalue = 3541.786'),\n",
       " Text(125.71389080856945, 81.53999999999999, 'X[0] <= 28.5\\nmse = 2392.337\\nsamples = 2\\nvalue = 3317.758'),\n",
       " Text(125.40539046302695, 70.668, 'mse = 0.0\\nsamples = 1\\nvalue = 3268.847'),\n",
       " Text(126.02239115411196, 70.668, 'mse = 0.0\\nsamples = 1\\nvalue = 3366.67'),\n",
       " Text(126.33089149965446, 81.53999999999999, 'mse = -0.0\\nsamples = 1\\nvalue = 3989.841'),\n",
       " Text(121.2743780234969, 135.9, 'X[3] <= 0.5\\nmse = 64333383.271\\nsamples = 2\\nvalue = 9858.091'),\n",
       " Text(120.96587767795438, 125.02799999999999, 'mse = 0.0\\nsamples = 1\\nvalue = 1837.282'),\n",
       " Text(121.58287836903939, 125.02799999999999, 'mse = 0.0\\nsamples = 1\\nvalue = 17878.901'),\n",
       " Text(129.20380096751902, 168.516, 'X[1] <= 23.132\\nmse = 15422914.925\\nsamples = 34\\nvalue = 6488.188'),\n",
       " Text(127.87339322736696, 157.644, 'X[7] <= 0.5\\nmse = 76423712.353\\nsamples = 2\\nvalue = 13242.405'),\n",
       " Text(127.56489288182446, 146.772, 'mse = 0.0\\nsamples = 1\\nvalue = 21984.471'),\n",
       " Text(128.18189357290947, 146.772, 'mse = -0.0\\nsamples = 1\\nvalue = 4500.339'),\n",
       " Text(130.53420870767104, 157.644, 'X[1] <= 29.75\\nmse = 8580948.472\\nsamples = 32\\nvalue = 6066.049'),\n",
       " Text(128.79889426399447, 146.772, 'X[0] <= 37.0\\nmse = 287889.255\\nsamples = 14\\nvalue = 5101.045'),\n",
       " Text(127.56489288182446, 135.9, 'X[9] <= 0.5\\nmse = 180373.172\\nsamples = 10\\nvalue = 4867.882'),\n",
       " Text(126.94789219073945, 125.02799999999999, 'X[0] <= 33.5\\nmse = 78003.478\\nsamples = 7\\nvalue = 5096.976'),\n",
       " Text(126.63939184519695, 114.156, 'mse = 0.0\\nsamples = 1\\nvalue = 4571.413'),\n",
       " Text(127.25639253628196, 114.156, 'X[10] <= 0.5\\nmse = 37295.236\\nsamples = 6\\nvalue = 5184.57'),\n",
       " Text(126.94789219073945, 103.28399999999999, 'X[0] <= 34.5\\nmse = 23052.752\\nsamples = 5\\nvalue = 5244.711'),\n",
       " Text(126.63939184519695, 92.412, 'mse = 0.0\\nsamples = 1\\nvalue = 4992.376'),\n",
       " Text(127.25639253628196, 92.412, 'X[1] <= 27.312\\nmse = 8918.19\\nsamples = 4\\nvalue = 5307.795'),\n",
       " Text(126.94789219073945, 81.53999999999999, 'X[0] <= 35.5\\nmse = 340.142\\nsamples = 3\\nvalue = 5254.058'),\n",
       " Text(126.63939184519695, 70.668, 'mse = 0.0\\nsamples = 1\\nvalue = 5227.989'),\n",
       " Text(127.25639253628196, 70.668, 'X[1] <= 26.363\\nmse = 0.527\\nsamples = 2\\nvalue = 5267.092'),\n",
       " Text(126.94789219073945, 59.79599999999999, 'mse = 0.0\\nsamples = 1\\nvalue = 5266.366'),\n",
       " Text(127.56489288182446, 59.79599999999999, 'mse = 0.0\\nsamples = 1\\nvalue = 5267.818'),\n",
       " Text(127.56489288182446, 81.53999999999999, 'mse = -0.0\\nsamples = 1\\nvalue = 5469.007'),\n",
       " Text(127.56489288182446, 103.28399999999999, 'mse = 0.0\\nsamples = 1\\nvalue = 4883.866'),\n",
       " Text(128.18189357290947, 125.02799999999999, 'X[1] <= 26.015\\nmse = 11025.934\\nsamples = 3\\nvalue = 4333.329'),\n",
       " Text(127.87339322736696, 114.156, 'mse = 0.0\\nsamples = 1\\nvalue = 4185.098'),\n",
       " Text(128.49039391845196, 114.156, 'X[3] <= 0.5\\nmse = 59.504\\nsamples = 2\\nvalue = 4407.445'),\n",
       " Text(128.18189357290947, 103.28399999999999, 'mse = 0.0\\nsamples = 1\\nvalue = 4399.731'),\n",
       " Text(128.79889426399447, 103.28399999999999, 'mse = -0.0\\nsamples = 1\\nvalue = 4415.159'),\n",
       " Text(130.03289564616446, 135.9, 'X[0] <= 41.0\\nmse = 80986.808\\nsamples = 4\\nvalue = 5683.952'),\n",
       " Text(129.41589495507947, 125.02799999999999, 'X[10] <= 0.5\\nmse = 258.007\\nsamples = 2\\nvalue = 5399.599'),\n",
       " Text(129.10739460953698, 114.156, 'mse = 0.0\\nsamples = 1\\nvalue = 5415.661'),\n",
       " Text(129.72439530062198, 114.156, 'mse = 0.0\\nsamples = 1\\nvalue = 5383.536'),\n",
       " Text(130.6498963372495, 125.02799999999999, 'X[1] <= 25.88\\nmse = 2.01\\nsamples = 2\\nvalue = 5968.305'),\n",
       " Text(130.34139599170697, 114.156, 'mse = 0.0\\nsamples = 1\\nvalue = 5966.887'),\n",
       " Text(130.95839668279197, 114.156, 'mse = 0.0\\nsamples = 1\\nvalue = 5969.723'),\n",
       " Text(132.2695231513476, 146.772, 'X[1] <= 29.86\\nmse = 13743474.814\\nsamples = 18\\nvalue = 6816.608'),\n",
       " Text(131.9610228058051, 135.9, 'mse = 0.0\\nsamples = 1\\nvalue = 20420.605'),\n",
       " Text(132.57802349689013, 135.9, 'X[0] <= 33.5\\nmse = 3025142.587\\nsamples = 17\\nvalue = 6016.373'),\n",
       " Text(132.2695231513476, 125.02799999999999, 'mse = 0.0\\nsamples = 1\\nvalue = 12404.879'),\n",
       " Text(132.8865238424326, 125.02799999999999, 'X[0] <= 37.5\\nmse = 503974.888\\nsamples = 16\\nvalue = 5617.091'),\n",
       " Text(131.575397373877, 114.156, 'X[0] <= 35.0\\nmse = 237524.127\\nsamples = 4\\nvalue = 4685.788'),\n",
       " Text(131.26689702833448, 103.28399999999999, 'mse = 0.0\\nsamples = 1\\nvalue = 3935.18'),\n",
       " Text(131.88389771941948, 103.28399999999999, 'X[8] <= 0.5\\nmse = 66293.355\\nsamples = 3\\nvalue = 4935.991'),\n",
       " Text(131.575397373877, 92.412, 'X[0] <= 36.5\\nmse = 14674.633\\nsamples = 2\\nvalue = 4767.898'),\n",
       " Text(131.26689702833448, 81.53999999999999, 'mse = 0.0\\nsamples = 1\\nvalue = 4889.037'),\n",
       " Text(131.88389771941948, 81.53999999999999, 'mse = 0.0\\nsamples = 1\\nvalue = 4646.759'),\n",
       " Text(132.192398064962, 92.412, 'mse = -0.0\\nsamples = 1\\nvalue = 5272.176'),\n",
       " Text(134.19765031098825, 114.156, 'X[0] <= 41.5\\nmse = 207313.656\\nsamples = 12\\nvalue = 5927.526'),\n",
       " Text(133.42639944713198, 103.28399999999999, 'X[1] <= 32.2\\nmse = 65056.839\\nsamples = 10\\nvalue = 5760.627'),\n",
       " Text(132.809398756047, 92.412, 'X[1] <= 31.31\\nmse = 0.162\\nsamples = 2\\nvalue = 6185.724'),\n",
       " Text(132.50089841050448, 81.53999999999999, 'mse = 0.0\\nsamples = 1\\nvalue = 6185.321'),\n",
       " Text(133.1178991015895, 81.53999999999999, 'mse = -0.0\\nsamples = 1\\nvalue = 6186.127'),\n",
       " Text(134.043400138217, 92.412, 'X[0] <= 38.5\\nmse = 24850.035\\nsamples = 8\\nvalue = 5654.353'),\n",
       " Text(133.7348997926745, 81.53999999999999, 'mse = 0.0\\nsamples = 1\\nvalue = 5397.617'),\n",
       " Text(134.3519004837595, 81.53999999999999, 'X[1] <= 40.975\\nmse = 17638.635\\nsamples = 7\\nvalue = 5691.03'),\n",
       " Text(133.27214927436074, 70.668, 'X[1] <= 34.87\\nmse = 10766.043\\nsamples = 4\\nvalue = 5744.705'),\n",
       " Text(132.65514858327575, 59.79599999999999, 'X[0] <= 40.0\\nmse = 628.066\\nsamples = 2\\nvalue = 5674.776'),\n",
       " Text(132.34664823773323, 48.92400000000001, 'mse = 0.0\\nsamples = 1\\nvalue = 5649.715'),\n",
       " Text(132.96364892881823, 48.92400000000001, 'mse = 0.0\\nsamples = 1\\nvalue = 5699.838'),\n",
       " Text(133.88914996544574, 59.79599999999999, 'X[3] <= 0.5\\nmse = 11123.889\\nsamples = 2\\nvalue = 5814.634'),\n",
       " Text(133.58064961990326, 48.92400000000001, 'mse = 0.0\\nsamples = 1\\nvalue = 5709.164'),\n",
       " Text(134.19765031098825, 48.92400000000001, 'mse = 0.0\\nsamples = 1\\nvalue = 5920.104'),\n",
       " Text(135.43165169315824, 70.668, 'X[0] <= 39.5\\nmse = 17838.81\\nsamples = 3\\nvalue = 5619.463'),\n",
       " Text(135.12315134761576, 59.79599999999999, 'X[1] <= 42.227\\nmse = 2265.21\\nsamples = 2\\nvalue = 5709.819'),\n",
       " Text(134.81465100207325, 48.92400000000001, 'mse = 0.0\\nsamples = 1\\nvalue = 5662.225'),\n",
       " Text(135.43165169315824, 48.92400000000001, 'mse = 0.0\\nsamples = 1\\nvalue = 5757.413'),\n",
       " Text(135.74015203870076, 59.79599999999999, 'mse = -0.0\\nsamples = 1\\nvalue = 5438.749'),\n",
       " Text(134.9689011748445, 103.28399999999999, 'X[7] <= 0.5\\nmse = 82946.39\\nsamples = 2\\nvalue = 6762.017'),\n",
       " Text(134.660400829302, 92.412, 'mse = 0.0\\nsamples = 1\\nvalue = 6474.013'),\n",
       " Text(135.277401520387, 92.412, 'mse = 0.0\\nsamples = 1\\nvalue = 7050.021'),\n",
       " Text(200.98368202531097, 179.388, 'X[7] <= 0.5\\nmse = 23233474.482\\nsamples = 265\\nvalue = 6500.092'),\n",
       " Text(182.58746598565997, 168.516, 'X[0] <= 38.5\\nmse = 17024855.495\\nsamples = 204\\nvalue = 5930.814'),\n",
       " Text(161.38635215100206, 157.644, 'X[2] <= 1.5\\nmse = 16738494.355\\nsamples = 165\\nvalue = 5471.429'),\n",
       " Text(152.37265894955078, 146.772, 'X[1] <= 35.255\\nmse = 13137677.707\\nsamples = 77\\nvalue = 4487.727'),\n",
       " Text(145.32776434001383, 135.9, 'X[0] <= 23.5\\nmse = 2802133.376\\nsamples = 64\\nvalue = 3939.58'),\n",
       " Text(140.79184519695923, 125.02799999999999, 'X[8] <= 0.5\\nmse = 162460.719\\nsamples = 19\\nvalue = 2233.221'),\n",
       " Text(139.2107809260539, 114.156, 'X[0] <= 20.5\\nmse = 83722.008\\nsamples = 12\\nvalue = 1994.547'),\n",
       " Text(138.362404975812, 103.28399999999999, 'X[3] <= 0.5\\nmse = 36190.062\\nsamples = 9\\nvalue = 1869.917'),\n",
       " Text(138.05390463026953, 92.412, 'X[0] <= 19.5\\nmse = 10749.984\\nsamples = 8\\nvalue = 1812.217'),\n",
       " Text(137.28265376641326, 81.53999999999999, 'X[9] <= 0.5\\nmse = 2906.458\\nsamples = 6\\nvalue = 1758.814'),\n",
       " Text(136.66565307532827, 70.668, 'X[1] <= 22.75\\nmse = 6.613\\nsamples = 2\\nvalue = 1834.666'),\n",
       " Text(136.35715272978575, 59.79599999999999, 'mse = 0.0\\nsamples = 1\\nvalue = 1832.094'),\n",
       " Text(136.97415342087078, 59.79599999999999, 'mse = -0.0\\nsamples = 1\\nvalue = 1837.237'),\n",
       " Text(137.89965445749826, 70.668, 'X[1] <= 26.345\\nmse = 41.339\\nsamples = 4\\nvalue = 1720.889'),\n",
       " Text(137.59115411195577, 59.79599999999999, 'mse = 0.0\\nsamples = 1\\nvalue = 1711.027'),\n",
       " Text(138.20815480304077, 59.79599999999999, 'X[1] <= 31.57\\nmse = 11.892\\nsamples = 3\\nvalue = 1724.176'),\n",
       " Text(137.89965445749826, 48.92400000000001, 'mse = 0.0\\nsamples = 1\\nvalue = 1719.436'),\n",
       " Text(138.51665514858328, 48.92400000000001, 'X[1] <= 34.485\\nmse = 0.988\\nsamples = 2\\nvalue = 1726.546'),\n",
       " Text(138.20815480304077, 38.05199999999999, 'mse = 0.0\\nsamples = 1\\nvalue = 1725.552'),\n",
       " Text(138.82515549412577, 38.05199999999999, 'mse = -0.0\\nsamples = 1\\nvalue = 1727.54'),\n",
       " Text(138.82515549412577, 81.53999999999999, 'X[1] <= 27.5\\nmse = 58.446\\nsamples = 2\\nvalue = 1972.425'),\n",
       " Text(138.51665514858328, 70.668, 'mse = 0.0\\nsamples = 1\\nvalue = 1964.78'),\n",
       " Text(139.13365583966828, 70.668, 'mse = 0.0\\nsamples = 1\\nvalue = 1980.07'),\n",
       " Text(138.67090532135452, 92.412, 'mse = -0.0\\nsamples = 1\\nvalue = 2331.519'),\n",
       " Text(140.0591568762958, 103.28399999999999, 'X[3] <= 0.5\\nmse = 39928.15\\nsamples = 3\\nvalue = 2368.435'),\n",
       " Text(139.75065653075328, 92.412, 'X[0] <= 22.0\\nmse = 24629.379\\nsamples = 2\\nvalue = 2260.018'),\n",
       " Text(139.44215618521076, 81.53999999999999, 'mse = 0.0\\nsamples = 1\\nvalue = 2103.08'),\n",
       " Text(140.0591568762958, 81.53999999999999, 'mse = 0.0\\nsamples = 1\\nvalue = 2416.955'),\n",
       " Text(140.36765722183827, 92.412, 'mse = -0.0\\nsamples = 1\\nvalue = 2585.269'),\n",
       " Text(142.37290946786453, 114.156, 'X[0] <= 22.5\\nmse = 32376.477\\nsamples = 7\\nvalue = 2642.378'),\n",
       " Text(141.6016586040083, 103.28399999999999, 'X[3] <= 0.5\\nmse = 34371.582\\nsamples = 5\\nvalue = 2586.48'),\n",
       " Text(140.9846579129233, 92.412, 'X[1] <= 26.932\\nmse = 39126.713\\nsamples = 3\\nvalue = 2501.292'),\n",
       " Text(140.67615756738078, 81.53999999999999, 'mse = 0.0\\nsamples = 1\\nvalue = 2221.564'),\n",
       " Text(141.29315825846578, 81.53999999999999, 'X[1] <= 29.83\\nmse = 4.464\\nsamples = 2\\nvalue = 2641.156'),\n",
       " Text(140.9846579129233, 70.668, 'mse = 0.0\\nsamples = 1\\nvalue = 2639.043'),\n",
       " Text(141.6016586040083, 70.668, 'mse = -0.0\\nsamples = 1\\nvalue = 2643.268'),\n",
       " Text(142.2186592950933, 92.412, 'X[1] <= 28.215\\nmse = 25.179\\nsamples = 2\\nvalue = 2714.262'),\n",
       " Text(141.9101589495508, 81.53999999999999, 'mse = 0.0\\nsamples = 1\\nvalue = 2709.244'),\n",
       " Text(142.5271596406358, 81.53999999999999, 'mse = 0.0\\nsamples = 1\\nvalue = 2719.28'),\n",
       " Text(143.1441603317208, 103.28399999999999, 'X[1] <= 22.373\\nmse = 48.061\\nsamples = 2\\nvalue = 2782.125'),\n",
       " Text(142.83565998617829, 92.412, 'mse = 0.0\\nsamples = 1\\nvalue = 2775.192'),\n",
       " Text(143.4526606772633, 92.412, 'mse = -0.0\\nsamples = 1\\nvalue = 2789.057'),\n",
       " Text(149.8636834830684, 125.02799999999999, 'X[0] <= 24.5\\nmse = 2168227.447\\nsamples = 45\\nvalue = 4660.043'),\n",
       " Text(149.55518313752592, 114.156, 'mse = 0.0\\nsamples = 1\\nvalue = 12609.887'),\n",
       " Text(150.1721838286109, 114.156, 'X[0] <= 32.5\\nmse = 748496.661\\nsamples = 44\\nvalue = 4479.365'),\n",
       " Text(146.71119557705597, 103.28399999999999, 'X[0] <= 27.5\\nmse = 260520.755\\nsamples = 26\\nvalue = 3877.567'),\n",
       " Text(144.30103662750517, 92.412, 'X[4] <= 0.5\\nmse = 85580.478\\nsamples = 11\\nvalue = 3378.427'),\n",
       " Text(143.1441603317208, 81.53999999999999, 'X[8] <= 0.5\\nmse = 43598.952\\nsamples = 8\\nvalue = 3507.896'),\n",
       " Text(142.37290946786453, 70.668, 'X[0] <= 26.5\\nmse = 15480.177\\nsamples = 6\\nvalue = 3418.821'),\n",
       " Text(141.75590877677953, 59.79599999999999, 'X[0] <= 25.5\\nmse = 6059.248\\nsamples = 4\\nvalue = 3343.26'),\n",
       " Text(141.44740843123705, 48.92400000000001, 'mse = 0.0\\nsamples = 1\\nvalue = 3208.787'),\n",
       " Text(142.06440912232205, 48.92400000000001, 'X[10] <= 0.5\\nmse = 42.143\\nsamples = 3\\nvalue = 3388.084'),\n",
       " Text(141.75590877677953, 38.05199999999999, 'X[1] <= 29.7\\nmse = 0.094\\nsamples = 2\\nvalue = 3392.671'),\n",
       " Text(141.44740843123705, 27.180000000000007, 'mse = 0.0\\nsamples = 1\\nvalue = 3392.365'),\n",
       " Text(142.06440912232205, 27.180000000000007, 'mse = -0.0\\nsamples = 1\\nvalue = 3392.977'),\n",
       " Text(142.37290946786453, 38.05199999999999, 'mse = -0.0\\nsamples = 1\\nvalue = 3378.91'),\n",
       " Text(142.98991015894956, 59.79599999999999, 'X[1] <= 29.005\\nmse = 64.884\\nsamples = 2\\nvalue = 3569.944'),\n",
       " Text(142.68140981340704, 48.92400000000001, 'mse = 0.0\\nsamples = 1\\nvalue = 3561.889'),\n",
       " Text(143.29841050449204, 48.92400000000001, 'mse = 0.0\\nsamples = 1\\nvalue = 3577.999'),\n",
       " Text(143.91541119557706, 70.668, 'X[0] <= 26.0\\nmse = 32743.011\\nsamples = 2\\nvalue = 3775.121'),\n",
       " Text(143.60691085003455, 59.79599999999999, 'mse = 0.0\\nsamples = 1\\nvalue = 3594.171'),\n",
       " Text(144.22391154111955, 59.79599999999999, 'mse = 0.0\\nsamples = 1\\nvalue = 3956.071'),\n",
       " Text(145.45791292328957, 81.53999999999999, 'X[1] <= 31.958\\nmse = 33632.758\\nsamples = 3\\nvalue = 3033.175'),\n",
       " Text(145.14941257774706, 70.668, 'X[10] <= 0.5\\nmse = 0.349\\nsamples = 2\\nvalue = 2903.497'),\n",
       " Text(144.84091223220454, 59.79599999999999, 'mse = 0.0\\nsamples = 1\\nvalue = 2902.906'),\n",
       " Text(145.45791292328957, 59.79599999999999, 'mse = -0.0\\nsamples = 1\\nvalue = 2904.088'),\n",
       " Text(145.76641326883205, 70.668, 'mse = 0.0\\nsamples = 1\\nvalue = 3292.53'),\n",
       " Text(149.12135452660678, 92.412, 'X[10] <= 0.5\\nmse = 72124.955\\nsamples = 15\\nvalue = 4243.602'),\n",
       " Text(148.0030407740152, 81.53999999999999, 'X[0] <= 30.5\\nmse = 51474.47\\nsamples = 13\\nvalue = 4301.399'),\n",
       " Text(146.69191430545956, 70.668, 'X[0] <= 29.5\\nmse = 39419.954\\nsamples = 5\\nvalue = 4158.301'),\n",
       " Text(146.07491361437457, 59.79599999999999, 'X[0] <= 28.5\\nmse = 8670.268\\nsamples = 2\\nvalue = 4040.527'),\n",
       " Text(145.76641326883205, 48.92400000000001, 'mse = 0.0\\nsamples = 1\\nvalue = 4133.642'),\n",
       " Text(146.38341395991708, 48.92400000000001, 'mse = 0.0\\nsamples = 1\\nvalue = 3947.413'),\n",
       " Text(147.30891499654456, 59.79599999999999, 'X[4] <= 0.5\\nmse = 44507.827\\nsamples = 3\\nvalue = 4236.817'),\n",
       " Text(147.00041465100207, 48.92400000000001, 'X[9] <= 0.5\\nmse = 35373.005\\nsamples = 2\\nvalue = 4339.106'),\n",
       " Text(146.69191430545956, 38.05199999999999, 'mse = 0.0\\nsamples = 1\\nvalue = 4527.183'),\n",
       " Text(147.30891499654456, 38.05199999999999, 'mse = -0.0\\nsamples = 1\\nvalue = 4151.029'),\n",
       " Text(147.61741534208707, 48.92400000000001, 'mse = 0.0\\nsamples = 1\\nvalue = 4032.241'),\n",
       " Text(149.31416724257082, 70.668, 'X[3] <= 0.5\\nmse = 38211.547\\nsamples = 8\\nvalue = 4390.836'),\n",
       " Text(148.54291637871458, 59.79599999999999, 'X[8] <= 0.5\\nmse = 21572.056\\nsamples = 5\\nvalue = 4295.012'),\n",
       " Text(148.23441603317207, 48.92400000000001, 'mse = 0.0\\nsamples = 1\\nvalue = 4074.454'),\n",
       " Text(148.8514167242571, 48.92400000000001, 'X[0] <= 31.5\\nmse = 11763.183\\nsamples = 4\\nvalue = 4350.152'),\n",
       " Text(148.23441603317207, 38.05199999999999, 'X[1] <= 27.265\\nmse = 3.418\\nsamples = 2\\nvalue = 4241.741'),\n",
       " Text(147.92591568762958, 27.180000000000007, 'mse = 0.0\\nsamples = 1\\nvalue = 4239.893'),\n",
       " Text(148.54291637871458, 27.180000000000007, 'mse = -0.0\\nsamples = 1\\nvalue = 4243.59'),\n",
       " Text(149.4684174153421, 38.05199999999999, 'X[1] <= 30.827\\nmse = 17.302\\nsamples = 2\\nvalue = 4458.562'),\n",
       " Text(149.15991706979958, 27.180000000000007, 'mse = 0.0\\nsamples = 1\\nvalue = 4454.403'),\n",
       " Text(149.77691776088457, 27.180000000000007, 'mse = 0.0\\nsamples = 1\\nvalue = 4462.722'),\n",
       " Text(150.08541810642708, 59.79599999999999, 'X[1] <= 29.425\\nmse = 25134.486\\nsamples = 3\\nvalue = 4550.542'),\n",
       " Text(149.77691776088457, 48.92400000000001, 'mse = 0.0\\nsamples = 1\\nvalue = 4350.514'),\n",
       " Text(150.3939184519696, 48.92400000000001, 'X[9] <= 0.5\\nmse = 7693.579\\nsamples = 2\\nvalue = 4650.555'),\n",
       " Text(150.08541810642708, 38.05199999999999, 'mse = 0.0\\nsamples = 1\\nvalue = 4738.268'),\n",
       " Text(150.70241879751208, 38.05199999999999, 'mse = 0.0\\nsamples = 1\\nvalue = 4562.842'),\n",
       " Text(150.23966827919833, 81.53999999999999, 'X[1] <= 31.45\\nmse = 43503.739\\nsamples = 2\\nvalue = 3867.922'),\n",
       " Text(149.93116793365584, 70.668, 'mse = 0.0\\nsamples = 1\\nvalue = 3659.346'),\n",
       " Text(150.54816862474084, 70.668, 'mse = 0.0\\nsamples = 1\\nvalue = 4076.497'),\n",
       " Text(153.63317208016585, 103.28399999999999, 'X[0] <= 35.5\\nmse = 174608.566\\nsamples = 18\\nvalue = 5348.629'),\n",
       " Text(152.09067035245334, 92.412, 'X[3] <= 0.5\\nmse = 52906.826\\nsamples = 9\\nvalue = 5017.761'),\n",
       " Text(151.47366966136835, 81.53999999999999, 'X[1] <= 24.7\\nmse = 23969.064\\nsamples = 4\\nvalue = 4878.341'),\n",
       " Text(151.16516931582584, 70.668, 'mse = 0.0\\nsamples = 1\\nvalue = 5125.216'),\n",
       " Text(151.78217000691086, 70.668, 'X[8] <= 0.5\\nmse = 4871.248\\nsamples = 3\\nvalue = 4796.05'),\n",
       " Text(151.47366966136835, 59.79599999999999, 'X[1] <= 27.355\\nmse = 0.126\\nsamples = 2\\nvalue = 4746.698'),\n",
       " Text(151.16516931582584, 48.92400000000001, 'mse = 0.0\\nsamples = 1\\nvalue = 4746.344'),\n",
       " Text(151.78217000691086, 48.92400000000001, 'mse = 0.0\\nsamples = 1\\nvalue = 4747.053'),\n",
       " Text(152.09067035245334, 59.79599999999999, 'mse = -0.0\\nsamples = 1\\nvalue = 4894.753'),\n",
       " Text(152.70767104353834, 81.53999999999999, 'X[1] <= 22.455\\nmse = 48066.434\\nsamples = 5\\nvalue = 5129.297'),\n",
       " Text(152.39917069799586, 70.668, 'mse = 0.0\\nsamples = 1\\nvalue = 4766.022'),\n",
       " Text(153.01617138908085, 70.668, 'X[8] <= 0.5\\nmse = 18842.734\\nsamples = 4\\nvalue = 5220.116'),\n",
       " Text(152.70767104353834, 59.79599999999999, 'X[1] <= 30.855\\nmse = 12991.107\\nsamples = 3\\nvalue = 5165.042'),\n",
       " Text(152.39917069799586, 48.92400000000001, 'mse = 0.0\\nsamples = 1\\nvalue = 5003.853'),\n",
       " Text(153.01617138908085, 48.92400000000001, 'X[1] <= 34.505\\nmse = 0.168\\nsamples = 2\\nvalue = 5245.637'),\n",
       " Text(152.70767104353834, 38.05199999999999, 'mse = 0.0\\nsamples = 1\\nvalue = 5245.227'),\n",
       " Text(153.32467173462337, 38.05199999999999, 'mse = -0.0\\nsamples = 1\\nvalue = 5246.047'),\n",
       " Text(153.32467173462337, 59.79599999999999, 'mse = -0.0\\nsamples = 1\\nvalue = 5385.338'),\n",
       " Text(155.17567380787835, 92.412, 'X[0] <= 36.5\\nmse = 77363.413\\nsamples = 9\\nvalue = 5679.497'),\n",
       " Text(153.94167242570836, 81.53999999999999, 'X[4] <= 0.5\\nmse = 2095.319\\nsamples = 3\\nvalue = 5407.757'),\n",
       " Text(153.63317208016585, 70.668, 'mse = 0.0\\nsamples = 1\\nvalue = 5472.449'),\n",
       " Text(154.25017277125085, 70.668, 'X[1] <= 32.347\\nmse = 4.189\\nsamples = 2\\nvalue = 5375.411'),\n",
       " Text(153.94167242570836, 59.79599999999999, 'mse = 0.0\\nsamples = 1\\nvalue = 5373.364'),\n",
       " Text(154.55867311679336, 59.79599999999999, 'mse = 0.0\\nsamples = 1\\nvalue = 5377.458'),\n",
       " Text(156.40967519004838, 81.53999999999999, 'X[3] <= 0.5\\nmse = 59615.56\\nsamples = 6\\nvalue = 5815.367'),\n",
       " Text(155.48417415342087, 70.668, 'X[1] <= 24.11\\nmse = 30348.672\\nsamples = 3\\nvalue = 5609.544'),\n",
       " Text(155.17567380787835, 59.79599999999999, 'mse = 0.0\\nsamples = 1\\nvalue = 5855.902'),\n",
       " Text(155.79267449896338, 59.79599999999999, 'X[10] <= 0.5\\nmse = 3.6\\nsamples = 2\\nvalue = 5486.365'),\n",
       " Text(155.48417415342087, 48.92400000000001, 'mse = 0.0\\nsamples = 1\\nvalue = 5484.467'),\n",
       " Text(156.10117484450586, 48.92400000000001, 'mse = 0.0\\nsamples = 1\\nvalue = 5488.262'),\n",
       " Text(157.33517622667588, 70.668, 'X[8] <= 0.5\\nmse = 4156.377\\nsamples = 3\\nvalue = 6021.19'),\n",
       " Text(157.02667588113337, 59.79599999999999, 'X[1] <= 29.81\\nmse = 1.496\\nsamples = 2\\nvalue = 5975.608'),\n",
       " Text(156.7181755355909, 48.92400000000001, 'mse = 0.0\\nsamples = 1\\nvalue = 5974.385'),\n",
       " Text(157.33517622667588, 48.92400000000001, 'mse = 0.0\\nsamples = 1\\nvalue = 5976.831'),\n",
       " Text(157.64367657221837, 59.79599999999999, 'mse = 0.0\\nsamples = 1\\nvalue = 6112.353'),\n",
       " Text(159.41755355908776, 135.9, 'X[1] <= 36.205\\nmse = 55258889.392\\nsamples = 13\\nvalue = 7186.293'),\n",
       " Text(159.10905321354525, 125.02799999999999, 'mse = 0.0\\nsamples = 1\\nvalue = 27724.289'),\n",
       " Text(159.72605390463028, 125.02799999999999, 'X[0] <= 29.5\\nmse = 21783792.749\\nsamples = 12\\nvalue = 5474.793'),\n",
       " Text(158.10642709053212, 114.156, 'X[0] <= 24.5\\nmse = 291340.186\\nsamples = 7\\nvalue = 3044.77'),\n",
       " Text(157.02667588113337, 103.28399999999999, 'X[9] <= 0.5\\nmse = 43762.397\\nsamples = 3\\nvalue = 2462.536'),\n",
       " Text(156.7181755355909, 92.412, 'mse = 0.0\\nsamples = 1\\nvalue = 2730.108'),\n",
       " Text(157.33517622667588, 92.412, 'X[4] <= 0.5\\nmse = 11947.594\\nsamples = 2\\nvalue = 2328.75'),\n",
       " Text(157.02667588113337, 81.53999999999999, 'mse = 0.0\\nsamples = 1\\nvalue = 2219.445'),\n",
       " Text(157.64367657221837, 81.53999999999999, 'mse = 0.0\\nsamples = 1\\nvalue = 2438.055'),\n",
       " Text(159.18617829993087, 103.28399999999999, 'X[10] <= 0.5\\nmse = 32091.542\\nsamples = 4\\nvalue = 3481.445'),\n",
       " Text(158.56917760884588, 92.412, 'X[3] <= 0.5\\nmse = 21826.251\\nsamples = 2\\nvalue = 3619.147'),\n",
       " Text(158.2606772633034, 81.53999999999999, 'mse = 0.0\\nsamples = 1\\nvalue = 3471.41'),\n",
       " Text(158.8776779543884, 81.53999999999999, 'mse = -0.0\\nsamples = 1\\nvalue = 3766.884'),\n",
       " Text(159.8031789910159, 92.412, 'X[4] <= 0.5\\nmse = 4433.096\\nsamples = 2\\nvalue = 3343.743'),\n",
       " Text(159.49467864547339, 81.53999999999999, 'mse = 0.0\\nsamples = 1\\nvalue = 3410.324'),\n",
       " Text(160.11167933655838, 81.53999999999999, 'mse = -0.0\\nsamples = 1\\nvalue = 3277.161'),\n",
       " Text(161.3456807187284, 114.156, 'X[0] <= 31.5\\nmse = 32032375.795\\nsamples = 5\\nvalue = 8876.826'),\n",
       " Text(161.0371803731859, 103.28399999999999, 'mse = 0.0\\nsamples = 1\\nvalue = 18963.172'),\n",
       " Text(161.65418106427092, 103.28399999999999, 'X[9] <= 0.5\\nmse = 8248479.868\\nsamples = 4\\nvalue = 6355.24'),\n",
       " Text(161.0371803731859, 92.412, 'X[1] <= 40.75\\nmse = 12776.911\\nsamples = 2\\nvalue = 4649.294'),\n",
       " Text(160.7286800276434, 81.53999999999999, 'mse = 0.0\\nsamples = 1\\nvalue = 4762.329'),\n",
       " Text(161.3456807187284, 81.53999999999999, 'mse = 0.0\\nsamples = 1\\nvalue = 4536.259'),\n",
       " Text(162.2711817553559, 92.412, 'X[3] <= 0.5\\nmse = 10663679.878\\nsamples = 2\\nvalue = 8061.186'),\n",
       " Text(161.9626814098134, 81.53999999999999, 'mse = 0.0\\nsamples = 1\\nvalue = 11326.715'),\n",
       " Text(162.5796821008984, 81.53999999999999, 'mse = -0.0\\nsamples = 1\\nvalue = 4795.657'),\n",
       " Text(170.40004535245336, 146.772, 'X[0] <= 19.5\\nmse = 18301624.988\\nsamples = 88\\nvalue = 6332.169'),\n",
       " Text(164.73918451969593, 135.9, 'X[8] <= 0.5\\nmse = 76558610.839\\nsamples = 8\\nvalue = 11247.84'),\n",
       " Text(163.81368348306842, 125.02799999999999, 'X[1] <= 22.59\\nmse = 12782029.518\\nsamples = 5\\nvalue = 4918.135'),\n",
       " Text(163.5051831375259, 114.156, 'mse = 0.0\\nsamples = 1\\nvalue = 11884.049'),\n",
       " Text(164.1221838286109, 114.156, 'X[2] <= 3.5\\nmse = 813802.401\\nsamples = 4\\nvalue = 3176.657'),\n",
       " Text(163.81368348306842, 103.28399999999999, 'X[4] <= 0.5\\nmse = 70161.043\\nsamples = 3\\nvalue = 2672.943'),\n",
       " Text(163.5051831375259, 92.412, 'X[1] <= 27.76\\nmse = 3153.395\\nsamples = 2\\nvalue = 2857.414'),\n",
       " Text(163.19668279198342, 81.53999999999999, 'mse = 0.0\\nsamples = 1\\nvalue = 2913.569'),\n",
       " Text(163.81368348306842, 81.53999999999999, 'mse = 0.0\\nsamples = 1\\nvalue = 2801.259'),\n",
       " Text(164.1221838286109, 92.412, 'mse = -0.0\\nsamples = 1\\nvalue = 2304.002'),\n",
       " Text(164.4306841741534, 103.28399999999999, 'mse = 0.0\\nsamples = 1\\nvalue = 4687.797'),\n",
       " Text(165.66468555632343, 125.02799999999999, 'X[2] <= 2.5\\nmse = 4785524.39\\nsamples = 3\\nvalue = 21797.348'),\n",
       " Text(165.35618521078092, 114.156, 'X[1] <= 28.927\\nmse = 613105.091\\nsamples = 2\\nvalue = 23276.67'),\n",
       " Text(165.0476848652384, 103.28399999999999, 'mse = 0.0\\nsamples = 1\\nvalue = 22493.66'),\n",
       " Text(165.66468555632343, 103.28399999999999, 'mse = 0.0\\nsamples = 1\\nvalue = 24059.68'),\n",
       " Text(165.97318590186592, 114.156, 'mse = -0.0\\nsamples = 1\\nvalue = 18838.704'),\n",
       " Text(176.06090618521077, 135.9, 'X[0] <= 27.5\\nmse = 9817905.642\\nsamples = 80\\nvalue = 5840.601'),\n",
       " Text(168.60507947477538, 125.02799999999999, 'X[1] <= 23.44\\nmse = 4927406.377\\nsamples = 23\\nvalue = 4366.205'),\n",
       " Text(166.70587422252936, 114.156, 'X[8] <= 0.5\\nmse = 31615676.014\\nsamples = 2\\nvalue = 8803.292'),\n",
       " Text(166.39737387698688, 103.28399999999999, 'mse = 0.0\\nsamples = 1\\nvalue = 3180.51'),\n",
       " Text(167.01437456807187, 103.28399999999999, 'mse = 0.0\\nsamples = 1\\nvalue = 14426.074'),\n",
       " Text(170.50428472702143, 114.156, 'X[2] <= 3.5\\nmse = 332070.038\\nsamples = 21\\nvalue = 3943.625'),\n",
       " Text(167.63137525915687, 103.28399999999999, 'X[0] <= 23.5\\nmse = 233848.424\\nsamples = 18\\nvalue = 3800.042'),\n",
       " Text(165.0476848652384, 92.412, 'X[1] <= 31.915\\nmse = 142556.199\\nsamples = 5\\nvalue = 3235.744'),\n",
       " Text(164.4306841741534, 81.53999999999999, 'X[8] <= 0.5\\nmse = 65184.422\\nsamples = 2\\nvalue = 2821.783'),\n",
       " Text(164.1221838286109, 70.668, 'mse = 0.0\\nsamples = 1\\nvalue = 2566.471'),\n",
       " Text(164.73918451969593, 70.668, 'mse = 0.0\\nsamples = 1\\nvalue = 3077.096'),\n",
       " Text(165.66468555632343, 81.53999999999999, 'X[1] <= 33.75\\nmse = 3732.895\\nsamples = 3\\nvalue = 3511.719'),\n",
       " Text(165.35618521078092, 70.668, 'mse = 0.0\\nsamples = 1\\nvalue = 3591.48'),\n",
       " Text(165.97318590186592, 70.668, 'X[3] <= 0.5\\nmse = 827.952\\nsamples = 2\\nvalue = 3471.838'),\n",
       " Text(165.66468555632343, 59.79599999999999, 'mse = 0.0\\nsamples = 1\\nvalue = 3443.064'),\n",
       " Text(166.28168624740843, 59.79599999999999, 'mse = 0.0\\nsamples = 1\\nvalue = 3500.612'),\n",
       " Text(170.21506565307533, 92.412, 'X[2] <= 2.5\\nmse = 99382.124\\nsamples = 13\\nvalue = 4017.079'),\n",
       " Text(168.2869384934347, 81.53999999999999, 'X[4] <= 0.5\\nmse = 56436.227\\nsamples = 8\\nvalue = 3851.312'),\n",
       " Text(167.20718728403594, 70.668, 'X[0] <= 25.5\\nmse = 9268.565\\nsamples = 3\\nvalue = 4053.005'),\n",
       " Text(166.89868693849343, 59.79599999999999, 'mse = 0.0\\nsamples = 1\\nvalue = 4189.113'),\n",
       " Text(167.51568762957842, 59.79599999999999, 'X[9] <= 0.5\\nmse = 8.848\\nsamples = 2\\nvalue = 3984.951'),\n",
       " Text(167.20718728403594, 48.92400000000001, 'mse = 0.0\\nsamples = 1\\nvalue = 3987.926'),\n",
       " Text(167.82418797512094, 48.92400000000001, 'mse = -0.0\\nsamples = 1\\nvalue = 3981.977'),\n",
       " Text(169.36668970283344, 70.668, 'X[1] <= 29.688\\nmse = 45683.777\\nsamples = 5\\nvalue = 3730.296'),\n",
       " Text(168.74968901174844, 59.79599999999999, 'X[8] <= 0.5\\nmse = 712.143\\nsamples = 2\\nvalue = 3511.017'),\n",
       " Text(168.44118866620593, 48.92400000000001, 'mse = 0.0\\nsamples = 1\\nvalue = 3484.331'),\n",
       " Text(169.05818935729093, 48.92400000000001, 'mse = 0.0\\nsamples = 1\\nvalue = 3537.703'),\n",
       " ...]"
      ]
     },
     "execution_count": 426,
     "metadata": {},
     "output_type": "execute_result"
    },
    {
     "data": {
      "image/png": "[encoded data removed]",
      "text/plain": [
       "<Figure size 432x288 with 1 Axes>"
      ]
     },
     "metadata": {
      "needs_background": "light"
     },
     "output_type": "display_data"
    }
   ],
   "source": [
    "plot_tree(DT)"
   ]
  },
  {
   "cell_type": "markdown",
   "id": "db4b833a",
   "metadata": {},
   "source": [
    "## 2 pipeline"
   ]
  },
  {
   "cell_type": "code",
   "execution_count": 398,
   "id": "5d8c02fb",
   "metadata": {},
   "outputs": [],
   "source": [
    "parameters={\n",
    "    'dt__splitter':[\"best\",\"random\"],\n",
    "    'dt__max_depth' : [1,2,3,4,5],\n",
    "    'dt__min_samples_leaf':[3,5,7,9,11,13,15]}"
   ]
  },
  {
   "cell_type": "code",
   "execution_count": 399,
   "id": "8a104a6c",
   "metadata": {},
   "outputs": [],
   "source": [
    "#tuning_model = GridSearchCV(my_pipeline,param_grid = parameters, scoring={'MAE':'neg_mean_absolute_error', 'RMSE':rmse, 'R2':'r2'},refit=False,cv=10)\n",
    "tuning_model = GridSearchCV(my_pipeline,param_grid = parameters, scoring='r2',cv=10)"
   ]
  },
  {
   "cell_type": "code",
   "execution_count": 400,
   "id": "76376664",
   "metadata": {},
   "outputs": [],
   "source": [
    "tuning_modelFit = tuning_model.fit(X_train, y_train)"
   ]
  },
  {
   "cell_type": "code",
   "execution_count": 401,
   "id": "d595e222",
   "metadata": {},
   "outputs": [
    {
     "data": {
      "text/plain": [
       "0.8432780918925605"
      ]
     },
     "execution_count": 401,
     "metadata": {},
     "output_type": "execute_result"
    }
   ],
   "source": [
    "bestR2 = tuning_modelFit.best_score_\n",
    "bestR2"
   ]
  },
  {
   "cell_type": "code",
   "execution_count": 402,
   "id": "c8f28804",
   "metadata": {},
   "outputs": [
    {
     "data": {
      "text/plain": [
       "{'dt__max_depth': 5, 'dt__min_samples_leaf': 11, 'dt__splitter': 'best'}"
      ]
     },
     "execution_count": 402,
     "metadata": {},
     "output_type": "execute_result"
    }
   ],
   "source": [
    "bestParams = tuning_modelFit.best_params_\n",
    "bestParams"
   ]
  },
  {
   "cell_type": "code",
   "execution_count": 527,
   "id": "26d93f4d",
   "metadata": {},
   "outputs": [
    {
     "data": {
      "text/plain": [
       "{'fit_time': (0.0103759765625, 0.0014229013595732265),\n",
       " 'score_time': (0.005088996887207031, 0.0007028425708646715),\n",
       " 'test_MAE': (-2651.1430072279004, 304.1947231888659),\n",
       " 'test_RMSE': (-4619.166849729152, 645.6979508356153),\n",
       " 'test_R2': (0.8432780918925606, 0.05132428066514047)}"
      ]
     },
     "execution_count": 527,
     "metadata": {},
     "output_type": "execute_result"
    }
   ],
   "source": [
    "DTOpt = DecisionTreeRegressor(max_depth = 5, min_samples_leaf =11, splitter = 'best')\n",
    "my_pipelineOpt =Pipeline(steps = [\n",
    "                         ('preprocessor',preprocessor),\n",
    "                         ('dt',DTOpt)\n",
    "                         ]\n",
    "                     )\n",
    "\n",
    "cv_dictOpt = cross_validate(my_pipelineOpt, X_train, y_train, cv = 10, scoring={'MAE':'neg_mean_absolute_error', 'RMSE':rmse, 'R2':'r2'})\n",
    "error_stats(cv_dictOpt)"
   ]
  },
  {
   "cell_type": "code",
   "execution_count": 528,
   "id": "e0fa8a0c",
   "metadata": {},
   "outputs": [],
   "source": [
    "y_hat_DTOpt = my_pipelineOpt.fit(X_train, y_train).predict(X_test)"
   ]
  },
  {
   "cell_type": "code",
   "execution_count": 529,
   "id": "5e57a7bb",
   "metadata": {},
   "outputs": [
    {
     "data": {
      "text/plain": [
       "(0.0, 65000.0)"
      ]
     },
     "execution_count": 529,
     "metadata": {},
     "output_type": "execute_result"
    },
    {
     "data": {
      "image/png": "[encoded data removed]",
      "text/plain": [
       "<Figure size 432x288 with 1 Axes>"
      ]
     },
     "metadata": {
      "needs_background": "light"
     },
     "output_type": "display_data"
    }
   ],
   "source": [
    "plt.scatter(y_test, y_hat_DTOpt)\n",
    "ax = plt.gca()\n",
    "ax.set_ylim([0, 65000])"
   ]
  },
  {
   "cell_type": "code",
   "execution_count": 530,
   "id": "b4468c36",
   "metadata": {},
   "outputs": [
    {
     "data": {
      "text/html": [
       "<div>\n",
       "<style scoped>\n",
       "    .dataframe tbody tr th:only-of-type {\n",
       "        vertical-align: middle;\n",
       "    }\n",
       "\n",
       "    .dataframe tbody tr th {\n",
       "        vertical-align: top;\n",
       "    }\n",
       "\n",
       "    .dataframe thead th {\n",
       "        text-align: right;\n",
       "    }\n",
       "</style>\n",
       "<table border=\"1\" class=\"dataframe\">\n",
       "  <thead>\n",
       "    <tr style=\"text-align: right;\">\n",
       "      <th></th>\n",
       "      <th>y_test</th>\n",
       "      <th>y_hat</th>\n",
       "    </tr>\n",
       "  </thead>\n",
       "  <tbody>\n",
       "    <tr>\n",
       "      <th>397</th>\n",
       "      <td>16586.49771</td>\n",
       "      <td>2533.063837</td>\n",
       "    </tr>\n",
       "    <tr>\n",
       "      <th>338</th>\n",
       "      <td>41919.09700</td>\n",
       "      <td>39545.981878</td>\n",
       "    </tr>\n",
       "    <tr>\n",
       "      <th>918</th>\n",
       "      <td>13041.92100</td>\n",
       "      <td>13947.943918</td>\n",
       "    </tr>\n",
       "    <tr>\n",
       "      <th>1271</th>\n",
       "      <td>3021.80915</td>\n",
       "      <td>4224.434537</td>\n",
       "    </tr>\n",
       "    <tr>\n",
       "      <th>933</th>\n",
       "      <td>7348.14200</td>\n",
       "      <td>11089.016025</td>\n",
       "    </tr>\n",
       "    <tr>\n",
       "      <th>...</th>\n",
       "      <td>...</td>\n",
       "      <td>...</td>\n",
       "    </tr>\n",
       "    <tr>\n",
       "      <th>374</th>\n",
       "      <td>1391.52870</td>\n",
       "      <td>2533.063837</td>\n",
       "    </tr>\n",
       "    <tr>\n",
       "      <th>717</th>\n",
       "      <td>13112.60480</td>\n",
       "      <td>18401.712334</td>\n",
       "    </tr>\n",
       "    <tr>\n",
       "      <th>464</th>\n",
       "      <td>1632.03625</td>\n",
       "      <td>2533.063837</td>\n",
       "    </tr>\n",
       "    <tr>\n",
       "      <th>863</th>\n",
       "      <td>5458.04645</td>\n",
       "      <td>5417.449137</td>\n",
       "    </tr>\n",
       "    <tr>\n",
       "      <th>600</th>\n",
       "      <td>1633.04440</td>\n",
       "      <td>2533.063837</td>\n",
       "    </tr>\n",
       "  </tbody>\n",
       "</table>\n",
       "<p>335 rows × 2 columns</p>\n",
       "</div>"
      ],
      "text/plain": [
       "           y_test         y_hat\n",
       "397   16586.49771   2533.063837\n",
       "338   41919.09700  39545.981878\n",
       "918   13041.92100  13947.943918\n",
       "1271   3021.80915   4224.434537\n",
       "933    7348.14200  11089.016025\n",
       "...           ...           ...\n",
       "374    1391.52870   2533.063837\n",
       "717   13112.60480  18401.712334\n",
       "464    1632.03625   2533.063837\n",
       "863    5458.04645   5417.449137\n",
       "600    1633.04440   2533.063837\n",
       "\n",
       "[335 rows x 2 columns]"
      ]
     },
     "execution_count": 530,
     "metadata": {},
     "output_type": "execute_result"
    }
   ],
   "source": [
    "dataOpt = {'y_test': y_test,\n",
    "        'y_hat':y_hat_DTOpt}\n",
    "  \n",
    "dfOpt = pnd.DataFrame(dataOpt)\n",
    "\n",
    "dfOpt"
   ]
  },
  {
   "cell_type": "code",
   "execution_count": 531,
   "id": "186bb35e",
   "metadata": {},
   "outputs": [
    {
     "name": "stdout",
     "output_type": "stream",
     "text": [
      "MAE: 2580.97935100273\n",
      "MSE: 18962949.502745308\n",
      "RMSE: 4354.6468861143385\n",
      "R2: 0.8673195156723756\n"
     ]
    }
   ],
   "source": [
    "stats2 = stats(y_test,y_hat_DTOpt)"
   ]
  },
  {
   "cell_type": "code",
   "execution_count": 532,
   "id": "07d3a1bb",
   "metadata": {},
   "outputs": [
    {
     "data": {
      "image/png": "[encoded data removed]",
      "text/plain": [
       "<Figure size 1440x720 with 1 Axes>"
      ]
     },
     "metadata": {
      "needs_background": "light"
     },
     "output_type": "display_data"
    }
   ],
   "source": [
    "fig = plt.figure(figsize=(20, 10))\n",
    "ax = fig.gca()\n",
    "fig = plot_tree(DTOpt, ax=ax)"
   ]
  },
  {
   "cell_type": "markdown",
   "id": "436e19fb",
   "metadata": {},
   "source": [
    "## 3 pipeline"
   ]
  },
  {
   "cell_type": "code",
   "execution_count": 298,
   "id": "db56bb50",
   "metadata": {},
   "outputs": [],
   "source": [
    "parametersNew={\"dt__splitter\":[\"best\",\"random\"],\n",
    "            \"dt__max_depth\" : [1,2,3,4,5],\n",
    "           \"dt__min_samples_leaf\":[1,2,3,4,5,6,7,8,9,10],\n",
    "           \"dt__min_weight_fraction_leaf\":[0.1,0.2,0.3,0.4,0.5,0.6,0.7,0.8,0.9],\n",
    "           \"dt__max_features\":[\"auto\",\"log2\",\"sqrt\",None],\n",
    "           \"dt__max_leaf_nodes\":[None,10,20,30,40,50,60,70,80,90] }"
   ]
  },
  {
   "cell_type": "code",
   "execution_count": 299,
   "id": "3baa181a",
   "metadata": {},
   "outputs": [],
   "source": [
    "tuning_modelNew = GridSearchCV(my_pipeline,param_grid = parametersNew, scoring='r2',cv=5)"
   ]
  },
  {
   "cell_type": "code",
   "execution_count": null,
   "id": "5d07de85",
   "metadata": {},
   "outputs": [],
   "source": [
    "tuning_modelNew.fit(X_train, y_train)"
   ]
  },
  {
   "cell_type": "code",
   "execution_count": 327,
   "id": "e69e1f2d",
   "metadata": {},
   "outputs": [
    {
     "name": "stdout",
     "output_type": "stream",
     "text": [
      "0.7608061968903254\n",
      "{'dt__max_depth': 4, 'dt__max_features': 'auto', 'dt__max_leaf_nodes': None, 'dt__min_samples_leaf': 1, 'dt__min_weight_fraction_leaf': 0.1, 'dt__splitter': 'best'}\n"
     ]
    }
   ],
   "source": [
    "bestR2New = tuning_modelNew.best_score_\n",
    "print(bestR2New)\n",
    "bestParamsNew = tuning_modelNew.best_params_\n",
    "print(bestParamsNew)"
   ]
  },
  {
   "cell_type": "code",
   "execution_count": 331,
   "id": "ab21955d",
   "metadata": {},
   "outputs": [],
   "source": [
    "DTNew = DecisionTreeRegressor(max_depth = 4, max_features = 'auto', max_leaf_nodes = None, min_samples_leaf = 1, min_weight_fraction_leaf = 0.1, splitter = 'best')\n"
   ]
  },
  {
   "cell_type": "code",
   "execution_count": 334,
   "id": "2114157c",
   "metadata": {},
   "outputs": [],
   "source": [
    "my_pipelineNew =Pipeline(steps = [\n",
    "                         ('preprocessor',preprocessor),\n",
    "                         ('dt',DTNew)\n",
    "                         ]\n",
    "                     )\n",
    "y_hat_DTNew = my_pipelineNew.fit(X_train, y_train).predict(X_test)"
   ]
  },
  {
   "cell_type": "code",
   "execution_count": 340,
   "id": "c243d484",
   "metadata": {},
   "outputs": [
    {
     "data": {
      "text/plain": [
       "(0.0, 55000.0)"
      ]
     },
     "execution_count": 340,
     "metadata": {},
     "output_type": "execute_result"
    },
    {
     "data": {
      "image/png": "[encoded data removed]",
      "text/plain": [
       "<Figure size 432x288 with 1 Axes>"
      ]
     },
     "metadata": {
      "needs_background": "light"
     },
     "output_type": "display_data"
    }
   ],
   "source": [
    "plt.scatter(y_test, y_hat_DTNew)\n",
    "ax = plt.gca()\n",
    "ax.set_ylim([0, 55000])"
   ]
  },
  {
   "cell_type": "code",
   "execution_count": 423,
   "id": "256be039",
   "metadata": {},
   "outputs": [
    {
     "data": {
      "text/html": [
       "<div>\n",
       "<style scoped>\n",
       "    .dataframe tbody tr th:only-of-type {\n",
       "        vertical-align: middle;\n",
       "    }\n",
       "\n",
       "    .dataframe tbody tr th {\n",
       "        vertical-align: top;\n",
       "    }\n",
       "\n",
       "    .dataframe thead th {\n",
       "        text-align: right;\n",
       "    }\n",
       "</style>\n",
       "<table border=\"1\" class=\"dataframe\">\n",
       "  <thead>\n",
       "    <tr style=\"text-align: right;\">\n",
       "      <th></th>\n",
       "      <th>y_test</th>\n",
       "      <th>y_hat</th>\n",
       "    </tr>\n",
       "  </thead>\n",
       "  <tbody>\n",
       "    <tr>\n",
       "      <th>397</th>\n",
       "      <td>16586.49771</td>\n",
       "      <td>7745.195398</td>\n",
       "    </tr>\n",
       "    <tr>\n",
       "      <th>338</th>\n",
       "      <td>41919.09700</td>\n",
       "      <td>3558.421608</td>\n",
       "    </tr>\n",
       "    <tr>\n",
       "      <th>918</th>\n",
       "      <td>13041.92100</td>\n",
       "      <td>5930.698101</td>\n",
       "    </tr>\n",
       "    <tr>\n",
       "      <th>1271</th>\n",
       "      <td>3021.80915</td>\n",
       "      <td>3558.421608</td>\n",
       "    </tr>\n",
       "    <tr>\n",
       "      <th>933</th>\n",
       "      <td>7348.14200</td>\n",
       "      <td>10113.446559</td>\n",
       "    </tr>\n",
       "    <tr>\n",
       "      <th>...</th>\n",
       "      <td>...</td>\n",
       "      <td>...</td>\n",
       "    </tr>\n",
       "    <tr>\n",
       "      <th>374</th>\n",
       "      <td>1391.52870</td>\n",
       "      <td>34897.272566</td>\n",
       "    </tr>\n",
       "    <tr>\n",
       "      <th>717</th>\n",
       "      <td>13112.60480</td>\n",
       "      <td>5930.698101</td>\n",
       "    </tr>\n",
       "    <tr>\n",
       "      <th>464</th>\n",
       "      <td>1632.03625</td>\n",
       "      <td>13774.022883</td>\n",
       "    </tr>\n",
       "    <tr>\n",
       "      <th>863</th>\n",
       "      <td>5458.04645</td>\n",
       "      <td>10113.446559</td>\n",
       "    </tr>\n",
       "    <tr>\n",
       "      <th>600</th>\n",
       "      <td>1633.04440</td>\n",
       "      <td>7745.195398</td>\n",
       "    </tr>\n",
       "  </tbody>\n",
       "</table>\n",
       "<p>335 rows × 2 columns</p>\n",
       "</div>"
      ],
      "text/plain": [
       "           y_test         y_hat\n",
       "397   16586.49771   7745.195398\n",
       "338   41919.09700   3558.421608\n",
       "918   13041.92100   5930.698101\n",
       "1271   3021.80915   3558.421608\n",
       "933    7348.14200  10113.446559\n",
       "...           ...           ...\n",
       "374    1391.52870  34897.272566\n",
       "717   13112.60480   5930.698101\n",
       "464    1632.03625  13774.022883\n",
       "863    5458.04645  10113.446559\n",
       "600    1633.04440   7745.195398\n",
       "\n",
       "[335 rows x 2 columns]"
      ]
     },
     "execution_count": 423,
     "metadata": {},
     "output_type": "execute_result"
    }
   ],
   "source": [
    "dataNew = {'y_test': y_test,\n",
    "        'y_hat':y_hat_DTNew}\n",
    "  \n",
    "dfNew = pnd.DataFrame(dataNew)\n",
    "\n",
    "dfNew"
   ]
  },
  {
   "cell_type": "code",
   "execution_count": 424,
   "id": "6b710015",
   "metadata": {},
   "outputs": [
    {
     "name": "stdout",
     "output_type": "stream",
     "text": [
      "MAE: 11413.139626541011\n",
      "MSE: 241755168.82531625\n",
      "RMSE: 15548.478022794265\n",
      "R2: -0.6915191850194933\n"
     ]
    }
   ],
   "source": [
    "stats3 = stats(y_test, y_hat_DTNew)"
   ]
  },
  {
   "cell_type": "markdown",
   "id": "cb272e86",
   "metadata": {},
   "source": [
    "## 4 Pipeline"
   ]
  },
  {
   "cell_type": "code",
   "execution_count": 473,
   "id": "e948b8d2",
   "metadata": {},
   "outputs": [],
   "source": [
    "std_slc = StandardScaler()\n",
    "pca = decomposition.PCA()\n",
    "d_t = DecisionTreeRegressor()"
   ]
  },
  {
   "cell_type": "code",
   "execution_count": 474,
   "id": "29eb8fbf",
   "metadata": {},
   "outputs": [],
   "source": [
    "pipe = Pipeline(steps=[ ('preprocessor',preprocessor),\n",
    "                        ('std_slc', std_slc),\n",
    "                        ('pca', pca),\n",
    "                        ('dt', d_t)])"
   ]
  },
  {
   "cell_type": "code",
   "execution_count": 475,
   "id": "e34b1eb4",
   "metadata": {},
   "outputs": [],
   "source": [
    "n_components = list(range(1,6,1))"
   ]
  },
  {
   "cell_type": "code",
   "execution_count": 476,
   "id": "6efbf7b7",
   "metadata": {},
   "outputs": [],
   "source": [
    "min_samples_leaf = [1,2,3,4,5,6,7,8,9,10]\n",
    "max_depth = [1,2,3,4,5]"
   ]
  },
  {
   "cell_type": "code",
   "execution_count": 477,
   "id": "7571ae3b",
   "metadata": {},
   "outputs": [],
   "source": [
    "parameters4 = dict(pca__n_components=n_components,\n",
    "                      dt__min_samples_leaf=min_samples_leaf,\n",
    "                      dt__max_depth=max_depth)"
   ]
  },
  {
   "cell_type": "code",
   "execution_count": 485,
   "id": "1579aa83",
   "metadata": {},
   "outputs": [],
   "source": [
    "dt4 = GridSearchCV(pipe, parameters4)\n",
    "y_hat_fit4 = dt4.fit(X_train, y_train)"
   ]
  },
  {
   "cell_type": "code",
   "execution_count": 486,
   "id": "b01fca4f",
   "metadata": {},
   "outputs": [],
   "source": [
    "bestParams4 = dt4.best_params_\n",
    "bestScore4 = dt4.best_score_"
   ]
  },
  {
   "cell_type": "code",
   "execution_count": null,
   "id": "17763049",
   "metadata": {},
   "outputs": [],
   "source": []
  },
  {
   "cell_type": "code",
   "execution_count": 487,
   "id": "0c14e753",
   "metadata": {},
   "outputs": [
    {
     "name": "stdout",
     "output_type": "stream",
     "text": [
      "{'dt__max_depth': 5, 'dt__min_samples_leaf': 2, 'pca__n_components': 4}\n",
      "0.7080657628365709\n"
     ]
    }
   ],
   "source": [
    "print(bestParams4)\n",
    "print(bestScore4)"
   ]
  },
  {
   "cell_type": "code",
   "execution_count": 490,
   "id": "0af97960",
   "metadata": {},
   "outputs": [],
   "source": [
    "DT4 = DecisionTreeRegressor(max_depth = 5, min_samples_leaf = 2)"
   ]
  },
  {
   "cell_type": "code",
   "execution_count": 491,
   "id": "4770c776",
   "metadata": {},
   "outputs": [],
   "source": [
    "my_pipeline4 =Pipeline(steps = [\n",
    "                         ('preprocessor',preprocessor),\n",
    "                         ('dt',DT4)\n",
    "                         ]\n",
    "                     )\n",
    "y_hat_DT4 = my_pipeline4.fit(X_train, y_train).predict(X_test)"
   ]
  },
  {
   "cell_type": "code",
   "execution_count": 495,
   "id": "44919c71",
   "metadata": {},
   "outputs": [
    {
     "data": {
      "text/plain": [
       "(0.0, 65000.0)"
      ]
     },
     "execution_count": 495,
     "metadata": {},
     "output_type": "execute_result"
    },
    {
     "data": {
      "image/png": "[encoded data removed]",
      "text/plain": [
       "<Figure size 432x288 with 1 Axes>"
      ]
     },
     "metadata": {
      "needs_background": "light"
     },
     "output_type": "display_data"
    }
   ],
   "source": [
    "plt.scatter(y_test, y_hat_DT4)\n",
    "ax = plt.gca()\n",
    "ax.set_ylim([0, 65000])"
   ]
  },
  {
   "cell_type": "code",
   "execution_count": 496,
   "id": "16e2b6db",
   "metadata": {},
   "outputs": [
    {
     "data": {
      "text/html": [
       "<div>\n",
       "<style scoped>\n",
       "    .dataframe tbody tr th:only-of-type {\n",
       "        vertical-align: middle;\n",
       "    }\n",
       "\n",
       "    .dataframe tbody tr th {\n",
       "        vertical-align: top;\n",
       "    }\n",
       "\n",
       "    .dataframe thead th {\n",
       "        text-align: right;\n",
       "    }\n",
       "</style>\n",
       "<table border=\"1\" class=\"dataframe\">\n",
       "  <thead>\n",
       "    <tr style=\"text-align: right;\">\n",
       "      <th></th>\n",
       "      <th>y_test</th>\n",
       "      <th>y_hat</th>\n",
       "    </tr>\n",
       "  </thead>\n",
       "  <tbody>\n",
       "    <tr>\n",
       "      <th>397</th>\n",
       "      <td>16586.49771</td>\n",
       "      <td>2533.063837</td>\n",
       "    </tr>\n",
       "    <tr>\n",
       "      <th>338</th>\n",
       "      <td>41919.09700</td>\n",
       "      <td>39545.981877</td>\n",
       "    </tr>\n",
       "    <tr>\n",
       "      <th>918</th>\n",
       "      <td>13041.92100</td>\n",
       "      <td>13947.943918</td>\n",
       "    </tr>\n",
       "    <tr>\n",
       "      <th>1271</th>\n",
       "      <td>3021.80915</td>\n",
       "      <td>4224.434537</td>\n",
       "    </tr>\n",
       "    <tr>\n",
       "      <th>933</th>\n",
       "      <td>7348.14200</td>\n",
       "      <td>11089.016025</td>\n",
       "    </tr>\n",
       "    <tr>\n",
       "      <th>...</th>\n",
       "      <td>...</td>\n",
       "      <td>...</td>\n",
       "    </tr>\n",
       "    <tr>\n",
       "      <th>374</th>\n",
       "      <td>1391.52870</td>\n",
       "      <td>2533.063837</td>\n",
       "    </tr>\n",
       "    <tr>\n",
       "      <th>717</th>\n",
       "      <td>13112.60480</td>\n",
       "      <td>18401.712334</td>\n",
       "    </tr>\n",
       "    <tr>\n",
       "      <th>464</th>\n",
       "      <td>1632.03625</td>\n",
       "      <td>2533.063837</td>\n",
       "    </tr>\n",
       "    <tr>\n",
       "      <th>863</th>\n",
       "      <td>5458.04645</td>\n",
       "      <td>13242.404930</td>\n",
       "    </tr>\n",
       "    <tr>\n",
       "      <th>600</th>\n",
       "      <td>1633.04440</td>\n",
       "      <td>2533.063837</td>\n",
       "    </tr>\n",
       "  </tbody>\n",
       "</table>\n",
       "<p>335 rows × 2 columns</p>\n",
       "</div>"
      ],
      "text/plain": [
       "           y_test         y_hat\n",
       "397   16586.49771   2533.063837\n",
       "338   41919.09700  39545.981877\n",
       "918   13041.92100  13947.943918\n",
       "1271   3021.80915   4224.434537\n",
       "933    7348.14200  11089.016025\n",
       "...           ...           ...\n",
       "374    1391.52870   2533.063837\n",
       "717   13112.60480  18401.712334\n",
       "464    1632.03625   2533.063837\n",
       "863    5458.04645  13242.404930\n",
       "600    1633.04440   2533.063837\n",
       "\n",
       "[335 rows x 2 columns]"
      ]
     },
     "execution_count": 496,
     "metadata": {},
     "output_type": "execute_result"
    }
   ],
   "source": [
    "data4 = {'y_test': y_test,\n",
    "        'y_hat':y_hat_DT4}\n",
    "  \n",
    "df4 = pnd.DataFrame(data4)\n",
    "\n",
    "df4"
   ]
  },
  {
   "cell_type": "code",
   "execution_count": 533,
   "id": "59d96f55",
   "metadata": {},
   "outputs": [
    {
     "name": "stdout",
     "output_type": "stream",
     "text": [
      "MAE: 2570.979608369775\n",
      "MSE: 19086225.062912147\n",
      "RMSE: 4368.778440584067\n",
      "R2: 0.8664569778574472\n"
     ]
    }
   ],
   "source": [
    "stats4 = stats(y_test, y_hat_DT4)"
   ]
  },
  {
   "cell_type": "code",
   "execution_count": 508,
   "id": "4fabd00f",
   "metadata": {},
   "outputs": [
    {
     "name": "stdout",
     "output_type": "stream",
     "text": [
      "Model 1\n",
      "{'MAE': 2780.8034081761193, 'MSE': 37444023.97650862, 'RMSE': 6119.152226943584, 'R2': 0.7380106277423193}\n",
      "Model 2\n",
      "{'MAE': 2745.8670322602707, 'MSE': 19693318.30038361, 'RMSE': 4437.715437067096, 'R2': 0.8622092512699733}\n",
      "Model 3\n",
      "{'MAE': 11413.139626541011, 'MSE': 241755168.82531625, 'RMSE': 15548.478022794265, 'R2': -0.6915191850194933}\n",
      "Model 4\n",
      "{'MAE': 2570.979608369775, 'MSE': 19086225.062912147, 'RMSE': 4368.778440584067, 'R2': 0.8664569778574472}\n"
     ]
    }
   ],
   "source": [
    "print('Model 1')\n",
    "print(stats1)\n",
    "print('Model 2')\n",
    "print(stats2)\n",
    "print('Model 3')\n",
    "print(stats3)\n",
    "print('Model 4')\n",
    "print(stats4)"
   ]
  },
  {
   "cell_type": "code",
   "execution_count": 181,
   "id": "20bfbcc2",
   "metadata": {},
   "outputs": [],
   "source": [
    "# #OHE = OneHotEncoder(handle_unknown='ignore', sparse = False) \n",
    "# def impute_values(X):\n",
    "\n",
    "#     X_cat = X.select_dtypes(include = 'object')\n",
    "#     cat_cols = X_cat.columns # save attribu\n",
    "\n",
    "#     X_num = X.select_dtypes(exclude = 'object')\n",
    "#     num_cols = X_num.columns\n",
    "\n",
    "#     imp = SimpleImputer(missing_values=np.nan, strategy='mean')\n",
    "#     X_num = imp.fit_transform(X_num)\n",
    "\n",
    "#     imp = SimpleImputer(missing_values=np.nan, strategy='most_frequent')\n",
    "#     X_cat = imp.fit_transform(X_cat)\n",
    "#     return (X_num, num_cols, X_cat, cat_cols)\n",
    "\n",
    "# X_num_train, num_cols_train, X_cat_train, cat_cols_train = impute_values (X_train)\n",
    "\n",
    "# X_num_test, num_cols_test, X_cat_test, cat_cols_test = impute_values (X_test)\n",
    "\n",
    "# ohe_fitted = OHE.fit(X_cat_train)\n",
    "\n",
    "# X_cat_prep_train = ohe_fitted.transform(X_cat_train)\n",
    "# X_cat_prep_test = ohe_fitted.transform(X_cat_test)\n",
    "\n",
    "# #spajamo\n",
    "# X_train = np.concatenate((X_num_train, X_cat_prep_train), axis = 1)\n",
    "# X_test = np.concatenate((X_num_test, X_cat_prep_test), axis = 1)\n",
    "\n"
   ]
  }
 ],
 "metadata": {
  "kernelspec": {
   "display_name": "Python 3 (ipykernel)",
   "language": "python",
   "name": "python3"
  },
  "language_info": {
   "codemirror_mode": {
    "name": "ipython",
    "version": 3
   },
   "file_extension": ".py",
   "mimetype": "text/x-python",
   "name": "python",
   "nbconvert_exporter": "python",
   "pygments_lexer": "ipython3",
   "version": "3.9.7"
  }
 },
 "nbformat": 4,
 "nbformat_minor": 5
}
